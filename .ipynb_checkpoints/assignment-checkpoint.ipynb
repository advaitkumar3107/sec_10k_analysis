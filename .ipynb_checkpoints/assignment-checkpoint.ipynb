{
 "cells": [
  {
   "cell_type": "code",
   "execution_count": 1,
   "id": "9d1424eb",
   "metadata": {},
   "outputs": [
    {
     "name": "stderr",
     "output_type": "stream",
     "text": [
      "[nltk_data] Downloading package punkt to\n",
      "[nltk_data]     /Users/advaitkumar/nltk_data...\n",
      "[nltk_data]   Package punkt is already up-to-date!\n"
     ]
    },
    {
     "data": {
      "text/plain": [
       "True"
      ]
     },
     "execution_count": 1,
     "metadata": {},
     "output_type": "execute_result"
    }
   ],
   "source": [
    "from collections import Counter\n",
    "from sec_edgar_downloader import Downloader\n",
    "import os\n",
    "import fnmatch\n",
    "import nltk\n",
    "from nltk.tokenize import word_tokenize, sent_tokenize\n",
    "import pandas as pd\n",
    "import yfinance as yf\n",
    "import numpy as np\n",
    "import torch\n",
    "import scipy\n",
    "import re\n",
    "from transformers import AutoTokenizer, AutoModelForSequenceClassification\n",
    "from transformers import BertTokenizer, BertForSequenceClassification, pipeline\n",
    "from IPython.core.debugger import set_trace\n",
    "from bs4 import BeautifulSoup\n",
    "nltk.download('punkt')"
   ]
  },
  {
   "cell_type": "code",
   "execution_count": 13,
   "id": "40b0a79f",
   "metadata": {},
   "outputs": [],
   "source": [
    "def checker(directory, year):\n",
    "    if os.path.exists(directory):\n",
    "        pattern = '*-' + str(year % 100) + '-*'\n",
    "        found = False\n",
    "        for filename in os.listdir(directory):\n",
    "            if fnmatch.fnmatch(filename, pattern):\n",
    "                found = True\n",
    "                file = open(directory + '/' + filename + '/' + 'full-submission.txt')\n",
    "                return file\n",
    "        return None\n",
    "    else:\n",
    "        return None"
   ]
  },
  {
   "cell_type": "code",
   "execution_count": 14,
   "id": "0067df10",
   "metadata": {},
   "outputs": [],
   "source": [
    "def get_competitors(sheet_name, num_neighbours, ticker):\n",
    "# ticker = 'GOOGL'\n",
    "# df = pd.read_csv('all_stocks.csv')\n",
    "    df = pd.read_csv(sheet_name)\n",
    "    x = df[(df.Symbol == ticker)]\n",
    "    temp = df[df.Industry == x.Industry.iloc[0]]\n",
    "    temp['Market Cap'] = temp['Market Cap'].astype(float).astype(int)\n",
    "    temp['cap_diff'] = np.abs(temp['Market Cap'] - int(float(x['Market Cap'].iloc[0])))\n",
    "    temp = temp.sort_values('cap_diff').Symbol.head(num_neighbours).tolist()\n",
    "    return temp"
   ]
  },
  {
   "cell_type": "code",
   "execution_count": 15,
   "id": "9842dcb9",
   "metadata": {},
   "outputs": [],
   "source": [
    "def get_section_location(text):\n",
    "    regex = re.compile(r'(>Item(\\s|&#160;|&nbsp;|&#xA0;)(1\\.|1A|1B|1C|2|3|4|5|6|7|7A|8)\\.{0,1})|(>ITEM(\\s|&#160;|&nbsp;|&#xA0;)(1\\.|1A|1B|1C|2|3|4|5|6|7|7A|8))')\n",
    "    matches = regex.finditer(text)\n",
    "\n",
    "    test_df = pd.DataFrame([[x.group(), x.start(), x.end()] for x in matches])\n",
    "    test_df.columns = ['group', 'start_idx', 'end_idx']\n",
    "    test_df.group = test_df.group.str.lower()\n",
    "    \n",
    "    test_df.replace('&#160;',' ',regex=True,inplace=True)\n",
    "    test_df.replace('&nbsp;',' ',regex=True,inplace=True)\n",
    "    test_df.replace('&#xa0;',' ',regex=True,inplace=True)\n",
    "\n",
    "    test_df.replace(' ','',regex=True,inplace=True)\n",
    "    test_df.replace('\\.','',regex=True,inplace=True)\n",
    "    test_df.replace('>','',regex=True,inplace=True)\n",
    "\n",
    "    test_df = test_df.drop_duplicates('group', keep = 'last')\n",
    "    test_df.index = range(len(test_df))\n",
    "    test_df = test_df.set_index('group')\n",
    "    \n",
    "    return text, test_df"
   ]
  },
  {
   "cell_type": "code",
   "execution_count": 16,
   "id": "6c82b181",
   "metadata": {},
   "outputs": [],
   "source": [
    "def process_text(text, section, test_df):\n",
    "    location = 'item' + section\n",
    "    index_list = test_df.index.tolist()\n",
    "    curr_index = index_list.index(location)\n",
    "    item_raw = text[test_df.iloc[curr_index]['start_idx'] : test_df.iloc[curr_index+1]['start_idx']]\n",
    "    soup = BeautifulSoup(item_raw, 'html.parser')\n",
    "    for table in soup.find_all('table'):\n",
    "        table.decompose()\n",
    "\n",
    "    text_act = soup.get_text(separator=' ', strip=True)\n",
    "    text_act = text_act.replace('\\xa0', ' ')\n",
    "\n",
    "    clean_text = ' '.join(text_act.split())\n",
    "    clean_text = re.sub(r'<span style=.*$', '', clean_text)\n",
    "    return clean_text"
   ]
  },
  {
   "cell_type": "code",
   "execution_count": 17,
   "id": "7bdba7ab",
   "metadata": {},
   "outputs": [],
   "source": [
    "def prediction(model, tokenizer, X):\n",
    "    preds = []\n",
    "    preds_proba = []\n",
    "    tokenizer_kwargs = {\"padding\": True, \"truncation\": True, \"max_length\": 512}\n",
    "    for x in X:\n",
    "        with torch.no_grad():\n",
    "            input_sequence = tokenizer(x, return_tensors=\"pt\", **tokenizer_kwargs)\n",
    "            logits = model(**input_sequence).logits\n",
    "            scores = {\n",
    "            k: v\n",
    "            for k, v in zip(\n",
    "                model.config.id2label.values(),\n",
    "                scipy.special.softmax(logits.numpy().squeeze()),\n",
    "            )\n",
    "        }\n",
    "        sentimentFinbert = max(scores, key=scores.get)\n",
    "        probabilityFinbert = max(scores.values())\n",
    "        preds.append(sentimentFinbert)\n",
    "        preds_proba.append(probabilityFinbert)\n",
    "    return preds, preds_proba"
   ]
  },
  {
   "cell_type": "code",
   "execution_count": 27,
   "id": "1748a11f",
   "metadata": {},
   "outputs": [],
   "source": [
    "def create_df(ticker, year, tokenizer, tokenizer_fls, model, model_fls):    \n",
    "    dl = Downloader(\"MyCompanyName\", \"my.email@domain.com\")\n",
    "    directory = 'sec-edgar-filings/' + ticker + '/10-K/'\n",
    "    file = checker(directory, year)\n",
    "\n",
    "    if file is None:\n",
    "        start_date = str(year) + '-01-01'\n",
    "        end_date = str(year) + '-12-31'\n",
    "        dl.get(\"10-K\", ticker, after=start_date, before=end_date)    \n",
    "        file = checker(directory, year)\n",
    "\n",
    "    if file is None:\n",
    "        print(\"10K report for \" + ticker + \" doesn't exist for \" + str(year))\n",
    "        return {'negatives' : np.nan, 'positives' : np.nan, 'fls' : np.nan}\n",
    "    \n",
    "    else:    \n",
    "        text = file.read()\n",
    "        text, section_df = get_section_location(text)\n",
    "\n",
    "        preds_df = pd.DataFrame()\n",
    "        preds_fls_df = pd.DataFrame()\n",
    "\n",
    "        for section in ['1', '1a', '1b', '1c', '2', '3', '4', '7', '7a']:\n",
    "            try:\n",
    "                clean_text = process_text(text, section, section_df)\n",
    "                sentences = sent_tokenize(clean_text)\n",
    "\n",
    "                if (len(sentences) > 5):\n",
    "                    preds = {}\n",
    "                    preds_fls = {}\n",
    "                    preds['preds'], preds['prob'] = prediction(model, tokenizer, sentences)\n",
    "                    preds_fls['preds'], preds_fls['prob'] = prediction(model_fls, tokenizer_fls, sentences)\n",
    "\n",
    "                    preds_df = pd.concat([preds_df, pd.DataFrame(preds)])\n",
    "                    preds_fls_df = pd.concat([preds_fls_df, pd.DataFrame(preds_fls)])\n",
    "\n",
    "                else:\n",
    "                    print('Section ' + section + ' : has too few sentences')\n",
    "\n",
    "            except:\n",
    "                print('Section ' + section + \" doesn't exist in the report\")\n",
    "                continue\n",
    "\n",
    "        pct_positives = len(preds_df[(preds_df.preds == 'positive') & (preds_df.prob > 0.5)])/len(preds_df[(preds_df.prob > 0.5)])\n",
    "        pct_negatives = len(preds_df[(preds_df.preds == 'negative') & (preds_df.prob > 0.5)])/len(preds_df[(preds_df.prob > 0.5)])\n",
    "        pct_fls = len(preds_fls_df[(preds_fls_df.preds != 'Not FLS') & (preds_fls_df.prob > 0.5)])/len(preds_fls_df[(preds_fls_df.prob > 0.5)])\n",
    "\n",
    "        return {'negatives' : pct_negatives, 'positives' : pct_positives, 'fls' : pct_fls}"
   ]
  },
  {
   "cell_type": "code",
   "execution_count": 39,
   "id": "367601d5",
   "metadata": {},
   "outputs": [],
   "source": [
    "def make_plots(fig, df, col, subplot_idx, title_text, legend_x, legend_y):\n",
    "    bar_width = 0.2\n",
    "    num_cols = len(df.columns)\n",
    "    group_width = num_cols * bar_width\n",
    "\n",
    "    for i, column in enumerate(df.columns):\n",
    "        fig.add_trace(\n",
    "            go.Bar(\n",
    "                x=[x + i * bar_width for x in range(len(df))],\n",
    "                y=df[column],\n",
    "                name=column,\n",
    "                text=[f\"{val:.2f}\" for val in df[column]],\n",
    "                textposition='outside',\n",
    "                hoverinfo='text',\n",
    "                hovertext=[f\"{val:.2f}\" for val in df[column]],\n",
    "                width=bar_width,\n",
    "                legendgroup=f'group{subplot_idx}',  # Assign legend group\n",
    "                showlegend=True  # Show legend only for the first trace of each group\n",
    "            ), \n",
    "            row=1, col=subplot_idx\n",
    "        )\n",
    "    \n",
    "    # Update subplot's x-axis\n",
    "    fig.update_xaxes(\n",
    "        tickvals=[x + group_width / 2 - bar_width / 2 for x in range(len(df))],\n",
    "        ticktext=df.index,\n",
    "        row=1, col=subplot_idx\n",
    "    )\n",
    "\n",
    "    # Customize the layout and position the legend\n",
    "    fig.update_layout(\n",
    "        title_text=title_text,\n",
    "        barmode='group',\n",
    "        showlegend=True,\n",
    "        legend=dict(x=legend_x, y=legend_y, orientation=\"h\")\n",
    "    )"
   ]
  },
  {
   "cell_type": "code",
   "execution_count": 29,
   "id": "66bd5712",
   "metadata": {},
   "outputs": [],
   "source": [
    "##### Inputs #####\n",
    "ticker = 'GOOGL'\n",
    "year = 2018"
   ]
  },
  {
   "cell_type": "code",
   "execution_count": 30,
   "id": "4ae03e77",
   "metadata": {
    "scrolled": true
   },
   "outputs": [
    {
     "name": "stderr",
     "output_type": "stream",
     "text": [
      "/var/folders/p5/5wy4s80s1mb5bcs768v3lhv00000gn/T/ipykernel_57289/3423012642.py:7: SettingWithCopyWarning: \n",
      "A value is trying to be set on a copy of a slice from a DataFrame.\n",
      "Try using .loc[row_indexer,col_indexer] = value instead\n",
      "\n",
      "See the caveats in the documentation: https://pandas.pydata.org/pandas-docs/stable/user_guide/indexing.html#returning-a-view-versus-a-copy\n",
      "  temp['Market Cap'] = temp['Market Cap'].astype(float).astype(int)\n",
      "/var/folders/p5/5wy4s80s1mb5bcs768v3lhv00000gn/T/ipykernel_57289/3423012642.py:8: SettingWithCopyWarning: \n",
      "A value is trying to be set on a copy of a slice from a DataFrame.\n",
      "Try using .loc[row_indexer,col_indexer] = value instead\n",
      "\n",
      "See the caveats in the documentation: https://pandas.pydata.org/pandas-docs/stable/user_guide/indexing.html#returning-a-view-versus-a-copy\n",
      "  temp['cap_diff'] = np.abs(temp['Market Cap'] - int(float(x['Market Cap'].iloc[0])))\n"
     ]
    },
    {
     "name": "stdout",
     "output_type": "stream",
     "text": [
      "Section 1b : has too few sentences\n",
      "Section 1c doesn't exist in the report\n",
      "Section 3 : has too few sentences\n",
      "Section 4 : has too few sentences\n",
      "Section 7a doesn't exist in the report\n",
      "Section 1b : has too few sentences\n",
      "Section 1c doesn't exist in the report\n",
      "Section 3 : has too few sentences\n",
      "Section 4 : has too few sentences\n",
      "Section 7a doesn't exist in the report\n",
      "Section 1b : has too few sentences\n",
      "Section 1c doesn't exist in the report\n",
      "Section 4 : has too few sentences\n",
      "Section 7a doesn't exist in the report\n",
      "Section 1b : has too few sentences\n",
      "Section 1c doesn't exist in the report\n",
      "Section 2 : has too few sentences\n",
      "Section 3 : has too few sentences\n",
      "Section 4 : has too few sentences\n",
      "Section 7a doesn't exist in the report\n",
      "Section 1b : has too few sentences\n",
      "Section 1c doesn't exist in the report\n",
      "Section 4 : has too few sentences\n",
      "Section 7a doesn't exist in the report\n",
      "10K report for GOOGL doesn't exist for 2014\n",
      "10K report for GOOGL doesn't exist for 2015\n",
      "Section 1b : has too few sentences\n",
      "Section 1c doesn't exist in the report\n",
      "Section 2 : has too few sentences\n",
      "Section 3 : has too few sentences\n",
      "Section 4 : has too few sentences\n",
      "Section 7a doesn't exist in the report\n",
      "Section 1b : has too few sentences\n",
      "Section 1c doesn't exist in the report\n",
      "Section 3 : has too few sentences\n",
      "Section 4 : has too few sentences\n",
      "Section 7a doesn't exist in the report\n"
     ]
    }
   ],
   "source": [
    "tokenizer = AutoTokenizer.from_pretrained(\"ProsusAI/finbert\")\n",
    "tokenizer_fls = BertTokenizer.from_pretrained(\"yiyanghkust/finbert-fls\")\n",
    "\n",
    "model = AutoModelForSequenceClassification.from_pretrained(\"ProsusAI/finbert\")\n",
    "model_fls = BertForSequenceClassification.from_pretrained(\"yiyanghkust/finbert-fls\")\n",
    "\n",
    "competitors = get_competitors('all_stocks.csv', 5, ticker)\n",
    "competitors_dict = {}\n",
    "historical_dict = {}\n",
    "\n",
    "for stock in competitors:\n",
    "    competitors_dict[stock] = create_df(stock, year, tokenizer, tokenizer_fls, model, model_fls)\n",
    "    if (stock == ticker):\n",
    "        historical_dict[year] = competitors_dict[stock].copy()\n",
    "\n",
    "for curr_year in range(year-4,year):\n",
    "    historical_dict[curr_year] = create_df(ticker, curr_year, tokenizer, tokenizer_fls, model, model_fls)"
   ]
  },
  {
   "cell_type": "code",
   "execution_count": 31,
   "id": "ecc69b6e",
   "metadata": {},
   "outputs": [],
   "source": [
    "historical_df = pd.DataFrame(historical_dict).transpose().sort_index()\n",
    "historical_df_norm = (historical_df - historical_df.mean())/historical_df.std()\n",
    "competitors_df = pd.DataFrame(competitors_dict).transpose()\n",
    "competitors_df_norm = (competitors_df - competitors_df.mean())/competitors_df.std()"
   ]
  },
  {
   "cell_type": "code",
   "execution_count": 32,
   "id": "79e4eac1",
   "metadata": {},
   "outputs": [
    {
     "data": {
      "text/html": [
       "<div>\n",
       "<style scoped>\n",
       "    .dataframe tbody tr th:only-of-type {\n",
       "        vertical-align: middle;\n",
       "    }\n",
       "\n",
       "    .dataframe tbody tr th {\n",
       "        vertical-align: top;\n",
       "    }\n",
       "\n",
       "    .dataframe thead th {\n",
       "        text-align: right;\n",
       "    }\n",
       "</style>\n",
       "<table border=\"1\" class=\"dataframe\">\n",
       "  <thead>\n",
       "    <tr style=\"text-align: right;\">\n",
       "      <th></th>\n",
       "      <th>negatives</th>\n",
       "      <th>positives</th>\n",
       "      <th>fls</th>\n",
       "    </tr>\n",
       "  </thead>\n",
       "  <tbody>\n",
       "    <tr>\n",
       "      <th>2014</th>\n",
       "      <td>NaN</td>\n",
       "      <td>NaN</td>\n",
       "      <td>NaN</td>\n",
       "    </tr>\n",
       "    <tr>\n",
       "      <th>2015</th>\n",
       "      <td>NaN</td>\n",
       "      <td>NaN</td>\n",
       "      <td>NaN</td>\n",
       "    </tr>\n",
       "    <tr>\n",
       "      <th>2016</th>\n",
       "      <td>0.356627</td>\n",
       "      <td>0.125301</td>\n",
       "      <td>0.440758</td>\n",
       "    </tr>\n",
       "    <tr>\n",
       "      <th>2017</th>\n",
       "      <td>0.360775</td>\n",
       "      <td>0.140436</td>\n",
       "      <td>0.444181</td>\n",
       "    </tr>\n",
       "    <tr>\n",
       "      <th>2018</th>\n",
       "      <td>0.368182</td>\n",
       "      <td>0.131818</td>\n",
       "      <td>0.448747</td>\n",
       "    </tr>\n",
       "  </tbody>\n",
       "</table>\n",
       "</div>"
      ],
      "text/plain": [
       "      negatives  positives       fls\n",
       "2014        NaN        NaN       NaN\n",
       "2015        NaN        NaN       NaN\n",
       "2016   0.356627   0.125301  0.440758\n",
       "2017   0.360775   0.140436  0.444181\n",
       "2018   0.368182   0.131818  0.448747"
      ]
     },
     "execution_count": 32,
     "metadata": {},
     "output_type": "execute_result"
    }
   ],
   "source": [
    "historical_df"
   ]
  },
  {
   "cell_type": "code",
   "execution_count": 25,
   "id": "8fecbfab",
   "metadata": {},
   "outputs": [
    {
     "data": {
      "text/html": [
       "<div>\n",
       "<style scoped>\n",
       "    .dataframe tbody tr th:only-of-type {\n",
       "        vertical-align: middle;\n",
       "    }\n",
       "\n",
       "    .dataframe tbody tr th {\n",
       "        vertical-align: top;\n",
       "    }\n",
       "\n",
       "    .dataframe thead th {\n",
       "        text-align: right;\n",
       "    }\n",
       "</style>\n",
       "<table border=\"1\" class=\"dataframe\">\n",
       "  <thead>\n",
       "    <tr style=\"text-align: right;\">\n",
       "      <th></th>\n",
       "      <th>negatives</th>\n",
       "      <th>positives</th>\n",
       "      <th>fls</th>\n",
       "    </tr>\n",
       "  </thead>\n",
       "  <tbody>\n",
       "    <tr>\n",
       "      <th>GOOGL</th>\n",
       "      <td>0.368182</td>\n",
       "      <td>0.131818</td>\n",
       "      <td>0.448747</td>\n",
       "    </tr>\n",
       "    <tr>\n",
       "      <th>GOOG</th>\n",
       "      <td>0.368182</td>\n",
       "      <td>0.131818</td>\n",
       "      <td>0.448747</td>\n",
       "    </tr>\n",
       "    <tr>\n",
       "      <th>META</th>\n",
       "      <td>0.399254</td>\n",
       "      <td>0.087687</td>\n",
       "      <td>0.600365</td>\n",
       "    </tr>\n",
       "    <tr>\n",
       "      <th>TTD</th>\n",
       "      <td>0.389147</td>\n",
       "      <td>0.108527</td>\n",
       "      <td>0.513678</td>\n",
       "    </tr>\n",
       "    <tr>\n",
       "      <th>SNAP</th>\n",
       "      <td>0.377358</td>\n",
       "      <td>0.083726</td>\n",
       "      <td>0.545135</td>\n",
       "    </tr>\n",
       "  </tbody>\n",
       "</table>\n",
       "</div>"
      ],
      "text/plain": [
       "       negatives  positives       fls\n",
       "GOOGL   0.368182   0.131818  0.448747\n",
       "GOOG    0.368182   0.131818  0.448747\n",
       "META    0.399254   0.087687  0.600365\n",
       "TTD     0.389147   0.108527  0.513678\n",
       "SNAP    0.377358   0.083726  0.545135"
      ]
     },
     "execution_count": 25,
     "metadata": {},
     "output_type": "execute_result"
    }
   ],
   "source": [
    "competitors_df"
   ]
  },
  {
   "cell_type": "code",
   "execution_count": 40,
   "id": "997ee7b9",
   "metadata": {},
   "outputs": [
    {
     "data": {
      "application/vnd.plotly.v1+json": {
       "config": {
        "plotlyServerURL": "https://plot.ly"
       },
       "data": [
        {
         "hoverinfo": "text",
         "hovertext": [
          "nan",
          "nan",
          "0.36",
          "0.36",
          "0.37"
         ],
         "legendgroup": "group1",
         "name": "negatives",
         "showlegend": true,
         "text": [
          "nan",
          "nan",
          "0.36",
          "0.36",
          "0.37"
         ],
         "textposition": "outside",
         "type": "bar",
         "width": 0.2,
         "x": [
          0,
          1,
          2,
          3,
          4
         ],
         "xaxis": "x",
         "y": [
          null,
          null,
          0.3566265060240964,
          0.36077481840193704,
          0.36818181818181817
         ],
         "yaxis": "y"
        },
        {
         "hoverinfo": "text",
         "hovertext": [
          "nan",
          "nan",
          "0.13",
          "0.14",
          "0.13"
         ],
         "legendgroup": "group1",
         "name": "positives",
         "showlegend": true,
         "text": [
          "nan",
          "nan",
          "0.13",
          "0.14",
          "0.13"
         ],
         "textposition": "outside",
         "type": "bar",
         "width": 0.2,
         "x": [
          0.2,
          1.2,
          2.2,
          3.2,
          4.2
         ],
         "xaxis": "x",
         "y": [
          null,
          null,
          0.12530120481927712,
          0.14043583535108958,
          0.1318181818181818
         ],
         "yaxis": "y"
        },
        {
         "hoverinfo": "text",
         "hovertext": [
          "nan",
          "nan",
          "0.44",
          "0.44",
          "0.45"
         ],
         "legendgroup": "group1",
         "name": "fls",
         "showlegend": true,
         "text": [
          "nan",
          "nan",
          "0.44",
          "0.44",
          "0.45"
         ],
         "textposition": "outside",
         "type": "bar",
         "width": 0.2,
         "x": [
          0.4,
          1.4,
          2.4,
          3.4,
          4.4
         ],
         "xaxis": "x",
         "y": [
          null,
          null,
          0.44075829383886256,
          0.44418052256532065,
          0.44874715261959
         ],
         "yaxis": "y"
        },
        {
         "hoverinfo": "text",
         "hovertext": [
          "nan",
          "nan",
          "-0.89",
          "-0.19",
          "1.08"
         ],
         "legendgroup": "group2",
         "name": "negatives",
         "showlegend": true,
         "text": [
          "nan",
          "nan",
          "-0.89",
          "-0.19",
          "1.08"
         ],
         "textposition": "outside",
         "type": "bar",
         "width": 0.2,
         "x": [
          0,
          1,
          2,
          3,
          4
         ],
         "xaxis": "x2",
         "y": [
          null,
          null,
          -0.8942222773775022,
          -0.18556167484232253,
          1.0797839522198438
         ],
         "yaxis": "y2"
        },
        {
         "hoverinfo": "text",
         "hovertext": [
          "nan",
          "nan",
          "-0.95",
          "1.04",
          "-0.09"
         ],
         "legendgroup": "group2",
         "name": "positives",
         "showlegend": true,
         "text": [
          "nan",
          "nan",
          "-0.95",
          "1.04",
          "-0.09"
         ],
         "textposition": "outside",
         "type": "bar",
         "width": 0.2,
         "x": [
          0.2,
          1.2,
          2.2,
          3.2,
          4.2
         ],
         "xaxis": "x2",
         "y": [
          null,
          null,
          -0.9506859084834223,
          1.0429231050206893,
          -0.09223719653726715
         ],
         "yaxis": "y2"
        },
        {
         "hoverinfo": "text",
         "hovertext": [
          "nan",
          "nan",
          "-0.95",
          "-0.10",
          "1.04"
         ],
         "legendgroup": "group2",
         "name": "fls",
         "showlegend": true,
         "text": [
          "nan",
          "nan",
          "-0.95",
          "-0.10",
          "1.04"
         ],
         "textposition": "outside",
         "type": "bar",
         "width": 0.2,
         "x": [
          0.4,
          1.4,
          2.4,
          3.4,
          4.4
         ],
         "xaxis": "x2",
         "y": [
          null,
          null,
          -0.9490099559494592,
          -0.09517482474925051,
          1.0441847806986821
         ],
         "yaxis": "y2"
        }
       ],
       "layout": {
        "annotations": [
         {
          "font": {
           "size": 16
          },
          "showarrow": false,
          "text": "Historical Sentiment Analysis",
          "x": 0.225,
          "xanchor": "center",
          "xref": "paper",
          "y": 1,
          "yanchor": "bottom",
          "yref": "paper"
         },
         {
          "font": {
           "size": 16
          },
          "showarrow": false,
          "text": "Historical Sentiment Analysis Normalised",
          "x": 0.775,
          "xanchor": "center",
          "xref": "paper",
          "y": 1,
          "yanchor": "bottom",
          "yref": "paper"
         }
        ],
        "barmode": "group",
        "legend": {
         "orientation": "h",
         "x": 0.6,
         "y": -0.1
        },
        "showlegend": true,
        "template": {
         "data": {
          "bar": [
           {
            "error_x": {
             "color": "#2a3f5f"
            },
            "error_y": {
             "color": "#2a3f5f"
            },
            "marker": {
             "line": {
              "color": "#E5ECF6",
              "width": 0.5
             },
             "pattern": {
              "fillmode": "overlay",
              "size": 10,
              "solidity": 0.2
             }
            },
            "type": "bar"
           }
          ],
          "barpolar": [
           {
            "marker": {
             "line": {
              "color": "#E5ECF6",
              "width": 0.5
             },
             "pattern": {
              "fillmode": "overlay",
              "size": 10,
              "solidity": 0.2
             }
            },
            "type": "barpolar"
           }
          ],
          "carpet": [
           {
            "aaxis": {
             "endlinecolor": "#2a3f5f",
             "gridcolor": "white",
             "linecolor": "white",
             "minorgridcolor": "white",
             "startlinecolor": "#2a3f5f"
            },
            "baxis": {
             "endlinecolor": "#2a3f5f",
             "gridcolor": "white",
             "linecolor": "white",
             "minorgridcolor": "white",
             "startlinecolor": "#2a3f5f"
            },
            "type": "carpet"
           }
          ],
          "choropleth": [
           {
            "colorbar": {
             "outlinewidth": 0,
             "ticks": ""
            },
            "type": "choropleth"
           }
          ],
          "contour": [
           {
            "colorbar": {
             "outlinewidth": 0,
             "ticks": ""
            },
            "colorscale": [
             [
              0,
              "#0d0887"
             ],
             [
              0.1111111111111111,
              "#46039f"
             ],
             [
              0.2222222222222222,
              "#7201a8"
             ],
             [
              0.3333333333333333,
              "#9c179e"
             ],
             [
              0.4444444444444444,
              "#bd3786"
             ],
             [
              0.5555555555555556,
              "#d8576b"
             ],
             [
              0.6666666666666666,
              "#ed7953"
             ],
             [
              0.7777777777777778,
              "#fb9f3a"
             ],
             [
              0.8888888888888888,
              "#fdca26"
             ],
             [
              1,
              "#f0f921"
             ]
            ],
            "type": "contour"
           }
          ],
          "contourcarpet": [
           {
            "colorbar": {
             "outlinewidth": 0,
             "ticks": ""
            },
            "type": "contourcarpet"
           }
          ],
          "heatmap": [
           {
            "colorbar": {
             "outlinewidth": 0,
             "ticks": ""
            },
            "colorscale": [
             [
              0,
              "#0d0887"
             ],
             [
              0.1111111111111111,
              "#46039f"
             ],
             [
              0.2222222222222222,
              "#7201a8"
             ],
             [
              0.3333333333333333,
              "#9c179e"
             ],
             [
              0.4444444444444444,
              "#bd3786"
             ],
             [
              0.5555555555555556,
              "#d8576b"
             ],
             [
              0.6666666666666666,
              "#ed7953"
             ],
             [
              0.7777777777777778,
              "#fb9f3a"
             ],
             [
              0.8888888888888888,
              "#fdca26"
             ],
             [
              1,
              "#f0f921"
             ]
            ],
            "type": "heatmap"
           }
          ],
          "heatmapgl": [
           {
            "colorbar": {
             "outlinewidth": 0,
             "ticks": ""
            },
            "colorscale": [
             [
              0,
              "#0d0887"
             ],
             [
              0.1111111111111111,
              "#46039f"
             ],
             [
              0.2222222222222222,
              "#7201a8"
             ],
             [
              0.3333333333333333,
              "#9c179e"
             ],
             [
              0.4444444444444444,
              "#bd3786"
             ],
             [
              0.5555555555555556,
              "#d8576b"
             ],
             [
              0.6666666666666666,
              "#ed7953"
             ],
             [
              0.7777777777777778,
              "#fb9f3a"
             ],
             [
              0.8888888888888888,
              "#fdca26"
             ],
             [
              1,
              "#f0f921"
             ]
            ],
            "type": "heatmapgl"
           }
          ],
          "histogram": [
           {
            "marker": {
             "pattern": {
              "fillmode": "overlay",
              "size": 10,
              "solidity": 0.2
             }
            },
            "type": "histogram"
           }
          ],
          "histogram2d": [
           {
            "colorbar": {
             "outlinewidth": 0,
             "ticks": ""
            },
            "colorscale": [
             [
              0,
              "#0d0887"
             ],
             [
              0.1111111111111111,
              "#46039f"
             ],
             [
              0.2222222222222222,
              "#7201a8"
             ],
             [
              0.3333333333333333,
              "#9c179e"
             ],
             [
              0.4444444444444444,
              "#bd3786"
             ],
             [
              0.5555555555555556,
              "#d8576b"
             ],
             [
              0.6666666666666666,
              "#ed7953"
             ],
             [
              0.7777777777777778,
              "#fb9f3a"
             ],
             [
              0.8888888888888888,
              "#fdca26"
             ],
             [
              1,
              "#f0f921"
             ]
            ],
            "type": "histogram2d"
           }
          ],
          "histogram2dcontour": [
           {
            "colorbar": {
             "outlinewidth": 0,
             "ticks": ""
            },
            "colorscale": [
             [
              0,
              "#0d0887"
             ],
             [
              0.1111111111111111,
              "#46039f"
             ],
             [
              0.2222222222222222,
              "#7201a8"
             ],
             [
              0.3333333333333333,
              "#9c179e"
             ],
             [
              0.4444444444444444,
              "#bd3786"
             ],
             [
              0.5555555555555556,
              "#d8576b"
             ],
             [
              0.6666666666666666,
              "#ed7953"
             ],
             [
              0.7777777777777778,
              "#fb9f3a"
             ],
             [
              0.8888888888888888,
              "#fdca26"
             ],
             [
              1,
              "#f0f921"
             ]
            ],
            "type": "histogram2dcontour"
           }
          ],
          "mesh3d": [
           {
            "colorbar": {
             "outlinewidth": 0,
             "ticks": ""
            },
            "type": "mesh3d"
           }
          ],
          "parcoords": [
           {
            "line": {
             "colorbar": {
              "outlinewidth": 0,
              "ticks": ""
             }
            },
            "type": "parcoords"
           }
          ],
          "pie": [
           {
            "automargin": true,
            "type": "pie"
           }
          ],
          "scatter": [
           {
            "fillpattern": {
             "fillmode": "overlay",
             "size": 10,
             "solidity": 0.2
            },
            "type": "scatter"
           }
          ],
          "scatter3d": [
           {
            "line": {
             "colorbar": {
              "outlinewidth": 0,
              "ticks": ""
             }
            },
            "marker": {
             "colorbar": {
              "outlinewidth": 0,
              "ticks": ""
             }
            },
            "type": "scatter3d"
           }
          ],
          "scattercarpet": [
           {
            "marker": {
             "colorbar": {
              "outlinewidth": 0,
              "ticks": ""
             }
            },
            "type": "scattercarpet"
           }
          ],
          "scattergeo": [
           {
            "marker": {
             "colorbar": {
              "outlinewidth": 0,
              "ticks": ""
             }
            },
            "type": "scattergeo"
           }
          ],
          "scattergl": [
           {
            "marker": {
             "colorbar": {
              "outlinewidth": 0,
              "ticks": ""
             }
            },
            "type": "scattergl"
           }
          ],
          "scattermapbox": [
           {
            "marker": {
             "colorbar": {
              "outlinewidth": 0,
              "ticks": ""
             }
            },
            "type": "scattermapbox"
           }
          ],
          "scatterpolar": [
           {
            "marker": {
             "colorbar": {
              "outlinewidth": 0,
              "ticks": ""
             }
            },
            "type": "scatterpolar"
           }
          ],
          "scatterpolargl": [
           {
            "marker": {
             "colorbar": {
              "outlinewidth": 0,
              "ticks": ""
             }
            },
            "type": "scatterpolargl"
           }
          ],
          "scatterternary": [
           {
            "marker": {
             "colorbar": {
              "outlinewidth": 0,
              "ticks": ""
             }
            },
            "type": "scatterternary"
           }
          ],
          "surface": [
           {
            "colorbar": {
             "outlinewidth": 0,
             "ticks": ""
            },
            "colorscale": [
             [
              0,
              "#0d0887"
             ],
             [
              0.1111111111111111,
              "#46039f"
             ],
             [
              0.2222222222222222,
              "#7201a8"
             ],
             [
              0.3333333333333333,
              "#9c179e"
             ],
             [
              0.4444444444444444,
              "#bd3786"
             ],
             [
              0.5555555555555556,
              "#d8576b"
             ],
             [
              0.6666666666666666,
              "#ed7953"
             ],
             [
              0.7777777777777778,
              "#fb9f3a"
             ],
             [
              0.8888888888888888,
              "#fdca26"
             ],
             [
              1,
              "#f0f921"
             ]
            ],
            "type": "surface"
           }
          ],
          "table": [
           {
            "cells": {
             "fill": {
              "color": "#EBF0F8"
             },
             "line": {
              "color": "white"
             }
            },
            "header": {
             "fill": {
              "color": "#C8D4E3"
             },
             "line": {
              "color": "white"
             }
            },
            "type": "table"
           }
          ]
         },
         "layout": {
          "annotationdefaults": {
           "arrowcolor": "#2a3f5f",
           "arrowhead": 0,
           "arrowwidth": 1
          },
          "autotypenumbers": "strict",
          "coloraxis": {
           "colorbar": {
            "outlinewidth": 0,
            "ticks": ""
           }
          },
          "colorscale": {
           "diverging": [
            [
             0,
             "#8e0152"
            ],
            [
             0.1,
             "#c51b7d"
            ],
            [
             0.2,
             "#de77ae"
            ],
            [
             0.3,
             "#f1b6da"
            ],
            [
             0.4,
             "#fde0ef"
            ],
            [
             0.5,
             "#f7f7f7"
            ],
            [
             0.6,
             "#e6f5d0"
            ],
            [
             0.7,
             "#b8e186"
            ],
            [
             0.8,
             "#7fbc41"
            ],
            [
             0.9,
             "#4d9221"
            ],
            [
             1,
             "#276419"
            ]
           ],
           "sequential": [
            [
             0,
             "#0d0887"
            ],
            [
             0.1111111111111111,
             "#46039f"
            ],
            [
             0.2222222222222222,
             "#7201a8"
            ],
            [
             0.3333333333333333,
             "#9c179e"
            ],
            [
             0.4444444444444444,
             "#bd3786"
            ],
            [
             0.5555555555555556,
             "#d8576b"
            ],
            [
             0.6666666666666666,
             "#ed7953"
            ],
            [
             0.7777777777777778,
             "#fb9f3a"
            ],
            [
             0.8888888888888888,
             "#fdca26"
            ],
            [
             1,
             "#f0f921"
            ]
           ],
           "sequentialminus": [
            [
             0,
             "#0d0887"
            ],
            [
             0.1111111111111111,
             "#46039f"
            ],
            [
             0.2222222222222222,
             "#7201a8"
            ],
            [
             0.3333333333333333,
             "#9c179e"
            ],
            [
             0.4444444444444444,
             "#bd3786"
            ],
            [
             0.5555555555555556,
             "#d8576b"
            ],
            [
             0.6666666666666666,
             "#ed7953"
            ],
            [
             0.7777777777777778,
             "#fb9f3a"
            ],
            [
             0.8888888888888888,
             "#fdca26"
            ],
            [
             1,
             "#f0f921"
            ]
           ]
          },
          "colorway": [
           "#636efa",
           "#EF553B",
           "#00cc96",
           "#ab63fa",
           "#FFA15A",
           "#19d3f3",
           "#FF6692",
           "#B6E880",
           "#FF97FF",
           "#FECB52"
          ],
          "font": {
           "color": "#2a3f5f"
          },
          "geo": {
           "bgcolor": "white",
           "lakecolor": "white",
           "landcolor": "#E5ECF6",
           "showlakes": true,
           "showland": true,
           "subunitcolor": "white"
          },
          "hoverlabel": {
           "align": "left"
          },
          "hovermode": "closest",
          "mapbox": {
           "style": "light"
          },
          "paper_bgcolor": "white",
          "plot_bgcolor": "#E5ECF6",
          "polar": {
           "angularaxis": {
            "gridcolor": "white",
            "linecolor": "white",
            "ticks": ""
           },
           "bgcolor": "#E5ECF6",
           "radialaxis": {
            "gridcolor": "white",
            "linecolor": "white",
            "ticks": ""
           }
          },
          "scene": {
           "xaxis": {
            "backgroundcolor": "#E5ECF6",
            "gridcolor": "white",
            "gridwidth": 2,
            "linecolor": "white",
            "showbackground": true,
            "ticks": "",
            "zerolinecolor": "white"
           },
           "yaxis": {
            "backgroundcolor": "#E5ECF6",
            "gridcolor": "white",
            "gridwidth": 2,
            "linecolor": "white",
            "showbackground": true,
            "ticks": "",
            "zerolinecolor": "white"
           },
           "zaxis": {
            "backgroundcolor": "#E5ECF6",
            "gridcolor": "white",
            "gridwidth": 2,
            "linecolor": "white",
            "showbackground": true,
            "ticks": "",
            "zerolinecolor": "white"
           }
          },
          "shapedefaults": {
           "line": {
            "color": "#2a3f5f"
           }
          },
          "ternary": {
           "aaxis": {
            "gridcolor": "white",
            "linecolor": "white",
            "ticks": ""
           },
           "baxis": {
            "gridcolor": "white",
            "linecolor": "white",
            "ticks": ""
           },
           "bgcolor": "#E5ECF6",
           "caxis": {
            "gridcolor": "white",
            "linecolor": "white",
            "ticks": ""
           }
          },
          "title": {
           "x": 0.05
          },
          "xaxis": {
           "automargin": true,
           "gridcolor": "white",
           "linecolor": "white",
           "ticks": "",
           "title": {
            "standoff": 15
           },
           "zerolinecolor": "white",
           "zerolinewidth": 2
          },
          "yaxis": {
           "automargin": true,
           "gridcolor": "white",
           "linecolor": "white",
           "ticks": "",
           "title": {
            "standoff": 15
           },
           "zerolinecolor": "white",
           "zerolinewidth": 2
          }
         }
        },
        "title": {
         "text": "Historical Data Analysis Normalised"
        },
        "xaxis": {
         "anchor": "y",
         "domain": [
          0,
          0.45
         ],
         "ticktext": [
          2014,
          2015,
          2016,
          2017,
          2018
         ],
         "tickvals": [
          0.20000000000000004,
          1.2,
          2.1999999999999997,
          3.1999999999999997,
          4.2
         ]
        },
        "xaxis2": {
         "anchor": "y2",
         "domain": [
          0.55,
          1
         ],
         "ticktext": [
          2014,
          2015,
          2016,
          2017,
          2018
         ],
         "tickvals": [
          0.20000000000000004,
          1.2,
          2.1999999999999997,
          3.1999999999999997,
          4.2
         ]
        },
        "yaxis": {
         "anchor": "x",
         "domain": [
          0,
          1
         ]
        },
        "yaxis2": {
         "anchor": "x2",
         "domain": [
          0,
          1
         ]
        }
       }
      },
      "text/html": [
       "<div>                            <div id=\"0dd6ba1f-b68e-444e-b4bb-89216203582d\" class=\"plotly-graph-div\" style=\"height:525px; width:100%;\"></div>            <script type=\"text/javascript\">                require([\"plotly\"], function(Plotly) {                    window.PLOTLYENV=window.PLOTLYENV || {};                                    if (document.getElementById(\"0dd6ba1f-b68e-444e-b4bb-89216203582d\")) {                    Plotly.newPlot(                        \"0dd6ba1f-b68e-444e-b4bb-89216203582d\",                        [{\"hoverinfo\":\"text\",\"hovertext\":[\"nan\",\"nan\",\"0.36\",\"0.36\",\"0.37\"],\"legendgroup\":\"group1\",\"name\":\"negatives\",\"showlegend\":true,\"text\":[\"nan\",\"nan\",\"0.36\",\"0.36\",\"0.37\"],\"textposition\":\"outside\",\"width\":0.2,\"x\":[0.0,1.0,2.0,3.0,4.0],\"y\":[null,null,0.3566265060240964,0.36077481840193704,0.36818181818181817],\"type\":\"bar\",\"xaxis\":\"x\",\"yaxis\":\"y\"},{\"hoverinfo\":\"text\",\"hovertext\":[\"nan\",\"nan\",\"0.13\",\"0.14\",\"0.13\"],\"legendgroup\":\"group1\",\"name\":\"positives\",\"showlegend\":true,\"text\":[\"nan\",\"nan\",\"0.13\",\"0.14\",\"0.13\"],\"textposition\":\"outside\",\"width\":0.2,\"x\":[0.2,1.2,2.2,3.2,4.2],\"y\":[null,null,0.12530120481927712,0.14043583535108958,0.1318181818181818],\"type\":\"bar\",\"xaxis\":\"x\",\"yaxis\":\"y\"},{\"hoverinfo\":\"text\",\"hovertext\":[\"nan\",\"nan\",\"0.44\",\"0.44\",\"0.45\"],\"legendgroup\":\"group1\",\"name\":\"fls\",\"showlegend\":true,\"text\":[\"nan\",\"nan\",\"0.44\",\"0.44\",\"0.45\"],\"textposition\":\"outside\",\"width\":0.2,\"x\":[0.4,1.4,2.4,3.4,4.4],\"y\":[null,null,0.44075829383886256,0.44418052256532065,0.44874715261959],\"type\":\"bar\",\"xaxis\":\"x\",\"yaxis\":\"y\"},{\"hoverinfo\":\"text\",\"hovertext\":[\"nan\",\"nan\",\"-0.89\",\"-0.19\",\"1.08\"],\"legendgroup\":\"group2\",\"name\":\"negatives\",\"showlegend\":true,\"text\":[\"nan\",\"nan\",\"-0.89\",\"-0.19\",\"1.08\"],\"textposition\":\"outside\",\"width\":0.2,\"x\":[0.0,1.0,2.0,3.0,4.0],\"y\":[null,null,-0.8942222773775022,-0.18556167484232253,1.0797839522198438],\"type\":\"bar\",\"xaxis\":\"x2\",\"yaxis\":\"y2\"},{\"hoverinfo\":\"text\",\"hovertext\":[\"nan\",\"nan\",\"-0.95\",\"1.04\",\"-0.09\"],\"legendgroup\":\"group2\",\"name\":\"positives\",\"showlegend\":true,\"text\":[\"nan\",\"nan\",\"-0.95\",\"1.04\",\"-0.09\"],\"textposition\":\"outside\",\"width\":0.2,\"x\":[0.2,1.2,2.2,3.2,4.2],\"y\":[null,null,-0.9506859084834223,1.0429231050206893,-0.09223719653726715],\"type\":\"bar\",\"xaxis\":\"x2\",\"yaxis\":\"y2\"},{\"hoverinfo\":\"text\",\"hovertext\":[\"nan\",\"nan\",\"-0.95\",\"-0.10\",\"1.04\"],\"legendgroup\":\"group2\",\"name\":\"fls\",\"showlegend\":true,\"text\":[\"nan\",\"nan\",\"-0.95\",\"-0.10\",\"1.04\"],\"textposition\":\"outside\",\"width\":0.2,\"x\":[0.4,1.4,2.4,3.4,4.4],\"y\":[null,null,-0.9490099559494592,-0.09517482474925051,1.0441847806986821],\"type\":\"bar\",\"xaxis\":\"x2\",\"yaxis\":\"y2\"}],                        {\"template\":{\"data\":{\"histogram2dcontour\":[{\"type\":\"histogram2dcontour\",\"colorbar\":{\"outlinewidth\":0,\"ticks\":\"\"},\"colorscale\":[[0.0,\"#0d0887\"],[0.1111111111111111,\"#46039f\"],[0.2222222222222222,\"#7201a8\"],[0.3333333333333333,\"#9c179e\"],[0.4444444444444444,\"#bd3786\"],[0.5555555555555556,\"#d8576b\"],[0.6666666666666666,\"#ed7953\"],[0.7777777777777778,\"#fb9f3a\"],[0.8888888888888888,\"#fdca26\"],[1.0,\"#f0f921\"]]}],\"choropleth\":[{\"type\":\"choropleth\",\"colorbar\":{\"outlinewidth\":0,\"ticks\":\"\"}}],\"histogram2d\":[{\"type\":\"histogram2d\",\"colorbar\":{\"outlinewidth\":0,\"ticks\":\"\"},\"colorscale\":[[0.0,\"#0d0887\"],[0.1111111111111111,\"#46039f\"],[0.2222222222222222,\"#7201a8\"],[0.3333333333333333,\"#9c179e\"],[0.4444444444444444,\"#bd3786\"],[0.5555555555555556,\"#d8576b\"],[0.6666666666666666,\"#ed7953\"],[0.7777777777777778,\"#fb9f3a\"],[0.8888888888888888,\"#fdca26\"],[1.0,\"#f0f921\"]]}],\"heatmap\":[{\"type\":\"heatmap\",\"colorbar\":{\"outlinewidth\":0,\"ticks\":\"\"},\"colorscale\":[[0.0,\"#0d0887\"],[0.1111111111111111,\"#46039f\"],[0.2222222222222222,\"#7201a8\"],[0.3333333333333333,\"#9c179e\"],[0.4444444444444444,\"#bd3786\"],[0.5555555555555556,\"#d8576b\"],[0.6666666666666666,\"#ed7953\"],[0.7777777777777778,\"#fb9f3a\"],[0.8888888888888888,\"#fdca26\"],[1.0,\"#f0f921\"]]}],\"heatmapgl\":[{\"type\":\"heatmapgl\",\"colorbar\":{\"outlinewidth\":0,\"ticks\":\"\"},\"colorscale\":[[0.0,\"#0d0887\"],[0.1111111111111111,\"#46039f\"],[0.2222222222222222,\"#7201a8\"],[0.3333333333333333,\"#9c179e\"],[0.4444444444444444,\"#bd3786\"],[0.5555555555555556,\"#d8576b\"],[0.6666666666666666,\"#ed7953\"],[0.7777777777777778,\"#fb9f3a\"],[0.8888888888888888,\"#fdca26\"],[1.0,\"#f0f921\"]]}],\"contourcarpet\":[{\"type\":\"contourcarpet\",\"colorbar\":{\"outlinewidth\":0,\"ticks\":\"\"}}],\"contour\":[{\"type\":\"contour\",\"colorbar\":{\"outlinewidth\":0,\"ticks\":\"\"},\"colorscale\":[[0.0,\"#0d0887\"],[0.1111111111111111,\"#46039f\"],[0.2222222222222222,\"#7201a8\"],[0.3333333333333333,\"#9c179e\"],[0.4444444444444444,\"#bd3786\"],[0.5555555555555556,\"#d8576b\"],[0.6666666666666666,\"#ed7953\"],[0.7777777777777778,\"#fb9f3a\"],[0.8888888888888888,\"#fdca26\"],[1.0,\"#f0f921\"]]}],\"surface\":[{\"type\":\"surface\",\"colorbar\":{\"outlinewidth\":0,\"ticks\":\"\"},\"colorscale\":[[0.0,\"#0d0887\"],[0.1111111111111111,\"#46039f\"],[0.2222222222222222,\"#7201a8\"],[0.3333333333333333,\"#9c179e\"],[0.4444444444444444,\"#bd3786\"],[0.5555555555555556,\"#d8576b\"],[0.6666666666666666,\"#ed7953\"],[0.7777777777777778,\"#fb9f3a\"],[0.8888888888888888,\"#fdca26\"],[1.0,\"#f0f921\"]]}],\"mesh3d\":[{\"type\":\"mesh3d\",\"colorbar\":{\"outlinewidth\":0,\"ticks\":\"\"}}],\"scatter\":[{\"fillpattern\":{\"fillmode\":\"overlay\",\"size\":10,\"solidity\":0.2},\"type\":\"scatter\"}],\"parcoords\":[{\"type\":\"parcoords\",\"line\":{\"colorbar\":{\"outlinewidth\":0,\"ticks\":\"\"}}}],\"scatterpolargl\":[{\"type\":\"scatterpolargl\",\"marker\":{\"colorbar\":{\"outlinewidth\":0,\"ticks\":\"\"}}}],\"bar\":[{\"error_x\":{\"color\":\"#2a3f5f\"},\"error_y\":{\"color\":\"#2a3f5f\"},\"marker\":{\"line\":{\"color\":\"#E5ECF6\",\"width\":0.5},\"pattern\":{\"fillmode\":\"overlay\",\"size\":10,\"solidity\":0.2}},\"type\":\"bar\"}],\"scattergeo\":[{\"type\":\"scattergeo\",\"marker\":{\"colorbar\":{\"outlinewidth\":0,\"ticks\":\"\"}}}],\"scatterpolar\":[{\"type\":\"scatterpolar\",\"marker\":{\"colorbar\":{\"outlinewidth\":0,\"ticks\":\"\"}}}],\"histogram\":[{\"marker\":{\"pattern\":{\"fillmode\":\"overlay\",\"size\":10,\"solidity\":0.2}},\"type\":\"histogram\"}],\"scattergl\":[{\"type\":\"scattergl\",\"marker\":{\"colorbar\":{\"outlinewidth\":0,\"ticks\":\"\"}}}],\"scatter3d\":[{\"type\":\"scatter3d\",\"line\":{\"colorbar\":{\"outlinewidth\":0,\"ticks\":\"\"}},\"marker\":{\"colorbar\":{\"outlinewidth\":0,\"ticks\":\"\"}}}],\"scattermapbox\":[{\"type\":\"scattermapbox\",\"marker\":{\"colorbar\":{\"outlinewidth\":0,\"ticks\":\"\"}}}],\"scatterternary\":[{\"type\":\"scatterternary\",\"marker\":{\"colorbar\":{\"outlinewidth\":0,\"ticks\":\"\"}}}],\"scattercarpet\":[{\"type\":\"scattercarpet\",\"marker\":{\"colorbar\":{\"outlinewidth\":0,\"ticks\":\"\"}}}],\"carpet\":[{\"aaxis\":{\"endlinecolor\":\"#2a3f5f\",\"gridcolor\":\"white\",\"linecolor\":\"white\",\"minorgridcolor\":\"white\",\"startlinecolor\":\"#2a3f5f\"},\"baxis\":{\"endlinecolor\":\"#2a3f5f\",\"gridcolor\":\"white\",\"linecolor\":\"white\",\"minorgridcolor\":\"white\",\"startlinecolor\":\"#2a3f5f\"},\"type\":\"carpet\"}],\"table\":[{\"cells\":{\"fill\":{\"color\":\"#EBF0F8\"},\"line\":{\"color\":\"white\"}},\"header\":{\"fill\":{\"color\":\"#C8D4E3\"},\"line\":{\"color\":\"white\"}},\"type\":\"table\"}],\"barpolar\":[{\"marker\":{\"line\":{\"color\":\"#E5ECF6\",\"width\":0.5},\"pattern\":{\"fillmode\":\"overlay\",\"size\":10,\"solidity\":0.2}},\"type\":\"barpolar\"}],\"pie\":[{\"automargin\":true,\"type\":\"pie\"}]},\"layout\":{\"autotypenumbers\":\"strict\",\"colorway\":[\"#636efa\",\"#EF553B\",\"#00cc96\",\"#ab63fa\",\"#FFA15A\",\"#19d3f3\",\"#FF6692\",\"#B6E880\",\"#FF97FF\",\"#FECB52\"],\"font\":{\"color\":\"#2a3f5f\"},\"hovermode\":\"closest\",\"hoverlabel\":{\"align\":\"left\"},\"paper_bgcolor\":\"white\",\"plot_bgcolor\":\"#E5ECF6\",\"polar\":{\"bgcolor\":\"#E5ECF6\",\"angularaxis\":{\"gridcolor\":\"white\",\"linecolor\":\"white\",\"ticks\":\"\"},\"radialaxis\":{\"gridcolor\":\"white\",\"linecolor\":\"white\",\"ticks\":\"\"}},\"ternary\":{\"bgcolor\":\"#E5ECF6\",\"aaxis\":{\"gridcolor\":\"white\",\"linecolor\":\"white\",\"ticks\":\"\"},\"baxis\":{\"gridcolor\":\"white\",\"linecolor\":\"white\",\"ticks\":\"\"},\"caxis\":{\"gridcolor\":\"white\",\"linecolor\":\"white\",\"ticks\":\"\"}},\"coloraxis\":{\"colorbar\":{\"outlinewidth\":0,\"ticks\":\"\"}},\"colorscale\":{\"sequential\":[[0.0,\"#0d0887\"],[0.1111111111111111,\"#46039f\"],[0.2222222222222222,\"#7201a8\"],[0.3333333333333333,\"#9c179e\"],[0.4444444444444444,\"#bd3786\"],[0.5555555555555556,\"#d8576b\"],[0.6666666666666666,\"#ed7953\"],[0.7777777777777778,\"#fb9f3a\"],[0.8888888888888888,\"#fdca26\"],[1.0,\"#f0f921\"]],\"sequentialminus\":[[0.0,\"#0d0887\"],[0.1111111111111111,\"#46039f\"],[0.2222222222222222,\"#7201a8\"],[0.3333333333333333,\"#9c179e\"],[0.4444444444444444,\"#bd3786\"],[0.5555555555555556,\"#d8576b\"],[0.6666666666666666,\"#ed7953\"],[0.7777777777777778,\"#fb9f3a\"],[0.8888888888888888,\"#fdca26\"],[1.0,\"#f0f921\"]],\"diverging\":[[0,\"#8e0152\"],[0.1,\"#c51b7d\"],[0.2,\"#de77ae\"],[0.3,\"#f1b6da\"],[0.4,\"#fde0ef\"],[0.5,\"#f7f7f7\"],[0.6,\"#e6f5d0\"],[0.7,\"#b8e186\"],[0.8,\"#7fbc41\"],[0.9,\"#4d9221\"],[1,\"#276419\"]]},\"xaxis\":{\"gridcolor\":\"white\",\"linecolor\":\"white\",\"ticks\":\"\",\"title\":{\"standoff\":15},\"zerolinecolor\":\"white\",\"automargin\":true,\"zerolinewidth\":2},\"yaxis\":{\"gridcolor\":\"white\",\"linecolor\":\"white\",\"ticks\":\"\",\"title\":{\"standoff\":15},\"zerolinecolor\":\"white\",\"automargin\":true,\"zerolinewidth\":2},\"scene\":{\"xaxis\":{\"backgroundcolor\":\"#E5ECF6\",\"gridcolor\":\"white\",\"linecolor\":\"white\",\"showbackground\":true,\"ticks\":\"\",\"zerolinecolor\":\"white\",\"gridwidth\":2},\"yaxis\":{\"backgroundcolor\":\"#E5ECF6\",\"gridcolor\":\"white\",\"linecolor\":\"white\",\"showbackground\":true,\"ticks\":\"\",\"zerolinecolor\":\"white\",\"gridwidth\":2},\"zaxis\":{\"backgroundcolor\":\"#E5ECF6\",\"gridcolor\":\"white\",\"linecolor\":\"white\",\"showbackground\":true,\"ticks\":\"\",\"zerolinecolor\":\"white\",\"gridwidth\":2}},\"shapedefaults\":{\"line\":{\"color\":\"#2a3f5f\"}},\"annotationdefaults\":{\"arrowcolor\":\"#2a3f5f\",\"arrowhead\":0,\"arrowwidth\":1},\"geo\":{\"bgcolor\":\"white\",\"landcolor\":\"#E5ECF6\",\"subunitcolor\":\"white\",\"showland\":true,\"showlakes\":true,\"lakecolor\":\"white\"},\"title\":{\"x\":0.05},\"mapbox\":{\"style\":\"light\"}}},\"xaxis\":{\"anchor\":\"y\",\"domain\":[0.0,0.45],\"tickvals\":[0.20000000000000004,1.2,2.1999999999999997,3.1999999999999997,4.2],\"ticktext\":[2014,2015,2016,2017,2018]},\"yaxis\":{\"anchor\":\"x\",\"domain\":[0.0,1.0]},\"xaxis2\":{\"anchor\":\"y2\",\"domain\":[0.55,1.0],\"tickvals\":[0.20000000000000004,1.2,2.1999999999999997,3.1999999999999997,4.2],\"ticktext\":[2014,2015,2016,2017,2018]},\"yaxis2\":{\"anchor\":\"x2\",\"domain\":[0.0,1.0]},\"annotations\":[{\"font\":{\"size\":16},\"showarrow\":false,\"text\":\"Historical Sentiment Analysis\",\"x\":0.225,\"xanchor\":\"center\",\"xref\":\"paper\",\"y\":1.0,\"yanchor\":\"bottom\",\"yref\":\"paper\"},{\"font\":{\"size\":16},\"showarrow\":false,\"text\":\"Historical Sentiment Analysis Normalised\",\"x\":0.775,\"xanchor\":\"center\",\"xref\":\"paper\",\"y\":1.0,\"yanchor\":\"bottom\",\"yref\":\"paper\"}],\"title\":{\"text\":\"Historical Data Analysis Normalised\"},\"legend\":{\"x\":0.6,\"y\":-0.1,\"orientation\":\"h\"},\"barmode\":\"group\",\"showlegend\":true},                        {\"responsive\": true}                    ).then(function(){\n",
       "                            \n",
       "var gd = document.getElementById('0dd6ba1f-b68e-444e-b4bb-89216203582d');\n",
       "var x = new MutationObserver(function (mutations, observer) {{\n",
       "        var display = window.getComputedStyle(gd).display;\n",
       "        if (!display || display === 'none') {{\n",
       "            console.log([gd, 'removed!']);\n",
       "            Plotly.purge(gd);\n",
       "            observer.disconnect();\n",
       "        }}\n",
       "}});\n",
       "\n",
       "// Listen for the removal of the full notebook cells\n",
       "var notebookContainer = gd.closest('#notebook-container');\n",
       "if (notebookContainer) {{\n",
       "    x.observe(notebookContainer, {childList: true});\n",
       "}}\n",
       "\n",
       "// Listen for the clearing of the current output cell\n",
       "var outputEl = gd.closest('.output');\n",
       "if (outputEl) {{\n",
       "    x.observe(outputEl, {childList: true});\n",
       "}}\n",
       "\n",
       "                        })                };                });            </script>        </div>"
      ]
     },
     "metadata": {},
     "output_type": "display_data"
    },
    {
     "data": {
      "application/vnd.plotly.v1+json": {
       "config": {
        "plotlyServerURL": "https://plot.ly"
       },
       "data": [
        {
         "hoverinfo": "text",
         "hovertext": [
          "0.37",
          "0.37",
          "0.40",
          "0.39",
          "0.38"
         ],
         "legendgroup": "group1",
         "name": "negatives",
         "showlegend": true,
         "text": [
          "0.37",
          "0.37",
          "0.40",
          "0.39",
          "0.38"
         ],
         "textposition": "outside",
         "type": "bar",
         "width": 0.2,
         "x": [
          0,
          1,
          2,
          3,
          4
         ],
         "xaxis": "x",
         "y": [
          0.36818181818181817,
          0.36818181818181817,
          0.39925373134328357,
          0.3891472868217054,
          0.37735849056603776
         ],
         "yaxis": "y"
        },
        {
         "hoverinfo": "text",
         "hovertext": [
          "0.13",
          "0.13",
          "0.09",
          "0.11",
          "0.08"
         ],
         "legendgroup": "group1",
         "name": "positives",
         "showlegend": true,
         "text": [
          "0.13",
          "0.13",
          "0.09",
          "0.11",
          "0.08"
         ],
         "textposition": "outside",
         "type": "bar",
         "width": 0.2,
         "x": [
          0.2,
          1.2,
          2.2,
          3.2,
          4.2
         ],
         "xaxis": "x",
         "y": [
          0.1318181818181818,
          0.1318181818181818,
          0.08768656716417911,
          0.10852713178294573,
          0.08372641509433962
         ],
         "yaxis": "y"
        },
        {
         "hoverinfo": "text",
         "hovertext": [
          "0.45",
          "0.45",
          "0.60",
          "0.51",
          "0.55"
         ],
         "legendgroup": "group1",
         "name": "fls",
         "showlegend": true,
         "text": [
          "0.45",
          "0.45",
          "0.60",
          "0.51",
          "0.55"
         ],
         "textposition": "outside",
         "type": "bar",
         "width": 0.2,
         "x": [
          0.4,
          1.4,
          2.4,
          3.4,
          4.4
         ],
         "xaxis": "x",
         "y": [
          0.44874715261959,
          0.44874715261959,
          0.6003649635036497,
          0.513677811550152,
          0.5451348182883939
         ],
         "yaxis": "y"
        },
        {
         "hoverinfo": "text",
         "hovertext": [
          "-0.90",
          "-0.90",
          "1.38",
          "0.64",
          "-0.23"
         ],
         "legendgroup": "group2",
         "name": "negatives",
         "showlegend": true,
         "text": [
          "-0.90",
          "-0.90",
          "1.38",
          "0.64",
          "-0.23"
         ],
         "textposition": "outside",
         "type": "bar",
         "width": 0.2,
         "x": [
          0,
          1,
          2,
          3,
          4
         ],
         "xaxis": "x2",
         "y": [
          -0.9002347311254772,
          -0.9002347311254772,
          1.384535961048254,
          0.6413918834695901,
          -0.22545838226688142
         ],
         "yaxis": "y2"
        },
        {
         "hoverinfo": "text",
         "hovertext": [
          "1.00",
          "1.00",
          "-0.91",
          "-0.01",
          "-1.08"
         ],
         "legendgroup": "group2",
         "name": "positives",
         "showlegend": true,
         "text": [
          "1.00",
          "1.00",
          "-0.91",
          "-0.01",
          "-1.08"
         ],
         "textposition": "outside",
         "type": "bar",
         "width": 0.2,
         "x": [
          0.2,
          1.2,
          2.2,
          3.2,
          4.2
         ],
         "xaxis": "x2",
         "y": [
          1.0001873479310344,
          1.0001873479310344,
          -0.9103913598867193,
          -0.008146125224675841,
          -1.0818372107506755
         ],
         "yaxis": "y2"
        },
        {
         "hoverinfo": "text",
         "hovertext": [
          "-0.96",
          "-0.96",
          "1.37",
          "0.04",
          "0.52"
         ],
         "legendgroup": "group2",
         "name": "fls",
         "showlegend": true,
         "text": [
          "-0.96",
          "-0.96",
          "1.37",
          "0.04",
          "0.52"
         ],
         "textposition": "outside",
         "type": "bar",
         "width": 0.2,
         "x": [
          0.4,
          1.4,
          2.4,
          3.4,
          4.4
         ],
         "xaxis": "x2",
         "y": [
          -0.9626318688947125,
          -0.9626318688947125,
          1.3693477285330435,
          0.036043491148559384,
          0.5198725181078188
         ],
         "yaxis": "y2"
        }
       ],
       "layout": {
        "annotations": [
         {
          "font": {
           "size": 16
          },
          "showarrow": false,
          "text": "Competitor Sentiment Analysis",
          "x": 0.225,
          "xanchor": "center",
          "xref": "paper",
          "y": 1,
          "yanchor": "bottom",
          "yref": "paper"
         },
         {
          "font": {
           "size": 16
          },
          "showarrow": false,
          "text": "Competitor Sentiment Analysis Normalised",
          "x": 0.775,
          "xanchor": "center",
          "xref": "paper",
          "y": 1,
          "yanchor": "bottom",
          "yref": "paper"
         }
        ],
        "barmode": "group",
        "legend": {
         "orientation": "h",
         "x": 0.6,
         "y": -0.1
        },
        "showlegend": true,
        "template": {
         "data": {
          "bar": [
           {
            "error_x": {
             "color": "#2a3f5f"
            },
            "error_y": {
             "color": "#2a3f5f"
            },
            "marker": {
             "line": {
              "color": "#E5ECF6",
              "width": 0.5
             },
             "pattern": {
              "fillmode": "overlay",
              "size": 10,
              "solidity": 0.2
             }
            },
            "type": "bar"
           }
          ],
          "barpolar": [
           {
            "marker": {
             "line": {
              "color": "#E5ECF6",
              "width": 0.5
             },
             "pattern": {
              "fillmode": "overlay",
              "size": 10,
              "solidity": 0.2
             }
            },
            "type": "barpolar"
           }
          ],
          "carpet": [
           {
            "aaxis": {
             "endlinecolor": "#2a3f5f",
             "gridcolor": "white",
             "linecolor": "white",
             "minorgridcolor": "white",
             "startlinecolor": "#2a3f5f"
            },
            "baxis": {
             "endlinecolor": "#2a3f5f",
             "gridcolor": "white",
             "linecolor": "white",
             "minorgridcolor": "white",
             "startlinecolor": "#2a3f5f"
            },
            "type": "carpet"
           }
          ],
          "choropleth": [
           {
            "colorbar": {
             "outlinewidth": 0,
             "ticks": ""
            },
            "type": "choropleth"
           }
          ],
          "contour": [
           {
            "colorbar": {
             "outlinewidth": 0,
             "ticks": ""
            },
            "colorscale": [
             [
              0,
              "#0d0887"
             ],
             [
              0.1111111111111111,
              "#46039f"
             ],
             [
              0.2222222222222222,
              "#7201a8"
             ],
             [
              0.3333333333333333,
              "#9c179e"
             ],
             [
              0.4444444444444444,
              "#bd3786"
             ],
             [
              0.5555555555555556,
              "#d8576b"
             ],
             [
              0.6666666666666666,
              "#ed7953"
             ],
             [
              0.7777777777777778,
              "#fb9f3a"
             ],
             [
              0.8888888888888888,
              "#fdca26"
             ],
             [
              1,
              "#f0f921"
             ]
            ],
            "type": "contour"
           }
          ],
          "contourcarpet": [
           {
            "colorbar": {
             "outlinewidth": 0,
             "ticks": ""
            },
            "type": "contourcarpet"
           }
          ],
          "heatmap": [
           {
            "colorbar": {
             "outlinewidth": 0,
             "ticks": ""
            },
            "colorscale": [
             [
              0,
              "#0d0887"
             ],
             [
              0.1111111111111111,
              "#46039f"
             ],
             [
              0.2222222222222222,
              "#7201a8"
             ],
             [
              0.3333333333333333,
              "#9c179e"
             ],
             [
              0.4444444444444444,
              "#bd3786"
             ],
             [
              0.5555555555555556,
              "#d8576b"
             ],
             [
              0.6666666666666666,
              "#ed7953"
             ],
             [
              0.7777777777777778,
              "#fb9f3a"
             ],
             [
              0.8888888888888888,
              "#fdca26"
             ],
             [
              1,
              "#f0f921"
             ]
            ],
            "type": "heatmap"
           }
          ],
          "heatmapgl": [
           {
            "colorbar": {
             "outlinewidth": 0,
             "ticks": ""
            },
            "colorscale": [
             [
              0,
              "#0d0887"
             ],
             [
              0.1111111111111111,
              "#46039f"
             ],
             [
              0.2222222222222222,
              "#7201a8"
             ],
             [
              0.3333333333333333,
              "#9c179e"
             ],
             [
              0.4444444444444444,
              "#bd3786"
             ],
             [
              0.5555555555555556,
              "#d8576b"
             ],
             [
              0.6666666666666666,
              "#ed7953"
             ],
             [
              0.7777777777777778,
              "#fb9f3a"
             ],
             [
              0.8888888888888888,
              "#fdca26"
             ],
             [
              1,
              "#f0f921"
             ]
            ],
            "type": "heatmapgl"
           }
          ],
          "histogram": [
           {
            "marker": {
             "pattern": {
              "fillmode": "overlay",
              "size": 10,
              "solidity": 0.2
             }
            },
            "type": "histogram"
           }
          ],
          "histogram2d": [
           {
            "colorbar": {
             "outlinewidth": 0,
             "ticks": ""
            },
            "colorscale": [
             [
              0,
              "#0d0887"
             ],
             [
              0.1111111111111111,
              "#46039f"
             ],
             [
              0.2222222222222222,
              "#7201a8"
             ],
             [
              0.3333333333333333,
              "#9c179e"
             ],
             [
              0.4444444444444444,
              "#bd3786"
             ],
             [
              0.5555555555555556,
              "#d8576b"
             ],
             [
              0.6666666666666666,
              "#ed7953"
             ],
             [
              0.7777777777777778,
              "#fb9f3a"
             ],
             [
              0.8888888888888888,
              "#fdca26"
             ],
             [
              1,
              "#f0f921"
             ]
            ],
            "type": "histogram2d"
           }
          ],
          "histogram2dcontour": [
           {
            "colorbar": {
             "outlinewidth": 0,
             "ticks": ""
            },
            "colorscale": [
             [
              0,
              "#0d0887"
             ],
             [
              0.1111111111111111,
              "#46039f"
             ],
             [
              0.2222222222222222,
              "#7201a8"
             ],
             [
              0.3333333333333333,
              "#9c179e"
             ],
             [
              0.4444444444444444,
              "#bd3786"
             ],
             [
              0.5555555555555556,
              "#d8576b"
             ],
             [
              0.6666666666666666,
              "#ed7953"
             ],
             [
              0.7777777777777778,
              "#fb9f3a"
             ],
             [
              0.8888888888888888,
              "#fdca26"
             ],
             [
              1,
              "#f0f921"
             ]
            ],
            "type": "histogram2dcontour"
           }
          ],
          "mesh3d": [
           {
            "colorbar": {
             "outlinewidth": 0,
             "ticks": ""
            },
            "type": "mesh3d"
           }
          ],
          "parcoords": [
           {
            "line": {
             "colorbar": {
              "outlinewidth": 0,
              "ticks": ""
             }
            },
            "type": "parcoords"
           }
          ],
          "pie": [
           {
            "automargin": true,
            "type": "pie"
           }
          ],
          "scatter": [
           {
            "fillpattern": {
             "fillmode": "overlay",
             "size": 10,
             "solidity": 0.2
            },
            "type": "scatter"
           }
          ],
          "scatter3d": [
           {
            "line": {
             "colorbar": {
              "outlinewidth": 0,
              "ticks": ""
             }
            },
            "marker": {
             "colorbar": {
              "outlinewidth": 0,
              "ticks": ""
             }
            },
            "type": "scatter3d"
           }
          ],
          "scattercarpet": [
           {
            "marker": {
             "colorbar": {
              "outlinewidth": 0,
              "ticks": ""
             }
            },
            "type": "scattercarpet"
           }
          ],
          "scattergeo": [
           {
            "marker": {
             "colorbar": {
              "outlinewidth": 0,
              "ticks": ""
             }
            },
            "type": "scattergeo"
           }
          ],
          "scattergl": [
           {
            "marker": {
             "colorbar": {
              "outlinewidth": 0,
              "ticks": ""
             }
            },
            "type": "scattergl"
           }
          ],
          "scattermapbox": [
           {
            "marker": {
             "colorbar": {
              "outlinewidth": 0,
              "ticks": ""
             }
            },
            "type": "scattermapbox"
           }
          ],
          "scatterpolar": [
           {
            "marker": {
             "colorbar": {
              "outlinewidth": 0,
              "ticks": ""
             }
            },
            "type": "scatterpolar"
           }
          ],
          "scatterpolargl": [
           {
            "marker": {
             "colorbar": {
              "outlinewidth": 0,
              "ticks": ""
             }
            },
            "type": "scatterpolargl"
           }
          ],
          "scatterternary": [
           {
            "marker": {
             "colorbar": {
              "outlinewidth": 0,
              "ticks": ""
             }
            },
            "type": "scatterternary"
           }
          ],
          "surface": [
           {
            "colorbar": {
             "outlinewidth": 0,
             "ticks": ""
            },
            "colorscale": [
             [
              0,
              "#0d0887"
             ],
             [
              0.1111111111111111,
              "#46039f"
             ],
             [
              0.2222222222222222,
              "#7201a8"
             ],
             [
              0.3333333333333333,
              "#9c179e"
             ],
             [
              0.4444444444444444,
              "#bd3786"
             ],
             [
              0.5555555555555556,
              "#d8576b"
             ],
             [
              0.6666666666666666,
              "#ed7953"
             ],
             [
              0.7777777777777778,
              "#fb9f3a"
             ],
             [
              0.8888888888888888,
              "#fdca26"
             ],
             [
              1,
              "#f0f921"
             ]
            ],
            "type": "surface"
           }
          ],
          "table": [
           {
            "cells": {
             "fill": {
              "color": "#EBF0F8"
             },
             "line": {
              "color": "white"
             }
            },
            "header": {
             "fill": {
              "color": "#C8D4E3"
             },
             "line": {
              "color": "white"
             }
            },
            "type": "table"
           }
          ]
         },
         "layout": {
          "annotationdefaults": {
           "arrowcolor": "#2a3f5f",
           "arrowhead": 0,
           "arrowwidth": 1
          },
          "autotypenumbers": "strict",
          "coloraxis": {
           "colorbar": {
            "outlinewidth": 0,
            "ticks": ""
           }
          },
          "colorscale": {
           "diverging": [
            [
             0,
             "#8e0152"
            ],
            [
             0.1,
             "#c51b7d"
            ],
            [
             0.2,
             "#de77ae"
            ],
            [
             0.3,
             "#f1b6da"
            ],
            [
             0.4,
             "#fde0ef"
            ],
            [
             0.5,
             "#f7f7f7"
            ],
            [
             0.6,
             "#e6f5d0"
            ],
            [
             0.7,
             "#b8e186"
            ],
            [
             0.8,
             "#7fbc41"
            ],
            [
             0.9,
             "#4d9221"
            ],
            [
             1,
             "#276419"
            ]
           ],
           "sequential": [
            [
             0,
             "#0d0887"
            ],
            [
             0.1111111111111111,
             "#46039f"
            ],
            [
             0.2222222222222222,
             "#7201a8"
            ],
            [
             0.3333333333333333,
             "#9c179e"
            ],
            [
             0.4444444444444444,
             "#bd3786"
            ],
            [
             0.5555555555555556,
             "#d8576b"
            ],
            [
             0.6666666666666666,
             "#ed7953"
            ],
            [
             0.7777777777777778,
             "#fb9f3a"
            ],
            [
             0.8888888888888888,
             "#fdca26"
            ],
            [
             1,
             "#f0f921"
            ]
           ],
           "sequentialminus": [
            [
             0,
             "#0d0887"
            ],
            [
             0.1111111111111111,
             "#46039f"
            ],
            [
             0.2222222222222222,
             "#7201a8"
            ],
            [
             0.3333333333333333,
             "#9c179e"
            ],
            [
             0.4444444444444444,
             "#bd3786"
            ],
            [
             0.5555555555555556,
             "#d8576b"
            ],
            [
             0.6666666666666666,
             "#ed7953"
            ],
            [
             0.7777777777777778,
             "#fb9f3a"
            ],
            [
             0.8888888888888888,
             "#fdca26"
            ],
            [
             1,
             "#f0f921"
            ]
           ]
          },
          "colorway": [
           "#636efa",
           "#EF553B",
           "#00cc96",
           "#ab63fa",
           "#FFA15A",
           "#19d3f3",
           "#FF6692",
           "#B6E880",
           "#FF97FF",
           "#FECB52"
          ],
          "font": {
           "color": "#2a3f5f"
          },
          "geo": {
           "bgcolor": "white",
           "lakecolor": "white",
           "landcolor": "#E5ECF6",
           "showlakes": true,
           "showland": true,
           "subunitcolor": "white"
          },
          "hoverlabel": {
           "align": "left"
          },
          "hovermode": "closest",
          "mapbox": {
           "style": "light"
          },
          "paper_bgcolor": "white",
          "plot_bgcolor": "#E5ECF6",
          "polar": {
           "angularaxis": {
            "gridcolor": "white",
            "linecolor": "white",
            "ticks": ""
           },
           "bgcolor": "#E5ECF6",
           "radialaxis": {
            "gridcolor": "white",
            "linecolor": "white",
            "ticks": ""
           }
          },
          "scene": {
           "xaxis": {
            "backgroundcolor": "#E5ECF6",
            "gridcolor": "white",
            "gridwidth": 2,
            "linecolor": "white",
            "showbackground": true,
            "ticks": "",
            "zerolinecolor": "white"
           },
           "yaxis": {
            "backgroundcolor": "#E5ECF6",
            "gridcolor": "white",
            "gridwidth": 2,
            "linecolor": "white",
            "showbackground": true,
            "ticks": "",
            "zerolinecolor": "white"
           },
           "zaxis": {
            "backgroundcolor": "#E5ECF6",
            "gridcolor": "white",
            "gridwidth": 2,
            "linecolor": "white",
            "showbackground": true,
            "ticks": "",
            "zerolinecolor": "white"
           }
          },
          "shapedefaults": {
           "line": {
            "color": "#2a3f5f"
           }
          },
          "ternary": {
           "aaxis": {
            "gridcolor": "white",
            "linecolor": "white",
            "ticks": ""
           },
           "baxis": {
            "gridcolor": "white",
            "linecolor": "white",
            "ticks": ""
           },
           "bgcolor": "#E5ECF6",
           "caxis": {
            "gridcolor": "white",
            "linecolor": "white",
            "ticks": ""
           }
          },
          "title": {
           "x": 0.05
          },
          "xaxis": {
           "automargin": true,
           "gridcolor": "white",
           "linecolor": "white",
           "ticks": "",
           "title": {
            "standoff": 15
           },
           "zerolinecolor": "white",
           "zerolinewidth": 2
          },
          "yaxis": {
           "automargin": true,
           "gridcolor": "white",
           "linecolor": "white",
           "ticks": "",
           "title": {
            "standoff": 15
           },
           "zerolinecolor": "white",
           "zerolinewidth": 2
          }
         }
        },
        "title": {
         "text": "Competitor Data Analysis Normalised"
        },
        "xaxis": {
         "anchor": "y",
         "domain": [
          0,
          0.45
         ],
         "ticktext": [
          "GOOGL",
          "GOOG",
          "META",
          "TTD",
          "SNAP"
         ],
         "tickvals": [
          0.20000000000000004,
          1.2,
          2.1999999999999997,
          3.1999999999999997,
          4.2
         ]
        },
        "xaxis2": {
         "anchor": "y2",
         "domain": [
          0.55,
          1
         ],
         "ticktext": [
          "GOOGL",
          "GOOG",
          "META",
          "TTD",
          "SNAP"
         ],
         "tickvals": [
          0.20000000000000004,
          1.2,
          2.1999999999999997,
          3.1999999999999997,
          4.2
         ]
        },
        "yaxis": {
         "anchor": "x",
         "domain": [
          0,
          1
         ]
        },
        "yaxis2": {
         "anchor": "x2",
         "domain": [
          0,
          1
         ]
        }
       }
      },
      "text/html": [
       "<div>                            <div id=\"0f78025a-bf18-4618-8ce8-1e57807bbcd3\" class=\"plotly-graph-div\" style=\"height:525px; width:100%;\"></div>            <script type=\"text/javascript\">                require([\"plotly\"], function(Plotly) {                    window.PLOTLYENV=window.PLOTLYENV || {};                                    if (document.getElementById(\"0f78025a-bf18-4618-8ce8-1e57807bbcd3\")) {                    Plotly.newPlot(                        \"0f78025a-bf18-4618-8ce8-1e57807bbcd3\",                        [{\"hoverinfo\":\"text\",\"hovertext\":[\"0.37\",\"0.37\",\"0.40\",\"0.39\",\"0.38\"],\"legendgroup\":\"group1\",\"name\":\"negatives\",\"showlegend\":true,\"text\":[\"0.37\",\"0.37\",\"0.40\",\"0.39\",\"0.38\"],\"textposition\":\"outside\",\"width\":0.2,\"x\":[0.0,1.0,2.0,3.0,4.0],\"y\":[0.36818181818181817,0.36818181818181817,0.39925373134328357,0.3891472868217054,0.37735849056603776],\"type\":\"bar\",\"xaxis\":\"x\",\"yaxis\":\"y\"},{\"hoverinfo\":\"text\",\"hovertext\":[\"0.13\",\"0.13\",\"0.09\",\"0.11\",\"0.08\"],\"legendgroup\":\"group1\",\"name\":\"positives\",\"showlegend\":true,\"text\":[\"0.13\",\"0.13\",\"0.09\",\"0.11\",\"0.08\"],\"textposition\":\"outside\",\"width\":0.2,\"x\":[0.2,1.2,2.2,3.2,4.2],\"y\":[0.1318181818181818,0.1318181818181818,0.08768656716417911,0.10852713178294573,0.08372641509433962],\"type\":\"bar\",\"xaxis\":\"x\",\"yaxis\":\"y\"},{\"hoverinfo\":\"text\",\"hovertext\":[\"0.45\",\"0.45\",\"0.60\",\"0.51\",\"0.55\"],\"legendgroup\":\"group1\",\"name\":\"fls\",\"showlegend\":true,\"text\":[\"0.45\",\"0.45\",\"0.60\",\"0.51\",\"0.55\"],\"textposition\":\"outside\",\"width\":0.2,\"x\":[0.4,1.4,2.4,3.4,4.4],\"y\":[0.44874715261959,0.44874715261959,0.6003649635036497,0.513677811550152,0.5451348182883939],\"type\":\"bar\",\"xaxis\":\"x\",\"yaxis\":\"y\"},{\"hoverinfo\":\"text\",\"hovertext\":[\"-0.90\",\"-0.90\",\"1.38\",\"0.64\",\"-0.23\"],\"legendgroup\":\"group2\",\"name\":\"negatives\",\"showlegend\":true,\"text\":[\"-0.90\",\"-0.90\",\"1.38\",\"0.64\",\"-0.23\"],\"textposition\":\"outside\",\"width\":0.2,\"x\":[0.0,1.0,2.0,3.0,4.0],\"y\":[-0.9002347311254772,-0.9002347311254772,1.384535961048254,0.6413918834695901,-0.22545838226688142],\"type\":\"bar\",\"xaxis\":\"x2\",\"yaxis\":\"y2\"},{\"hoverinfo\":\"text\",\"hovertext\":[\"1.00\",\"1.00\",\"-0.91\",\"-0.01\",\"-1.08\"],\"legendgroup\":\"group2\",\"name\":\"positives\",\"showlegend\":true,\"text\":[\"1.00\",\"1.00\",\"-0.91\",\"-0.01\",\"-1.08\"],\"textposition\":\"outside\",\"width\":0.2,\"x\":[0.2,1.2,2.2,3.2,4.2],\"y\":[1.0001873479310344,1.0001873479310344,-0.9103913598867193,-0.008146125224675841,-1.0818372107506755],\"type\":\"bar\",\"xaxis\":\"x2\",\"yaxis\":\"y2\"},{\"hoverinfo\":\"text\",\"hovertext\":[\"-0.96\",\"-0.96\",\"1.37\",\"0.04\",\"0.52\"],\"legendgroup\":\"group2\",\"name\":\"fls\",\"showlegend\":true,\"text\":[\"-0.96\",\"-0.96\",\"1.37\",\"0.04\",\"0.52\"],\"textposition\":\"outside\",\"width\":0.2,\"x\":[0.4,1.4,2.4,3.4,4.4],\"y\":[-0.9626318688947125,-0.9626318688947125,1.3693477285330435,0.036043491148559384,0.5198725181078188],\"type\":\"bar\",\"xaxis\":\"x2\",\"yaxis\":\"y2\"}],                        {\"template\":{\"data\":{\"histogram2dcontour\":[{\"type\":\"histogram2dcontour\",\"colorbar\":{\"outlinewidth\":0,\"ticks\":\"\"},\"colorscale\":[[0.0,\"#0d0887\"],[0.1111111111111111,\"#46039f\"],[0.2222222222222222,\"#7201a8\"],[0.3333333333333333,\"#9c179e\"],[0.4444444444444444,\"#bd3786\"],[0.5555555555555556,\"#d8576b\"],[0.6666666666666666,\"#ed7953\"],[0.7777777777777778,\"#fb9f3a\"],[0.8888888888888888,\"#fdca26\"],[1.0,\"#f0f921\"]]}],\"choropleth\":[{\"type\":\"choropleth\",\"colorbar\":{\"outlinewidth\":0,\"ticks\":\"\"}}],\"histogram2d\":[{\"type\":\"histogram2d\",\"colorbar\":{\"outlinewidth\":0,\"ticks\":\"\"},\"colorscale\":[[0.0,\"#0d0887\"],[0.1111111111111111,\"#46039f\"],[0.2222222222222222,\"#7201a8\"],[0.3333333333333333,\"#9c179e\"],[0.4444444444444444,\"#bd3786\"],[0.5555555555555556,\"#d8576b\"],[0.6666666666666666,\"#ed7953\"],[0.7777777777777778,\"#fb9f3a\"],[0.8888888888888888,\"#fdca26\"],[1.0,\"#f0f921\"]]}],\"heatmap\":[{\"type\":\"heatmap\",\"colorbar\":{\"outlinewidth\":0,\"ticks\":\"\"},\"colorscale\":[[0.0,\"#0d0887\"],[0.1111111111111111,\"#46039f\"],[0.2222222222222222,\"#7201a8\"],[0.3333333333333333,\"#9c179e\"],[0.4444444444444444,\"#bd3786\"],[0.5555555555555556,\"#d8576b\"],[0.6666666666666666,\"#ed7953\"],[0.7777777777777778,\"#fb9f3a\"],[0.8888888888888888,\"#fdca26\"],[1.0,\"#f0f921\"]]}],\"heatmapgl\":[{\"type\":\"heatmapgl\",\"colorbar\":{\"outlinewidth\":0,\"ticks\":\"\"},\"colorscale\":[[0.0,\"#0d0887\"],[0.1111111111111111,\"#46039f\"],[0.2222222222222222,\"#7201a8\"],[0.3333333333333333,\"#9c179e\"],[0.4444444444444444,\"#bd3786\"],[0.5555555555555556,\"#d8576b\"],[0.6666666666666666,\"#ed7953\"],[0.7777777777777778,\"#fb9f3a\"],[0.8888888888888888,\"#fdca26\"],[1.0,\"#f0f921\"]]}],\"contourcarpet\":[{\"type\":\"contourcarpet\",\"colorbar\":{\"outlinewidth\":0,\"ticks\":\"\"}}],\"contour\":[{\"type\":\"contour\",\"colorbar\":{\"outlinewidth\":0,\"ticks\":\"\"},\"colorscale\":[[0.0,\"#0d0887\"],[0.1111111111111111,\"#46039f\"],[0.2222222222222222,\"#7201a8\"],[0.3333333333333333,\"#9c179e\"],[0.4444444444444444,\"#bd3786\"],[0.5555555555555556,\"#d8576b\"],[0.6666666666666666,\"#ed7953\"],[0.7777777777777778,\"#fb9f3a\"],[0.8888888888888888,\"#fdca26\"],[1.0,\"#f0f921\"]]}],\"surface\":[{\"type\":\"surface\",\"colorbar\":{\"outlinewidth\":0,\"ticks\":\"\"},\"colorscale\":[[0.0,\"#0d0887\"],[0.1111111111111111,\"#46039f\"],[0.2222222222222222,\"#7201a8\"],[0.3333333333333333,\"#9c179e\"],[0.4444444444444444,\"#bd3786\"],[0.5555555555555556,\"#d8576b\"],[0.6666666666666666,\"#ed7953\"],[0.7777777777777778,\"#fb9f3a\"],[0.8888888888888888,\"#fdca26\"],[1.0,\"#f0f921\"]]}],\"mesh3d\":[{\"type\":\"mesh3d\",\"colorbar\":{\"outlinewidth\":0,\"ticks\":\"\"}}],\"scatter\":[{\"fillpattern\":{\"fillmode\":\"overlay\",\"size\":10,\"solidity\":0.2},\"type\":\"scatter\"}],\"parcoords\":[{\"type\":\"parcoords\",\"line\":{\"colorbar\":{\"outlinewidth\":0,\"ticks\":\"\"}}}],\"scatterpolargl\":[{\"type\":\"scatterpolargl\",\"marker\":{\"colorbar\":{\"outlinewidth\":0,\"ticks\":\"\"}}}],\"bar\":[{\"error_x\":{\"color\":\"#2a3f5f\"},\"error_y\":{\"color\":\"#2a3f5f\"},\"marker\":{\"line\":{\"color\":\"#E5ECF6\",\"width\":0.5},\"pattern\":{\"fillmode\":\"overlay\",\"size\":10,\"solidity\":0.2}},\"type\":\"bar\"}],\"scattergeo\":[{\"type\":\"scattergeo\",\"marker\":{\"colorbar\":{\"outlinewidth\":0,\"ticks\":\"\"}}}],\"scatterpolar\":[{\"type\":\"scatterpolar\",\"marker\":{\"colorbar\":{\"outlinewidth\":0,\"ticks\":\"\"}}}],\"histogram\":[{\"marker\":{\"pattern\":{\"fillmode\":\"overlay\",\"size\":10,\"solidity\":0.2}},\"type\":\"histogram\"}],\"scattergl\":[{\"type\":\"scattergl\",\"marker\":{\"colorbar\":{\"outlinewidth\":0,\"ticks\":\"\"}}}],\"scatter3d\":[{\"type\":\"scatter3d\",\"line\":{\"colorbar\":{\"outlinewidth\":0,\"ticks\":\"\"}},\"marker\":{\"colorbar\":{\"outlinewidth\":0,\"ticks\":\"\"}}}],\"scattermapbox\":[{\"type\":\"scattermapbox\",\"marker\":{\"colorbar\":{\"outlinewidth\":0,\"ticks\":\"\"}}}],\"scatterternary\":[{\"type\":\"scatterternary\",\"marker\":{\"colorbar\":{\"outlinewidth\":0,\"ticks\":\"\"}}}],\"scattercarpet\":[{\"type\":\"scattercarpet\",\"marker\":{\"colorbar\":{\"outlinewidth\":0,\"ticks\":\"\"}}}],\"carpet\":[{\"aaxis\":{\"endlinecolor\":\"#2a3f5f\",\"gridcolor\":\"white\",\"linecolor\":\"white\",\"minorgridcolor\":\"white\",\"startlinecolor\":\"#2a3f5f\"},\"baxis\":{\"endlinecolor\":\"#2a3f5f\",\"gridcolor\":\"white\",\"linecolor\":\"white\",\"minorgridcolor\":\"white\",\"startlinecolor\":\"#2a3f5f\"},\"type\":\"carpet\"}],\"table\":[{\"cells\":{\"fill\":{\"color\":\"#EBF0F8\"},\"line\":{\"color\":\"white\"}},\"header\":{\"fill\":{\"color\":\"#C8D4E3\"},\"line\":{\"color\":\"white\"}},\"type\":\"table\"}],\"barpolar\":[{\"marker\":{\"line\":{\"color\":\"#E5ECF6\",\"width\":0.5},\"pattern\":{\"fillmode\":\"overlay\",\"size\":10,\"solidity\":0.2}},\"type\":\"barpolar\"}],\"pie\":[{\"automargin\":true,\"type\":\"pie\"}]},\"layout\":{\"autotypenumbers\":\"strict\",\"colorway\":[\"#636efa\",\"#EF553B\",\"#00cc96\",\"#ab63fa\",\"#FFA15A\",\"#19d3f3\",\"#FF6692\",\"#B6E880\",\"#FF97FF\",\"#FECB52\"],\"font\":{\"color\":\"#2a3f5f\"},\"hovermode\":\"closest\",\"hoverlabel\":{\"align\":\"left\"},\"paper_bgcolor\":\"white\",\"plot_bgcolor\":\"#E5ECF6\",\"polar\":{\"bgcolor\":\"#E5ECF6\",\"angularaxis\":{\"gridcolor\":\"white\",\"linecolor\":\"white\",\"ticks\":\"\"},\"radialaxis\":{\"gridcolor\":\"white\",\"linecolor\":\"white\",\"ticks\":\"\"}},\"ternary\":{\"bgcolor\":\"#E5ECF6\",\"aaxis\":{\"gridcolor\":\"white\",\"linecolor\":\"white\",\"ticks\":\"\"},\"baxis\":{\"gridcolor\":\"white\",\"linecolor\":\"white\",\"ticks\":\"\"},\"caxis\":{\"gridcolor\":\"white\",\"linecolor\":\"white\",\"ticks\":\"\"}},\"coloraxis\":{\"colorbar\":{\"outlinewidth\":0,\"ticks\":\"\"}},\"colorscale\":{\"sequential\":[[0.0,\"#0d0887\"],[0.1111111111111111,\"#46039f\"],[0.2222222222222222,\"#7201a8\"],[0.3333333333333333,\"#9c179e\"],[0.4444444444444444,\"#bd3786\"],[0.5555555555555556,\"#d8576b\"],[0.6666666666666666,\"#ed7953\"],[0.7777777777777778,\"#fb9f3a\"],[0.8888888888888888,\"#fdca26\"],[1.0,\"#f0f921\"]],\"sequentialminus\":[[0.0,\"#0d0887\"],[0.1111111111111111,\"#46039f\"],[0.2222222222222222,\"#7201a8\"],[0.3333333333333333,\"#9c179e\"],[0.4444444444444444,\"#bd3786\"],[0.5555555555555556,\"#d8576b\"],[0.6666666666666666,\"#ed7953\"],[0.7777777777777778,\"#fb9f3a\"],[0.8888888888888888,\"#fdca26\"],[1.0,\"#f0f921\"]],\"diverging\":[[0,\"#8e0152\"],[0.1,\"#c51b7d\"],[0.2,\"#de77ae\"],[0.3,\"#f1b6da\"],[0.4,\"#fde0ef\"],[0.5,\"#f7f7f7\"],[0.6,\"#e6f5d0\"],[0.7,\"#b8e186\"],[0.8,\"#7fbc41\"],[0.9,\"#4d9221\"],[1,\"#276419\"]]},\"xaxis\":{\"gridcolor\":\"white\",\"linecolor\":\"white\",\"ticks\":\"\",\"title\":{\"standoff\":15},\"zerolinecolor\":\"white\",\"automargin\":true,\"zerolinewidth\":2},\"yaxis\":{\"gridcolor\":\"white\",\"linecolor\":\"white\",\"ticks\":\"\",\"title\":{\"standoff\":15},\"zerolinecolor\":\"white\",\"automargin\":true,\"zerolinewidth\":2},\"scene\":{\"xaxis\":{\"backgroundcolor\":\"#E5ECF6\",\"gridcolor\":\"white\",\"linecolor\":\"white\",\"showbackground\":true,\"ticks\":\"\",\"zerolinecolor\":\"white\",\"gridwidth\":2},\"yaxis\":{\"backgroundcolor\":\"#E5ECF6\",\"gridcolor\":\"white\",\"linecolor\":\"white\",\"showbackground\":true,\"ticks\":\"\",\"zerolinecolor\":\"white\",\"gridwidth\":2},\"zaxis\":{\"backgroundcolor\":\"#E5ECF6\",\"gridcolor\":\"white\",\"linecolor\":\"white\",\"showbackground\":true,\"ticks\":\"\",\"zerolinecolor\":\"white\",\"gridwidth\":2}},\"shapedefaults\":{\"line\":{\"color\":\"#2a3f5f\"}},\"annotationdefaults\":{\"arrowcolor\":\"#2a3f5f\",\"arrowhead\":0,\"arrowwidth\":1},\"geo\":{\"bgcolor\":\"white\",\"landcolor\":\"#E5ECF6\",\"subunitcolor\":\"white\",\"showland\":true,\"showlakes\":true,\"lakecolor\":\"white\"},\"title\":{\"x\":0.05},\"mapbox\":{\"style\":\"light\"}}},\"xaxis\":{\"anchor\":\"y\",\"domain\":[0.0,0.45],\"tickvals\":[0.20000000000000004,1.2,2.1999999999999997,3.1999999999999997,4.2],\"ticktext\":[\"GOOGL\",\"GOOG\",\"META\",\"TTD\",\"SNAP\"]},\"yaxis\":{\"anchor\":\"x\",\"domain\":[0.0,1.0]},\"xaxis2\":{\"anchor\":\"y2\",\"domain\":[0.55,1.0],\"tickvals\":[0.20000000000000004,1.2,2.1999999999999997,3.1999999999999997,4.2],\"ticktext\":[\"GOOGL\",\"GOOG\",\"META\",\"TTD\",\"SNAP\"]},\"yaxis2\":{\"anchor\":\"x2\",\"domain\":[0.0,1.0]},\"annotations\":[{\"font\":{\"size\":16},\"showarrow\":false,\"text\":\"Competitor Sentiment Analysis\",\"x\":0.225,\"xanchor\":\"center\",\"xref\":\"paper\",\"y\":1.0,\"yanchor\":\"bottom\",\"yref\":\"paper\"},{\"font\":{\"size\":16},\"showarrow\":false,\"text\":\"Competitor Sentiment Analysis Normalised\",\"x\":0.775,\"xanchor\":\"center\",\"xref\":\"paper\",\"y\":1.0,\"yanchor\":\"bottom\",\"yref\":\"paper\"}],\"title\":{\"text\":\"Competitor Data Analysis Normalised\"},\"legend\":{\"x\":0.6,\"y\":-0.1,\"orientation\":\"h\"},\"barmode\":\"group\",\"showlegend\":true},                        {\"responsive\": true}                    ).then(function(){\n",
       "                            \n",
       "var gd = document.getElementById('0f78025a-bf18-4618-8ce8-1e57807bbcd3');\n",
       "var x = new MutationObserver(function (mutations, observer) {{\n",
       "        var display = window.getComputedStyle(gd).display;\n",
       "        if (!display || display === 'none') {{\n",
       "            console.log([gd, 'removed!']);\n",
       "            Plotly.purge(gd);\n",
       "            observer.disconnect();\n",
       "        }}\n",
       "}});\n",
       "\n",
       "// Listen for the removal of the full notebook cells\n",
       "var notebookContainer = gd.closest('#notebook-container');\n",
       "if (notebookContainer) {{\n",
       "    x.observe(notebookContainer, {childList: true});\n",
       "}}\n",
       "\n",
       "// Listen for the clearing of the current output cell\n",
       "var outputEl = gd.closest('.output');\n",
       "if (outputEl) {{\n",
       "    x.observe(outputEl, {childList: true});\n",
       "}}\n",
       "\n",
       "                        })                };                });            </script>        </div>"
      ]
     },
     "metadata": {},
     "output_type": "display_data"
    }
   ],
   "source": [
    "from plotly.subplots import make_subplots\n",
    "import plotly.graph_objects as go\n",
    "\n",
    "fig1 = make_subplots(rows=1, cols=2, subplot_titles=(\"Historical Sentiment Analysis\", \"Historical Sentiment Analysis Normalised\"))\n",
    "fig2 = make_subplots(rows=1, cols=2, subplot_titles=(\"Competitor Sentiment Analysis\", \"Competitor Sentiment Analysis Normalised\"))\n",
    "\n",
    "# Define legend positions for each subplot\n",
    "make_plots(fig1, historical_df, 1, 1, 'Historical Data Analysis', legend_x=-2, legend_y=-0.1)\n",
    "make_plots(fig1, historical_df_norm, 1, 2, 'Historical Data Analysis Normalised', legend_x=0.6, legend_y=-0.1)\n",
    "make_plots(fig2, competitors_df, 1, 1, 'Competitor Data Analysis', legend_x=0.1, legend_y=-0.1)\n",
    "make_plots(fig2, competitors_df_norm, 1, 2, 'Competitor Data Analysis Normalised', legend_x=0.6, legend_y=-0.1)\n",
    "\n",
    "fig1.show()\n",
    "fig2.show()"
   ]
  },
  {
   "cell_type": "code",
   "execution_count": 35,
   "id": "da3c605b",
   "metadata": {},
   "outputs": [],
   "source": [
    "import yfinance as yf"
   ]
  },
  {
   "cell_type": "code",
   "execution_count": 36,
   "id": "3b18a9f0",
   "metadata": {},
   "outputs": [
    {
     "name": "stderr",
     "output_type": "stream",
     "text": [
      "/var/folders/p5/5wy4s80s1mb5bcs768v3lhv00000gn/T/ipykernel_57289/3423012642.py:7: SettingWithCopyWarning:\n",
      "\n",
      "\n",
      "A value is trying to be set on a copy of a slice from a DataFrame.\n",
      "Try using .loc[row_indexer,col_indexer] = value instead\n",
      "\n",
      "See the caveats in the documentation: https://pandas.pydata.org/pandas-docs/stable/user_guide/indexing.html#returning-a-view-versus-a-copy\n",
      "\n",
      "/var/folders/p5/5wy4s80s1mb5bcs768v3lhv00000gn/T/ipykernel_57289/3423012642.py:8: SettingWithCopyWarning:\n",
      "\n",
      "\n",
      "A value is trying to be set on a copy of a slice from a DataFrame.\n",
      "Try using .loc[row_indexer,col_indexer] = value instead\n",
      "\n",
      "See the caveats in the documentation: https://pandas.pydata.org/pandas-docs/stable/user_guide/indexing.html#returning-a-view-versus-a-copy\n",
      "\n"
     ]
    }
   ],
   "source": [
    "comps = get_competitors('all_stocks.csv', 5, ticker)\n",
    "\n",
    "stock_prices = pd.DataFrame()\n",
    "stock_rets = pd.DataFrame()\n",
    "\n",
    "for comp in comps:    \n",
    "    tickerData = yf.Ticker(comp)\n",
    "\n",
    "    # Get the historical prices for this ticker\n",
    "    tickerDf = tickerData.history(start = str(year+1) + '-01-01', end = str(year+1) + '-12-31')  # 1 month of data\n",
    "\n",
    "    # Show only the Close prices\n",
    "    close_prices = tickerDf['Close']\n",
    "    close_prices_rets = close_prices/close_prices.iloc[0] - 1\n",
    "    \n",
    "    stock_prices = pd.concat([stock_prices, close_prices.rename(comp)], axis = 1)\n",
    "    stock_rets = pd.concat([stock_rets, close_prices_rets.rename(comp)], axis = 1)"
   ]
  },
  {
   "cell_type": "code",
   "execution_count": 37,
   "id": "c993217b",
   "metadata": {},
   "outputs": [],
   "source": [
    "import plotly.express as px"
   ]
  },
  {
   "cell_type": "code",
   "execution_count": 38,
   "id": "248287ff",
   "metadata": {},
   "outputs": [
    {
     "name": "stderr",
     "output_type": "stream",
     "text": [
      "/opt/homebrew/lib/python3.10/site-packages/plotly/express/_core.py:1076: FutureWarning:\n",
      "\n",
      "Dtype inference on a pandas object (Series, Index, ExtensionArray) is deprecated. The Series constructor will keep the original dtype in the future. Call `infer_objects` on the result to get the old behavior.\n",
      "\n"
     ]
    },
    {
     "data": {
      "application/vnd.plotly.v1+json": {
       "config": {
        "plotlyServerURL": "https://plot.ly"
       },
       "data": [
        {
         "hovertemplate": "variable=GOOGL<br>index=%{x}<br>value=%{y}<extra></extra>",
         "legendgroup": "GOOGL",
         "line": {
          "color": "#636efa",
          "dash": "solid"
         },
         "marker": {
          "symbol": "circle"
         },
         "mode": "lines",
         "name": "GOOGL",
         "showlegend": true,
         "type": "scattergl",
         "x": [
          "2019-01-02T00:00:00-05:00",
          "2019-01-03T00:00:00-05:00",
          "2019-01-04T00:00:00-05:00",
          "2019-01-07T00:00:00-05:00",
          "2019-01-08T00:00:00-05:00",
          "2019-01-09T00:00:00-05:00",
          "2019-01-10T00:00:00-05:00",
          "2019-01-11T00:00:00-05:00",
          "2019-01-14T00:00:00-05:00",
          "2019-01-15T00:00:00-05:00",
          "2019-01-16T00:00:00-05:00",
          "2019-01-17T00:00:00-05:00",
          "2019-01-18T00:00:00-05:00",
          "2019-01-22T00:00:00-05:00",
          "2019-01-23T00:00:00-05:00",
          "2019-01-24T00:00:00-05:00",
          "2019-01-25T00:00:00-05:00",
          "2019-01-28T00:00:00-05:00",
          "2019-01-29T00:00:00-05:00",
          "2019-01-30T00:00:00-05:00",
          "2019-01-31T00:00:00-05:00",
          "2019-02-01T00:00:00-05:00",
          "2019-02-04T00:00:00-05:00",
          "2019-02-05T00:00:00-05:00",
          "2019-02-06T00:00:00-05:00",
          "2019-02-07T00:00:00-05:00",
          "2019-02-08T00:00:00-05:00",
          "2019-02-11T00:00:00-05:00",
          "2019-02-12T00:00:00-05:00",
          "2019-02-13T00:00:00-05:00",
          "2019-02-14T00:00:00-05:00",
          "2019-02-15T00:00:00-05:00",
          "2019-02-19T00:00:00-05:00",
          "2019-02-20T00:00:00-05:00",
          "2019-02-21T00:00:00-05:00",
          "2019-02-22T00:00:00-05:00",
          "2019-02-25T00:00:00-05:00",
          "2019-02-26T00:00:00-05:00",
          "2019-02-27T00:00:00-05:00",
          "2019-02-28T00:00:00-05:00",
          "2019-03-01T00:00:00-05:00",
          "2019-03-04T00:00:00-05:00",
          "2019-03-05T00:00:00-05:00",
          "2019-03-06T00:00:00-05:00",
          "2019-03-07T00:00:00-05:00",
          "2019-03-08T00:00:00-05:00",
          "2019-03-11T00:00:00-04:00",
          "2019-03-12T00:00:00-04:00",
          "2019-03-13T00:00:00-04:00",
          "2019-03-14T00:00:00-04:00",
          "2019-03-15T00:00:00-04:00",
          "2019-03-18T00:00:00-04:00",
          "2019-03-19T00:00:00-04:00",
          "2019-03-20T00:00:00-04:00",
          "2019-03-21T00:00:00-04:00",
          "2019-03-22T00:00:00-04:00",
          "2019-03-25T00:00:00-04:00",
          "2019-03-26T00:00:00-04:00",
          "2019-03-27T00:00:00-04:00",
          "2019-03-28T00:00:00-04:00",
          "2019-03-29T00:00:00-04:00",
          "2019-04-01T00:00:00-04:00",
          "2019-04-02T00:00:00-04:00",
          "2019-04-03T00:00:00-04:00",
          "2019-04-04T00:00:00-04:00",
          "2019-04-05T00:00:00-04:00",
          "2019-04-08T00:00:00-04:00",
          "2019-04-09T00:00:00-04:00",
          "2019-04-10T00:00:00-04:00",
          "2019-04-11T00:00:00-04:00",
          "2019-04-12T00:00:00-04:00",
          "2019-04-15T00:00:00-04:00",
          "2019-04-16T00:00:00-04:00",
          "2019-04-17T00:00:00-04:00",
          "2019-04-18T00:00:00-04:00",
          "2019-04-22T00:00:00-04:00",
          "2019-04-23T00:00:00-04:00",
          "2019-04-24T00:00:00-04:00",
          "2019-04-25T00:00:00-04:00",
          "2019-04-26T00:00:00-04:00",
          "2019-04-29T00:00:00-04:00",
          "2019-04-30T00:00:00-04:00",
          "2019-05-01T00:00:00-04:00",
          "2019-05-02T00:00:00-04:00",
          "2019-05-03T00:00:00-04:00",
          "2019-05-06T00:00:00-04:00",
          "2019-05-07T00:00:00-04:00",
          "2019-05-08T00:00:00-04:00",
          "2019-05-09T00:00:00-04:00",
          "2019-05-10T00:00:00-04:00",
          "2019-05-13T00:00:00-04:00",
          "2019-05-14T00:00:00-04:00",
          "2019-05-15T00:00:00-04:00",
          "2019-05-16T00:00:00-04:00",
          "2019-05-17T00:00:00-04:00",
          "2019-05-20T00:00:00-04:00",
          "2019-05-21T00:00:00-04:00",
          "2019-05-22T00:00:00-04:00",
          "2019-05-23T00:00:00-04:00",
          "2019-05-24T00:00:00-04:00",
          "2019-05-28T00:00:00-04:00",
          "2019-05-29T00:00:00-04:00",
          "2019-05-30T00:00:00-04:00",
          "2019-05-31T00:00:00-04:00",
          "2019-06-03T00:00:00-04:00",
          "2019-06-04T00:00:00-04:00",
          "2019-06-05T00:00:00-04:00",
          "2019-06-06T00:00:00-04:00",
          "2019-06-07T00:00:00-04:00",
          "2019-06-10T00:00:00-04:00",
          "2019-06-11T00:00:00-04:00",
          "2019-06-12T00:00:00-04:00",
          "2019-06-13T00:00:00-04:00",
          "2019-06-14T00:00:00-04:00",
          "2019-06-17T00:00:00-04:00",
          "2019-06-18T00:00:00-04:00",
          "2019-06-19T00:00:00-04:00",
          "2019-06-20T00:00:00-04:00",
          "2019-06-21T00:00:00-04:00",
          "2019-06-24T00:00:00-04:00",
          "2019-06-25T00:00:00-04:00",
          "2019-06-26T00:00:00-04:00",
          "2019-06-27T00:00:00-04:00",
          "2019-06-28T00:00:00-04:00",
          "2019-07-01T00:00:00-04:00",
          "2019-07-02T00:00:00-04:00",
          "2019-07-03T00:00:00-04:00",
          "2019-07-05T00:00:00-04:00",
          "2019-07-08T00:00:00-04:00",
          "2019-07-09T00:00:00-04:00",
          "2019-07-10T00:00:00-04:00",
          "2019-07-11T00:00:00-04:00",
          "2019-07-12T00:00:00-04:00",
          "2019-07-15T00:00:00-04:00",
          "2019-07-16T00:00:00-04:00",
          "2019-07-17T00:00:00-04:00",
          "2019-07-18T00:00:00-04:00",
          "2019-07-19T00:00:00-04:00",
          "2019-07-22T00:00:00-04:00",
          "2019-07-23T00:00:00-04:00",
          "2019-07-24T00:00:00-04:00",
          "2019-07-25T00:00:00-04:00",
          "2019-07-26T00:00:00-04:00",
          "2019-07-29T00:00:00-04:00",
          "2019-07-30T00:00:00-04:00",
          "2019-07-31T00:00:00-04:00",
          "2019-08-01T00:00:00-04:00",
          "2019-08-02T00:00:00-04:00",
          "2019-08-05T00:00:00-04:00",
          "2019-08-06T00:00:00-04:00",
          "2019-08-07T00:00:00-04:00",
          "2019-08-08T00:00:00-04:00",
          "2019-08-09T00:00:00-04:00",
          "2019-08-12T00:00:00-04:00",
          "2019-08-13T00:00:00-04:00",
          "2019-08-14T00:00:00-04:00",
          "2019-08-15T00:00:00-04:00",
          "2019-08-16T00:00:00-04:00",
          "2019-08-19T00:00:00-04:00",
          "2019-08-20T00:00:00-04:00",
          "2019-08-21T00:00:00-04:00",
          "2019-08-22T00:00:00-04:00",
          "2019-08-23T00:00:00-04:00",
          "2019-08-26T00:00:00-04:00",
          "2019-08-27T00:00:00-04:00",
          "2019-08-28T00:00:00-04:00",
          "2019-08-29T00:00:00-04:00",
          "2019-08-30T00:00:00-04:00",
          "2019-09-03T00:00:00-04:00",
          "2019-09-04T00:00:00-04:00",
          "2019-09-05T00:00:00-04:00",
          "2019-09-06T00:00:00-04:00",
          "2019-09-09T00:00:00-04:00",
          "2019-09-10T00:00:00-04:00",
          "2019-09-11T00:00:00-04:00",
          "2019-09-12T00:00:00-04:00",
          "2019-09-13T00:00:00-04:00",
          "2019-09-16T00:00:00-04:00",
          "2019-09-17T00:00:00-04:00",
          "2019-09-18T00:00:00-04:00",
          "2019-09-19T00:00:00-04:00",
          "2019-09-20T00:00:00-04:00",
          "2019-09-23T00:00:00-04:00",
          "2019-09-24T00:00:00-04:00",
          "2019-09-25T00:00:00-04:00",
          "2019-09-26T00:00:00-04:00",
          "2019-09-27T00:00:00-04:00",
          "2019-09-30T00:00:00-04:00",
          "2019-10-01T00:00:00-04:00",
          "2019-10-02T00:00:00-04:00",
          "2019-10-03T00:00:00-04:00",
          "2019-10-04T00:00:00-04:00",
          "2019-10-07T00:00:00-04:00",
          "2019-10-08T00:00:00-04:00",
          "2019-10-09T00:00:00-04:00",
          "2019-10-10T00:00:00-04:00",
          "2019-10-11T00:00:00-04:00",
          "2019-10-14T00:00:00-04:00",
          "2019-10-15T00:00:00-04:00",
          "2019-10-16T00:00:00-04:00",
          "2019-10-17T00:00:00-04:00",
          "2019-10-18T00:00:00-04:00",
          "2019-10-21T00:00:00-04:00",
          "2019-10-22T00:00:00-04:00",
          "2019-10-23T00:00:00-04:00",
          "2019-10-24T00:00:00-04:00",
          "2019-10-25T00:00:00-04:00",
          "2019-10-28T00:00:00-04:00",
          "2019-10-29T00:00:00-04:00",
          "2019-10-30T00:00:00-04:00",
          "2019-10-31T00:00:00-04:00",
          "2019-11-01T00:00:00-04:00",
          "2019-11-04T00:00:00-05:00",
          "2019-11-05T00:00:00-05:00",
          "2019-11-06T00:00:00-05:00",
          "2019-11-07T00:00:00-05:00",
          "2019-11-08T00:00:00-05:00",
          "2019-11-11T00:00:00-05:00",
          "2019-11-12T00:00:00-05:00",
          "2019-11-13T00:00:00-05:00",
          "2019-11-14T00:00:00-05:00",
          "2019-11-15T00:00:00-05:00",
          "2019-11-18T00:00:00-05:00",
          "2019-11-19T00:00:00-05:00",
          "2019-11-20T00:00:00-05:00",
          "2019-11-21T00:00:00-05:00",
          "2019-11-22T00:00:00-05:00",
          "2019-11-25T00:00:00-05:00",
          "2019-11-26T00:00:00-05:00",
          "2019-11-27T00:00:00-05:00",
          "2019-11-29T00:00:00-05:00",
          "2019-12-02T00:00:00-05:00",
          "2019-12-03T00:00:00-05:00",
          "2019-12-04T00:00:00-05:00",
          "2019-12-05T00:00:00-05:00",
          "2019-12-06T00:00:00-05:00",
          "2019-12-09T00:00:00-05:00",
          "2019-12-10T00:00:00-05:00",
          "2019-12-11T00:00:00-05:00",
          "2019-12-12T00:00:00-05:00",
          "2019-12-13T00:00:00-05:00",
          "2019-12-16T00:00:00-05:00",
          "2019-12-17T00:00:00-05:00",
          "2019-12-18T00:00:00-05:00",
          "2019-12-19T00:00:00-05:00",
          "2019-12-20T00:00:00-05:00",
          "2019-12-23T00:00:00-05:00",
          "2019-12-24T00:00:00-05:00",
          "2019-12-26T00:00:00-05:00",
          "2019-12-27T00:00:00-05:00",
          "2019-12-30T00:00:00-05:00"
         ],
         "xaxis": "x",
         "y": [
          0,
          -0.027695653513747476,
          0.022177312888936873,
          0.02013881464148115,
          0.029098875266910795,
          0.025571723526396584,
          0.02289794878464857,
          0.009282400873501517,
          -0.003005663668622649,
          0.030179756772002575,
          0.03302417797811352,
          0.04213600472572798,
          0.049891919083338454,
          0.022708277301155544,
          0.02818864022618217,
          0.02779989325734511,
          0.04440207981798472,
          0.02387451820766673,
          0.014582568655362227,
          0.04106459956096331,
          0.06751805676863154,
          0.060624995750114596,
          0.08224291520585147,
          0.09215111623331818,
          0.06467363556252059,
          0.04857398439311855,
          0.04522695545729416,
          0.04498042593183893,
          0.06912049868409076,
          0.07011602078776313,
          0.07065646154030891,
          0.06158261249247854,
          0.06810595156128851,
          0.062492847533207385,
          0.046962066137332226,
          0.0586717845656024,
          0.05940189680164121,
          0.06383921124440839,
          0.06467363556252059,
          0.06814385692259672,
          0.08897480610033259,
          0.09362081704572267,
          0.10857317998926796,
          0.10454356519599162,
          0.09118402315062712,
          0.09034967117099058,
          0.11812113540735458,
          0.1351784033191208,
          0.13689456131850464,
          0.1307031111765693,
          0.12858872986802128,
          0.1269295022490755,
          0.14011832549160141,
          0.16284555547341117,
          0.17204266928396916,
          0.14503922264495217,
          0.1353016680818484,
          0.1281526011975489,
          0.1169359418201894,
          0.11149348425647121,
          0.11587401299575184,
          0.13681875059588822,
          0.14303862975880466,
          0.1480354099732477,
          0.15622745300133056,
          0.14864218510808302,
          0.14563659377793625,
          0.14033635365759967,
          0.1439014107594223,
          0.14687864540706386,
          0.15933742875202683,
          0.1629403912151577,
          0.16804148351167414,
          0.17584477957091993,
          0.1771058562191774,
          0.1887586442670095,
          0.2047160779930297,
          0.1947225175641436,
          0.20163460360179064,
          0.2111919630217285,
          0.2289982958501875,
          0.136799797915234,
          0.11248907869861924,
          0.10603214635057445,
          0.12787764265111257,
          0.13158491719631682,
          0.11774186477884463,
          0.11008078616298067,
          0.10741641542308389,
          0.10710355151533912,
          0.07766331098122659,
          0.06654148734561338,
          0.11009973884363466,
          0.12308941426234066,
          0.1081844330204309,
          0.08531498559523931,
          0.09458791012841372,
          0.09592479749928784,
          0.08595966609138284,
          0.07957861680443057,
          0.08047937550483208,
          0.061876596058044964,
          0.06327034147088129,
          0.04913337782631855,
          -0.015113605406056885,
          -0.00018019514316580665,
          -0.009519526397105516,
          -0.006561244430118185,
          0.012980199078378885,
          0.02662417601050704,
          0.02499330507406672,
          0.023153954650430908,
          0.034446424750407045,
          0.029980608948182663,
          0.03717712987259314,
          0.04793870789882626,
          0.04724650102409589,
          0.05548599809228971,
          0.06702507005619696,
          0.058804525668657126,
          0.03119430389480482,
          0.02431064687813911,
          0.020811996497081653,
          0.02666208137181525,
          0.04297035670536431,
          0.05491712831876261,
          0.0647684713042671,
          0.07394656009569522,
          0.05888988507007653,
          0.0660010465930676,
          0.08175940483374378,
          0.08476499616389055,
          0.08595966609138284,
          0.09086168290255525,
          0.09365872240703088,
          0.0872871494604055,
          0.08776118349218631,
          0.07288463127125766,
          0.08014748657795745,
          0.0885292010895331,
          0.08064054562886813,
          0.07704705950606416,
          0.18066143698067294,
          0.17745662548823038,
          0.16433420896646989,
          0.15504225941416538,
          0.14895512135430367,
          0.13429666963784892,
          0.09488182135550449,
          0.11036522104974411,
          0.114944825274369,
          0.14365495357244296,
          0.1272613188374745,
          0.11360786556501923,
          0.13468534426821033,
          0.10388933602104533,
          0.10869644475199558,
          0.11807368136724339,
          0.13820301966839743,
          0.12216970288128493,
          0.12980235247616778,
          0.12974549443420536,
          0.09377251082943161,
          0.11045998445301475,
          0.11011869152428888,
          0.1128967783481103,
          0.13232450577268273,
          0.1288068303724954,
          0.10891454525646949,
          0.12097503295379264,
          0.1493438683231405,
          0.14377821833517057,
          0.14278262389302232,
          0.1431903235425136,
          0.15674894107322235,
          0.1709428350982234,
          0.17574046748884653,
          0.16777600130556491,
          0.16611670134814327,
          0.16874309438825597,
          0.17452684488070003,
          0.16607879598683506,
          0.17067735289211394,
          0.155165524176893,
          0.18134409517660055,
          0.17788327781837565,
          0.1623904741222848,
          0.1578298225783139,
          0.14347475842927704,
          0.11685058241877,
          0.12776385422871206,
          0.14817762741662954,
          0.14560809241847927,
          0.12842755974398545,
          0.14006139511116333,
          0.14676485698466313,
          0.15268134858016214,
          0.15463455976467433,
          0.17783589611674033,
          0.17855653201245203,
          0.18784840922628065,
          0.17989341938332615,
          0.17977015462059853,
          0.17684985035339507,
          0.19242801345090554,
          0.19383130754254485,
          0.1987522046958956,
          0.22215261653330587,
          0.19530093601647347,
          0.19533884137778168,
          0.19353732397697843,
          0.20629001854903195,
          0.22274998766628995,
          0.22448509834632802,
          0.22407739869683674,
          0.23918152776256663,
          0.24113466660860294,
          0.23097053205382956,
          0.22995591259255166,
          0.2289793431695335,
          0.24127688405198477,
          0.26440248201991023,
          0.2514126619242527,
          0.24453862592486542,
          0.23436494269128927,
          0.23273414409332482,
          0.2265995519933519,
          0.23794888013529025,
          0.24492737289370248,
          0.24410242491591738,
          0.23647925166136163,
          0.22203890044938102,
          0.22761402677767828,
          0.25055935726396217,
          0.2581635778378637,
          0.2699491069887503,
          0.2733624703068642,
          0.2732677069035936,
          0.27455721257283217,
          0.2785773510257812,
          0.2770413158310874,
          0.2901544006894725,
          0.2846455364049889,
          0.2818199955410563,
          0.28611516487891775,
          0.28116576636611,
          0.2806064452713857,
          0.27472778669871945,
          0.2918325086505966,
          0.28440855555833666,
          0.27025249455616795
         ],
         "yaxis": "y"
        },
        {
         "hovertemplate": "variable=GOOG<br>index=%{x}<br>value=%{y}<extra></extra>",
         "legendgroup": "GOOG",
         "line": {
          "color": "#EF553B",
          "dash": "solid"
         },
         "marker": {
          "symbol": "circle"
         },
         "mode": "lines",
         "name": "GOOG",
         "showlegend": true,
         "type": "scattergl",
         "x": [
          "2019-01-02T00:00:00-05:00",
          "2019-01-03T00:00:00-05:00",
          "2019-01-04T00:00:00-05:00",
          "2019-01-07T00:00:00-05:00",
          "2019-01-08T00:00:00-05:00",
          "2019-01-09T00:00:00-05:00",
          "2019-01-10T00:00:00-05:00",
          "2019-01-11T00:00:00-05:00",
          "2019-01-14T00:00:00-05:00",
          "2019-01-15T00:00:00-05:00",
          "2019-01-16T00:00:00-05:00",
          "2019-01-17T00:00:00-05:00",
          "2019-01-18T00:00:00-05:00",
          "2019-01-22T00:00:00-05:00",
          "2019-01-23T00:00:00-05:00",
          "2019-01-24T00:00:00-05:00",
          "2019-01-25T00:00:00-05:00",
          "2019-01-28T00:00:00-05:00",
          "2019-01-29T00:00:00-05:00",
          "2019-01-30T00:00:00-05:00",
          "2019-01-31T00:00:00-05:00",
          "2019-02-01T00:00:00-05:00",
          "2019-02-04T00:00:00-05:00",
          "2019-02-05T00:00:00-05:00",
          "2019-02-06T00:00:00-05:00",
          "2019-02-07T00:00:00-05:00",
          "2019-02-08T00:00:00-05:00",
          "2019-02-11T00:00:00-05:00",
          "2019-02-12T00:00:00-05:00",
          "2019-02-13T00:00:00-05:00",
          "2019-02-14T00:00:00-05:00",
          "2019-02-15T00:00:00-05:00",
          "2019-02-19T00:00:00-05:00",
          "2019-02-20T00:00:00-05:00",
          "2019-02-21T00:00:00-05:00",
          "2019-02-22T00:00:00-05:00",
          "2019-02-25T00:00:00-05:00",
          "2019-02-26T00:00:00-05:00",
          "2019-02-27T00:00:00-05:00",
          "2019-02-28T00:00:00-05:00",
          "2019-03-01T00:00:00-05:00",
          "2019-03-04T00:00:00-05:00",
          "2019-03-05T00:00:00-05:00",
          "2019-03-06T00:00:00-05:00",
          "2019-03-07T00:00:00-05:00",
          "2019-03-08T00:00:00-05:00",
          "2019-03-11T00:00:00-04:00",
          "2019-03-12T00:00:00-04:00",
          "2019-03-13T00:00:00-04:00",
          "2019-03-14T00:00:00-04:00",
          "2019-03-15T00:00:00-04:00",
          "2019-03-18T00:00:00-04:00",
          "2019-03-19T00:00:00-04:00",
          "2019-03-20T00:00:00-04:00",
          "2019-03-21T00:00:00-04:00",
          "2019-03-22T00:00:00-04:00",
          "2019-03-25T00:00:00-04:00",
          "2019-03-26T00:00:00-04:00",
          "2019-03-27T00:00:00-04:00",
          "2019-03-28T00:00:00-04:00",
          "2019-03-29T00:00:00-04:00",
          "2019-04-01T00:00:00-04:00",
          "2019-04-02T00:00:00-04:00",
          "2019-04-03T00:00:00-04:00",
          "2019-04-04T00:00:00-04:00",
          "2019-04-05T00:00:00-04:00",
          "2019-04-08T00:00:00-04:00",
          "2019-04-09T00:00:00-04:00",
          "2019-04-10T00:00:00-04:00",
          "2019-04-11T00:00:00-04:00",
          "2019-04-12T00:00:00-04:00",
          "2019-04-15T00:00:00-04:00",
          "2019-04-16T00:00:00-04:00",
          "2019-04-17T00:00:00-04:00",
          "2019-04-18T00:00:00-04:00",
          "2019-04-22T00:00:00-04:00",
          "2019-04-23T00:00:00-04:00",
          "2019-04-24T00:00:00-04:00",
          "2019-04-25T00:00:00-04:00",
          "2019-04-26T00:00:00-04:00",
          "2019-04-29T00:00:00-04:00",
          "2019-04-30T00:00:00-04:00",
          "2019-05-01T00:00:00-04:00",
          "2019-05-02T00:00:00-04:00",
          "2019-05-03T00:00:00-04:00",
          "2019-05-06T00:00:00-04:00",
          "2019-05-07T00:00:00-04:00",
          "2019-05-08T00:00:00-04:00",
          "2019-05-09T00:00:00-04:00",
          "2019-05-10T00:00:00-04:00",
          "2019-05-13T00:00:00-04:00",
          "2019-05-14T00:00:00-04:00",
          "2019-05-15T00:00:00-04:00",
          "2019-05-16T00:00:00-04:00",
          "2019-05-17T00:00:00-04:00",
          "2019-05-20T00:00:00-04:00",
          "2019-05-21T00:00:00-04:00",
          "2019-05-22T00:00:00-04:00",
          "2019-05-23T00:00:00-04:00",
          "2019-05-24T00:00:00-04:00",
          "2019-05-28T00:00:00-04:00",
          "2019-05-29T00:00:00-04:00",
          "2019-05-30T00:00:00-04:00",
          "2019-05-31T00:00:00-04:00",
          "2019-06-03T00:00:00-04:00",
          "2019-06-04T00:00:00-04:00",
          "2019-06-05T00:00:00-04:00",
          "2019-06-06T00:00:00-04:00",
          "2019-06-07T00:00:00-04:00",
          "2019-06-10T00:00:00-04:00",
          "2019-06-11T00:00:00-04:00",
          "2019-06-12T00:00:00-04:00",
          "2019-06-13T00:00:00-04:00",
          "2019-06-14T00:00:00-04:00",
          "2019-06-17T00:00:00-04:00",
          "2019-06-18T00:00:00-04:00",
          "2019-06-19T00:00:00-04:00",
          "2019-06-20T00:00:00-04:00",
          "2019-06-21T00:00:00-04:00",
          "2019-06-24T00:00:00-04:00",
          "2019-06-25T00:00:00-04:00",
          "2019-06-26T00:00:00-04:00",
          "2019-06-27T00:00:00-04:00",
          "2019-06-28T00:00:00-04:00",
          "2019-07-01T00:00:00-04:00",
          "2019-07-02T00:00:00-04:00",
          "2019-07-03T00:00:00-04:00",
          "2019-07-05T00:00:00-04:00",
          "2019-07-08T00:00:00-04:00",
          "2019-07-09T00:00:00-04:00",
          "2019-07-10T00:00:00-04:00",
          "2019-07-11T00:00:00-04:00",
          "2019-07-12T00:00:00-04:00",
          "2019-07-15T00:00:00-04:00",
          "2019-07-16T00:00:00-04:00",
          "2019-07-17T00:00:00-04:00",
          "2019-07-18T00:00:00-04:00",
          "2019-07-19T00:00:00-04:00",
          "2019-07-22T00:00:00-04:00",
          "2019-07-23T00:00:00-04:00",
          "2019-07-24T00:00:00-04:00",
          "2019-07-25T00:00:00-04:00",
          "2019-07-26T00:00:00-04:00",
          "2019-07-29T00:00:00-04:00",
          "2019-07-30T00:00:00-04:00",
          "2019-07-31T00:00:00-04:00",
          "2019-08-01T00:00:00-04:00",
          "2019-08-02T00:00:00-04:00",
          "2019-08-05T00:00:00-04:00",
          "2019-08-06T00:00:00-04:00",
          "2019-08-07T00:00:00-04:00",
          "2019-08-08T00:00:00-04:00",
          "2019-08-09T00:00:00-04:00",
          "2019-08-12T00:00:00-04:00",
          "2019-08-13T00:00:00-04:00",
          "2019-08-14T00:00:00-04:00",
          "2019-08-15T00:00:00-04:00",
          "2019-08-16T00:00:00-04:00",
          "2019-08-19T00:00:00-04:00",
          "2019-08-20T00:00:00-04:00",
          "2019-08-21T00:00:00-04:00",
          "2019-08-22T00:00:00-04:00",
          "2019-08-23T00:00:00-04:00",
          "2019-08-26T00:00:00-04:00",
          "2019-08-27T00:00:00-04:00",
          "2019-08-28T00:00:00-04:00",
          "2019-08-29T00:00:00-04:00",
          "2019-08-30T00:00:00-04:00",
          "2019-09-03T00:00:00-04:00",
          "2019-09-04T00:00:00-04:00",
          "2019-09-05T00:00:00-04:00",
          "2019-09-06T00:00:00-04:00",
          "2019-09-09T00:00:00-04:00",
          "2019-09-10T00:00:00-04:00",
          "2019-09-11T00:00:00-04:00",
          "2019-09-12T00:00:00-04:00",
          "2019-09-13T00:00:00-04:00",
          "2019-09-16T00:00:00-04:00",
          "2019-09-17T00:00:00-04:00",
          "2019-09-18T00:00:00-04:00",
          "2019-09-19T00:00:00-04:00",
          "2019-09-20T00:00:00-04:00",
          "2019-09-23T00:00:00-04:00",
          "2019-09-24T00:00:00-04:00",
          "2019-09-25T00:00:00-04:00",
          "2019-09-26T00:00:00-04:00",
          "2019-09-27T00:00:00-04:00",
          "2019-09-30T00:00:00-04:00",
          "2019-10-01T00:00:00-04:00",
          "2019-10-02T00:00:00-04:00",
          "2019-10-03T00:00:00-04:00",
          "2019-10-04T00:00:00-04:00",
          "2019-10-07T00:00:00-04:00",
          "2019-10-08T00:00:00-04:00",
          "2019-10-09T00:00:00-04:00",
          "2019-10-10T00:00:00-04:00",
          "2019-10-11T00:00:00-04:00",
          "2019-10-14T00:00:00-04:00",
          "2019-10-15T00:00:00-04:00",
          "2019-10-16T00:00:00-04:00",
          "2019-10-17T00:00:00-04:00",
          "2019-10-18T00:00:00-04:00",
          "2019-10-21T00:00:00-04:00",
          "2019-10-22T00:00:00-04:00",
          "2019-10-23T00:00:00-04:00",
          "2019-10-24T00:00:00-04:00",
          "2019-10-25T00:00:00-04:00",
          "2019-10-28T00:00:00-04:00",
          "2019-10-29T00:00:00-04:00",
          "2019-10-30T00:00:00-04:00",
          "2019-10-31T00:00:00-04:00",
          "2019-11-01T00:00:00-04:00",
          "2019-11-04T00:00:00-05:00",
          "2019-11-05T00:00:00-05:00",
          "2019-11-06T00:00:00-05:00",
          "2019-11-07T00:00:00-05:00",
          "2019-11-08T00:00:00-05:00",
          "2019-11-11T00:00:00-05:00",
          "2019-11-12T00:00:00-05:00",
          "2019-11-13T00:00:00-05:00",
          "2019-11-14T00:00:00-05:00",
          "2019-11-15T00:00:00-05:00",
          "2019-11-18T00:00:00-05:00",
          "2019-11-19T00:00:00-05:00",
          "2019-11-20T00:00:00-05:00",
          "2019-11-21T00:00:00-05:00",
          "2019-11-22T00:00:00-05:00",
          "2019-11-25T00:00:00-05:00",
          "2019-11-26T00:00:00-05:00",
          "2019-11-27T00:00:00-05:00",
          "2019-11-29T00:00:00-05:00",
          "2019-12-02T00:00:00-05:00",
          "2019-12-03T00:00:00-05:00",
          "2019-12-04T00:00:00-05:00",
          "2019-12-05T00:00:00-05:00",
          "2019-12-06T00:00:00-05:00",
          "2019-12-09T00:00:00-05:00",
          "2019-12-10T00:00:00-05:00",
          "2019-12-11T00:00:00-05:00",
          "2019-12-12T00:00:00-05:00",
          "2019-12-13T00:00:00-05:00",
          "2019-12-16T00:00:00-05:00",
          "2019-12-17T00:00:00-05:00",
          "2019-12-18T00:00:00-05:00",
          "2019-12-19T00:00:00-05:00",
          "2019-12-20T00:00:00-05:00",
          "2019-12-23T00:00:00-05:00",
          "2019-12-24T00:00:00-05:00",
          "2019-12-26T00:00:00-05:00",
          "2019-12-27T00:00:00-05:00",
          "2019-12-30T00:00:00-05:00"
         ],
         "xaxis": "x",
         "y": [
          0,
          -0.02848397287310156,
          0.023770139912964172,
          0.02155182695860458,
          0.029095943913718614,
          0.027547013039308954,
          0.02340677982793471,
          0.010842880866986926,
          -0.0011091200025677983,
          0.029927783915644435,
          0.033580351564195476,
          0.04211883939243499,
          0.05011232356774231,
          0.023588496345061438,
          0.02841707843464092,
          0.026820292869249807,
          0.04316106495654237,
          0.02316779816992276,
          0.014122459132932752,
          0.04131566843556378,
          0.0674284267806815,
          0.06205476808894561,
          0.08313811513065383,
          0.09574986878258329,
          0.06633841947481667,
          0.05054265104045652,
          0.04705261426310514,
          0.047004832521347684,
          0.0722092271285033,
          0.07105225243495394,
          0.07249606347749671,
          0.06482764104458916,
          0.06952243425724736,
          0.06497105921908575,
          0.04887889808738066,
          0.06169148095313992,
          0.06076400451847497,
          0.06624278304207754,
          0.06712247773498503,
          0.07082275417606954,
          0.09096906843476127,
          0.09748051617411968,
          0.11108671364839862,
          0.10709952790909649,
          0.09317782504076955,
          0.09224079225775306,
          0.12421472895898167,
          0.1408901920862493,
          0.14100494121569151,
          0.1335755733900197,
          0.13253334782591253,
          0.13234214790965826,
          0.1462925198230398,
          0.17031127069159147,
          0.1775493656517848,
          0.15265099303954988,
          0.14069899216999504,
          0.13268632234876065,
          0.12159490347541047,
          0.11726347034778173,
          0.12187218347605233,
          0.14206627947650174,
          0.14786063634337632,
          0.15305257851798548,
          0.1617344845207218,
          0.15422859295901392,
          0.15106376382251008,
          0.14476262869610923,
          0.14945742190876743,
          0.1518095237400483,
          0.16447868843131075,
          0.16756706678100253,
          0.1733326816535985,
          0.18213896608335256,
          0.18216763512840695,
          0.19409096695290717,
          0.2091122334754505,
          0.20093703278301644,
          0.2080604515629918,
          0.21640773947497705,
          0.23113254035095143,
          0.13637711539071784,
          0.11687144121769766,
          0.11164127364968257,
          0.1334321552155231,
          0.1372472537352738,
          0.12262757269116609,
          0.11514079382616127,
          0.1114213317391497,
          0.11322850286672215,
          0.08240191156146714,
          0.07131997608724427,
          0.11317109182738894,
          0.1272936239095459,
          0.11134488095233763,
          0.08892291564917687,
          0.09923027626235892,
          0.10094181095719224,
          0.09075875582180393,
          0.08377875521632538,
          0.08442895165034847,
          0.0675145068650691,
          0.06893913226168502,
          0.05524692765224226,
          -0.009198240610614139,
          0.00688436417273941,
          -0.003470851131424202,
          -0.0014438110425428752,
          0.01930484495919038,
          0.033016235214559986,
          0.03142900599752041,
          0.029813107735426225,
          0.04103838843492191,
          0.0377683665173274,
          0.044604875999085136,
          0.055218258607187654,
          0.0540039458235293,
          0.06269540817461716,
          0.07269689269132673,
          0.06661569947545853,
          0.03872451199704696,
          0.03246167521327625,
          0.028837776609779597,
          0.03352301347408648,
          0.049815930870397374,
          0.06253287730341728,
          0.07240998339310911,
          0.08198114043710447,
          0.06740931408397843,
          0.07551754738872773,
          0.09048140287193807,
          0.09404789043610151,
          0.09470764321847591,
          0.09990914174143661,
          0.1030071493887037,
          0.0960941161709099,
          0.09607500347420683,
          0.08055651504048855,
          0.08817708278241465,
          0.09596025434476463,
          0.08792847182682739,
          0.08248791869663075,
          0.19559211608555915,
          0.18507436991019577,
          0.1714299470425107,
          0.16334082643446446,
          0.15600709504153176,
          0.14164558130136307,
          0.10180239295339666,
          0.11865949964856704,
          0.12252237991007542,
          0.15198168390882372,
          0.13592774817052455,
          0.12321080173750465,
          0.1447817413928123,
          0.11324761556342522,
          0.1160873829575293,
          0.12597411834479666,
          0.14591004704130706,
          0.13084092582778228,
          0.13902568286856765,
          0.13738111556141908,
          0.1008175054793985,
          0.11764594312951449,
          0.11664194295881325,
          0.11968253956674735,
          0.14055557399549823,
          0.13601375530568816,
          0.1171678339150426,
          0.12961705669577217,
          0.15827318973764903,
          0.15210591643739324,
          0.1516087674754425,
          0.15312902930479755,
          0.1666778157397435,
          0.18014059503952562,
          0.18521778808469258,
          0.1773198673929004,
          0.1752641582589647,
          0.17838120565371085,
          0.18440506077946983,
          0.1760099181765029,
          0.17993020947734428,
          0.16532964112993964,
          0.19187265399854758,
          0.18696754817293204,
          0.17138216530075323,
          0.16555913938882405,
          0.15226852025781712,
          0.1250466419101317,
          0.13575558800174936,
          0.15599753869318023,
          0.1547353712185402,
          0.13699864277968632,
          0.14960084008326424,
          0.15568196034990822,
          0.16216473904421203,
          0.1637806373063062,
          0.18851655199656547,
          0.1891188937396071,
          0.1981354907823185,
          0.1908878394737734,
          0.19151885026186943,
          0.18831572278273567,
          0.20392984764919309,
          0.20570827678248693,
          0.20966679347673445,
          0.23344648973805038,
          0.20726683695447212,
          0.20599511313148033,
          0.20486688043220957,
          0.2178993322592775,
          0.23475636600522387,
          0.2353875226917681,
          0.235167507832011,
          0.2514796838234732,
          0.2538795673965115,
          0.24223366147110137,
          0.24186074503772015,
          0.24109579947425486,
          0.2539656474808991,
          0.27634938739065373,
          0.2628006739049318,
          0.25779037529822557,
          0.24592430861461034,
          0.24429885400416462,
          0.23855235182827172,
          0.24940486199283418,
          0.25596401852472606,
          0.2554285712201452,
          0.24775066538810986,
          0.2333700389512381,
          0.23849501373816273,
          0.26264762643285944,
          0.26990490703898007,
          0.28184727861095915,
          0.28465844990923284,
          0.28571023182169175,
          0.28605440626079415,
          0.2910741882666279,
          0.2887412720812741,
          0.30149644390770036,
          0.2957115704399531,
          0.2933211702660421,
          0.2965913380820846,
          0.290424064781829,
          0.2897069739093452,
          0.28465844990923284,
          0.30076009444006546,
          0.29262319209026155,
          0.2775637001743121
         ],
         "yaxis": "y"
        },
        {
         "hovertemplate": "variable=META<br>index=%{x}<br>value=%{y}<extra></extra>",
         "legendgroup": "META",
         "line": {
          "color": "#00cc96",
          "dash": "solid"
         },
         "marker": {
          "symbol": "circle"
         },
         "mode": "lines",
         "name": "META",
         "showlegend": true,
         "type": "scattergl",
         "x": [
          "2019-01-02T00:00:00-05:00",
          "2019-01-03T00:00:00-05:00",
          "2019-01-04T00:00:00-05:00",
          "2019-01-07T00:00:00-05:00",
          "2019-01-08T00:00:00-05:00",
          "2019-01-09T00:00:00-05:00",
          "2019-01-10T00:00:00-05:00",
          "2019-01-11T00:00:00-05:00",
          "2019-01-14T00:00:00-05:00",
          "2019-01-15T00:00:00-05:00",
          "2019-01-16T00:00:00-05:00",
          "2019-01-17T00:00:00-05:00",
          "2019-01-18T00:00:00-05:00",
          "2019-01-22T00:00:00-05:00",
          "2019-01-23T00:00:00-05:00",
          "2019-01-24T00:00:00-05:00",
          "2019-01-25T00:00:00-05:00",
          "2019-01-28T00:00:00-05:00",
          "2019-01-29T00:00:00-05:00",
          "2019-01-30T00:00:00-05:00",
          "2019-01-31T00:00:00-05:00",
          "2019-02-01T00:00:00-05:00",
          "2019-02-04T00:00:00-05:00",
          "2019-02-05T00:00:00-05:00",
          "2019-02-06T00:00:00-05:00",
          "2019-02-07T00:00:00-05:00",
          "2019-02-08T00:00:00-05:00",
          "2019-02-11T00:00:00-05:00",
          "2019-02-12T00:00:00-05:00",
          "2019-02-13T00:00:00-05:00",
          "2019-02-14T00:00:00-05:00",
          "2019-02-15T00:00:00-05:00",
          "2019-02-19T00:00:00-05:00",
          "2019-02-20T00:00:00-05:00",
          "2019-02-21T00:00:00-05:00",
          "2019-02-22T00:00:00-05:00",
          "2019-02-25T00:00:00-05:00",
          "2019-02-26T00:00:00-05:00",
          "2019-02-27T00:00:00-05:00",
          "2019-02-28T00:00:00-05:00",
          "2019-03-01T00:00:00-05:00",
          "2019-03-04T00:00:00-05:00",
          "2019-03-05T00:00:00-05:00",
          "2019-03-06T00:00:00-05:00",
          "2019-03-07T00:00:00-05:00",
          "2019-03-08T00:00:00-05:00",
          "2019-03-11T00:00:00-04:00",
          "2019-03-12T00:00:00-04:00",
          "2019-03-13T00:00:00-04:00",
          "2019-03-14T00:00:00-04:00",
          "2019-03-15T00:00:00-04:00",
          "2019-03-18T00:00:00-04:00",
          "2019-03-19T00:00:00-04:00",
          "2019-03-20T00:00:00-04:00",
          "2019-03-21T00:00:00-04:00",
          "2019-03-22T00:00:00-04:00",
          "2019-03-25T00:00:00-04:00",
          "2019-03-26T00:00:00-04:00",
          "2019-03-27T00:00:00-04:00",
          "2019-03-28T00:00:00-04:00",
          "2019-03-29T00:00:00-04:00",
          "2019-04-01T00:00:00-04:00",
          "2019-04-02T00:00:00-04:00",
          "2019-04-03T00:00:00-04:00",
          "2019-04-04T00:00:00-04:00",
          "2019-04-05T00:00:00-04:00",
          "2019-04-08T00:00:00-04:00",
          "2019-04-09T00:00:00-04:00",
          "2019-04-10T00:00:00-04:00",
          "2019-04-11T00:00:00-04:00",
          "2019-04-12T00:00:00-04:00",
          "2019-04-15T00:00:00-04:00",
          "2019-04-16T00:00:00-04:00",
          "2019-04-17T00:00:00-04:00",
          "2019-04-18T00:00:00-04:00",
          "2019-04-22T00:00:00-04:00",
          "2019-04-23T00:00:00-04:00",
          "2019-04-24T00:00:00-04:00",
          "2019-04-25T00:00:00-04:00",
          "2019-04-26T00:00:00-04:00",
          "2019-04-29T00:00:00-04:00",
          "2019-04-30T00:00:00-04:00",
          "2019-05-01T00:00:00-04:00",
          "2019-05-02T00:00:00-04:00",
          "2019-05-03T00:00:00-04:00",
          "2019-05-06T00:00:00-04:00",
          "2019-05-07T00:00:00-04:00",
          "2019-05-08T00:00:00-04:00",
          "2019-05-09T00:00:00-04:00",
          "2019-05-10T00:00:00-04:00",
          "2019-05-13T00:00:00-04:00",
          "2019-05-14T00:00:00-04:00",
          "2019-05-15T00:00:00-04:00",
          "2019-05-16T00:00:00-04:00",
          "2019-05-17T00:00:00-04:00",
          "2019-05-20T00:00:00-04:00",
          "2019-05-21T00:00:00-04:00",
          "2019-05-22T00:00:00-04:00",
          "2019-05-23T00:00:00-04:00",
          "2019-05-24T00:00:00-04:00",
          "2019-05-28T00:00:00-04:00",
          "2019-05-29T00:00:00-04:00",
          "2019-05-30T00:00:00-04:00",
          "2019-05-31T00:00:00-04:00",
          "2019-06-03T00:00:00-04:00",
          "2019-06-04T00:00:00-04:00",
          "2019-06-05T00:00:00-04:00",
          "2019-06-06T00:00:00-04:00",
          "2019-06-07T00:00:00-04:00",
          "2019-06-10T00:00:00-04:00",
          "2019-06-11T00:00:00-04:00",
          "2019-06-12T00:00:00-04:00",
          "2019-06-13T00:00:00-04:00",
          "2019-06-14T00:00:00-04:00",
          "2019-06-17T00:00:00-04:00",
          "2019-06-18T00:00:00-04:00",
          "2019-06-19T00:00:00-04:00",
          "2019-06-20T00:00:00-04:00",
          "2019-06-21T00:00:00-04:00",
          "2019-06-24T00:00:00-04:00",
          "2019-06-25T00:00:00-04:00",
          "2019-06-26T00:00:00-04:00",
          "2019-06-27T00:00:00-04:00",
          "2019-06-28T00:00:00-04:00",
          "2019-07-01T00:00:00-04:00",
          "2019-07-02T00:00:00-04:00",
          "2019-07-03T00:00:00-04:00",
          "2019-07-05T00:00:00-04:00",
          "2019-07-08T00:00:00-04:00",
          "2019-07-09T00:00:00-04:00",
          "2019-07-10T00:00:00-04:00",
          "2019-07-11T00:00:00-04:00",
          "2019-07-12T00:00:00-04:00",
          "2019-07-15T00:00:00-04:00",
          "2019-07-16T00:00:00-04:00",
          "2019-07-17T00:00:00-04:00",
          "2019-07-18T00:00:00-04:00",
          "2019-07-19T00:00:00-04:00",
          "2019-07-22T00:00:00-04:00",
          "2019-07-23T00:00:00-04:00",
          "2019-07-24T00:00:00-04:00",
          "2019-07-25T00:00:00-04:00",
          "2019-07-26T00:00:00-04:00",
          "2019-07-29T00:00:00-04:00",
          "2019-07-30T00:00:00-04:00",
          "2019-07-31T00:00:00-04:00",
          "2019-08-01T00:00:00-04:00",
          "2019-08-02T00:00:00-04:00",
          "2019-08-05T00:00:00-04:00",
          "2019-08-06T00:00:00-04:00",
          "2019-08-07T00:00:00-04:00",
          "2019-08-08T00:00:00-04:00",
          "2019-08-09T00:00:00-04:00",
          "2019-08-12T00:00:00-04:00",
          "2019-08-13T00:00:00-04:00",
          "2019-08-14T00:00:00-04:00",
          "2019-08-15T00:00:00-04:00",
          "2019-08-16T00:00:00-04:00",
          "2019-08-19T00:00:00-04:00",
          "2019-08-20T00:00:00-04:00",
          "2019-08-21T00:00:00-04:00",
          "2019-08-22T00:00:00-04:00",
          "2019-08-23T00:00:00-04:00",
          "2019-08-26T00:00:00-04:00",
          "2019-08-27T00:00:00-04:00",
          "2019-08-28T00:00:00-04:00",
          "2019-08-29T00:00:00-04:00",
          "2019-08-30T00:00:00-04:00",
          "2019-09-03T00:00:00-04:00",
          "2019-09-04T00:00:00-04:00",
          "2019-09-05T00:00:00-04:00",
          "2019-09-06T00:00:00-04:00",
          "2019-09-09T00:00:00-04:00",
          "2019-09-10T00:00:00-04:00",
          "2019-09-11T00:00:00-04:00",
          "2019-09-12T00:00:00-04:00",
          "2019-09-13T00:00:00-04:00",
          "2019-09-16T00:00:00-04:00",
          "2019-09-17T00:00:00-04:00",
          "2019-09-18T00:00:00-04:00",
          "2019-09-19T00:00:00-04:00",
          "2019-09-20T00:00:00-04:00",
          "2019-09-23T00:00:00-04:00",
          "2019-09-24T00:00:00-04:00",
          "2019-09-25T00:00:00-04:00",
          "2019-09-26T00:00:00-04:00",
          "2019-09-27T00:00:00-04:00",
          "2019-09-30T00:00:00-04:00",
          "2019-10-01T00:00:00-04:00",
          "2019-10-02T00:00:00-04:00",
          "2019-10-03T00:00:00-04:00",
          "2019-10-04T00:00:00-04:00",
          "2019-10-07T00:00:00-04:00",
          "2019-10-08T00:00:00-04:00",
          "2019-10-09T00:00:00-04:00",
          "2019-10-10T00:00:00-04:00",
          "2019-10-11T00:00:00-04:00",
          "2019-10-14T00:00:00-04:00",
          "2019-10-15T00:00:00-04:00",
          "2019-10-16T00:00:00-04:00",
          "2019-10-17T00:00:00-04:00",
          "2019-10-18T00:00:00-04:00",
          "2019-10-21T00:00:00-04:00",
          "2019-10-22T00:00:00-04:00",
          "2019-10-23T00:00:00-04:00",
          "2019-10-24T00:00:00-04:00",
          "2019-10-25T00:00:00-04:00",
          "2019-10-28T00:00:00-04:00",
          "2019-10-29T00:00:00-04:00",
          "2019-10-30T00:00:00-04:00",
          "2019-10-31T00:00:00-04:00",
          "2019-11-01T00:00:00-04:00",
          "2019-11-04T00:00:00-05:00",
          "2019-11-05T00:00:00-05:00",
          "2019-11-06T00:00:00-05:00",
          "2019-11-07T00:00:00-05:00",
          "2019-11-08T00:00:00-05:00",
          "2019-11-11T00:00:00-05:00",
          "2019-11-12T00:00:00-05:00",
          "2019-11-13T00:00:00-05:00",
          "2019-11-14T00:00:00-05:00",
          "2019-11-15T00:00:00-05:00",
          "2019-11-18T00:00:00-05:00",
          "2019-11-19T00:00:00-05:00",
          "2019-11-20T00:00:00-05:00",
          "2019-11-21T00:00:00-05:00",
          "2019-11-22T00:00:00-05:00",
          "2019-11-25T00:00:00-05:00",
          "2019-11-26T00:00:00-05:00",
          "2019-11-27T00:00:00-05:00",
          "2019-11-29T00:00:00-05:00",
          "2019-12-02T00:00:00-05:00",
          "2019-12-03T00:00:00-05:00",
          "2019-12-04T00:00:00-05:00",
          "2019-12-05T00:00:00-05:00",
          "2019-12-06T00:00:00-05:00",
          "2019-12-09T00:00:00-05:00",
          "2019-12-10T00:00:00-05:00",
          "2019-12-11T00:00:00-05:00",
          "2019-12-12T00:00:00-05:00",
          "2019-12-13T00:00:00-05:00",
          "2019-12-16T00:00:00-05:00",
          "2019-12-17T00:00:00-05:00",
          "2019-12-18T00:00:00-05:00",
          "2019-12-19T00:00:00-05:00",
          "2019-12-20T00:00:00-05:00",
          "2019-12-23T00:00:00-05:00",
          "2019-12-24T00:00:00-05:00",
          "2019-12-26T00:00:00-05:00",
          "2019-12-27T00:00:00-05:00",
          "2019-12-30T00:00:00-05:00"
         ],
         "xaxis": "x",
         "y": [
          0,
          -0.02903889670700821,
          0.01673053757388132,
          0.017467604840979423,
          0.050486462144666566,
          0.0630159301998312,
          0.06279482127779334,
          0.05984677737123567,
          0.07156543765831702,
          0.0978036588798199,
          0.08741153954404735,
          0.09301300309597527,
          0.10583720799324525,
          0.08763276104700246,
          0.06353188854489167,
          0.074808443568815,
          0.0982458767238954,
          0.08689569377990436,
          0.06272108077680838,
          0.10863799605966795,
          0.22855254714325923,
          0.2213296932169997,
          0.24742043343653242,
          0.2614976639459612,
          0.2565596397410639,
          0.226267717421897,
          0.23326946242611868,
          0.22191916690121016,
          0.21639144385026743,
          0.20924244300591055,
          0.20835789473684208,
          0.19767103855896417,
          0.19612316352378278,
          0.1981131438221222,
          0.17953999437095414,
          0.1931751196172249,
          0.21329591894173938,
          0.20968454826906835,
          0.19995575569940893,
          0.18993222628764417,
          0.19604953560371507,
          0.23356419926822403,
          0.2622346186321418,
          0.27144745285674077,
          0.24653599774838164,
          0.25,
          0.26820467210807775,
          0.26709901491697163,
          0.277785983675767,
          0.2542010695187167,
          0.22331956093442162,
          0.18270937236138485,
          0.19081666197579517,
          0.2193396003377428,
          0.22405662820151995,
          0.21123231072333248,
          0.22560427807486638,
          0.23584902898958626,
          0.2225088657472558,
          0.2201504081058261,
          0.22855254714325923,
          0.24336673233886863,
          0.2839032929918379,
          0.2790388967070081,
          0.29731719673515333,
          0.2951061075147763,
          0.2892835350408105,
          0.3088148606811145,
          0.3105837320574163,
          0.30829890233605406,
          0.32001778778497036,
          0.3240712637207994,
          0.3183225443287363,
          0.31765921756262316,
          0.31397410638896717,
          0.33726417112299467,
          0.35451055446101876,
          0.3456663101604278,
          0.4243808612440192,
          0.41133554742471157,
          0.43558367576695756,
          0.42541266535322264,
          0.4226857303687026,
          0.4190006191950464,
          0.440669180973825,
          0.42895052068674366,
          0.3986585983675768,
          0.3969633549113425,
          0.3904038277511961,
          0.38811911061075155,
          0.3380011258091753,
          0.33203118491415706,
          0.37286270757106665,
          0.3781692091190543,
          0.3657134815648748,
          0.34669811426963126,
          0.3621757388122713,
          0.3658608499859275,
          0.333063101604278,
          0.334463383056572,
          0.3584168871376301,
          0.34279189417393763,
          0.34883546298902335,
          0.3080041654939487,
          0.20983191669012102,
          0.23452237545736,
          0.23946051224317477,
          0.24063979735434837,
          0.27763861525471434,
          0.2884729524345624,
          0.3126474528567409,
          0.2900943428088938,
          0.3080041654939487,
          0.33645347593582886,
          0.39305713481564886,
          0.3890772867998875,
          0.3817805797917253,
          0.396889726991275,
          0.4087558682803265,
          0.41951657754010685,
          0.39180422178440755,
          0.38310734590486906,
          0.39666861806923737,
          0.42246462144666475,
          0.42246462144666475,
          0.43720517872220666,
          0.4534197579510273,
          0.447523557556994,
          0.4428065296932171,
          0.46823416830847164,
          0.49417742752603444,
          0.4831219814241485,
          0.509949901491697,
          0.5028744159864902,
          0.5023584576414297,
          0.4873231635237827,
          0.4798054601745003,
          0.4619693779904306,
          0.49115575569940906,
          0.4914504925415142,
          0.5084021390374331,
          0.47928950182943986,
          0.472214016324233,
          0.44413329580636085,
          0.4522404728398537,
          0.431530087250211,
          0.42047464114832533,
          0.3931308753166338,
          0.33940151984238676,
          0.35989090909090904,
          0.3646078243737687,
          0.40153301435406696,
          0.3845077399380805,
          0.3662293273290178,
          0.38892980579791736,
          0.3245135941457924,
          0.3457399380804953,
          0.3539209681958908,
          0.37212552772305085,
          0.3547316633830566,
          0.35281542358570217,
          0.3416862369828315,
          0.31006777371235583,
          0.329304249929637,
          0.3362323670137912,
          0.3396226287644244,
          0.36770346186321423,
          0.36844041654939486,
          0.34426591612721635,
          0.3792747537292429,
          0.40698699690402473,
          0.38185443287362797,
          0.3912146355192794,
          0.37212552772305085,
          0.38922465522093996,
          0.3817069518716578,
          0.3796433436532507,
          0.37249411764705886,
          0.3862028708133971,
          0.3866450886574726,
          0.4013856459330143,
          0.3998377708978329,
          0.3769162960878132,
          0.33608488601182107,
          0.3472878131156769,
          0.32746163805235007,
          0.3052771179285112,
          0.3124999718547705,
          0.2957694342808894,
          0.2868514494793133,
          0.3220813960033775,
          0.32996757669575016,
          0.32429237264283706,
          0.31006777371235583,
          0.32554539825499584,
          0.3268720517872221,
          0.3575324514494793,
          0.35082544328736276,
          0.39217281170841534,
          0.39703720799324516,
          0.40322814522938355,
          0.3697671826625386,
          0.3985848578665916,
          0.34389732620320856,
          0.3719781593019984,
          0.37367340275823246,
          0.38480247678018586,
          0.39593155080213904,
          0.3952682240360259,
          0.3874557838446384,
          0.4125147199549677,
          0.42703416830847174,
          0.43514157050379954,
          0.43219341401632416,
          0.41177776526878684,
          0.4034492541514214,
          0.40654477905994924,
          0.39747942583732065,
          0.4332989586265128,
          0.4238650154798762,
          0.4235701660568534,
          0.43794224598930476,
          0.45489377990430624,
          0.46904486349563745,
          0.4557045876723895,
          0.4588001125809176,
          0.46535975232198146,
          0.47250875316633834,
          0.4664651843512524,
          0.48879718547706164,
          0.4861438784126091,
          0.4718455389811427,
          0.46535975232198146,
          0.46454894455389817,
          0.4693396003377428,
          0.48179544047283995,
          0.4839327891922318,
          0.480468674359696,
          0.4907134252744161,
          0.4501032367013791,
          0.43064565156206025,
          0.4587263720799324,
          0.46219048691246845,
          0.49248229665071763,
          0.5187205178722207,
          0.5204893892485223,
          0.5196049535603715,
          0.5117924007880663,
          0.531471094849423,
          0.5337559245707852,
          0.5065595271601464
         ],
         "yaxis": "y"
        },
        {
         "hovertemplate": "variable=TTD<br>index=%{x}<br>value=%{y}<extra></extra>",
         "legendgroup": "TTD",
         "line": {
          "color": "#ab63fa",
          "dash": "solid"
         },
         "marker": {
          "symbol": "circle"
         },
         "mode": "lines",
         "name": "TTD",
         "showlegend": true,
         "type": "scattergl",
         "x": [
          "2019-01-02T00:00:00-05:00",
          "2019-01-03T00:00:00-05:00",
          "2019-01-04T00:00:00-05:00",
          "2019-01-07T00:00:00-05:00",
          "2019-01-08T00:00:00-05:00",
          "2019-01-09T00:00:00-05:00",
          "2019-01-10T00:00:00-05:00",
          "2019-01-11T00:00:00-05:00",
          "2019-01-14T00:00:00-05:00",
          "2019-01-15T00:00:00-05:00",
          "2019-01-16T00:00:00-05:00",
          "2019-01-17T00:00:00-05:00",
          "2019-01-18T00:00:00-05:00",
          "2019-01-22T00:00:00-05:00",
          "2019-01-23T00:00:00-05:00",
          "2019-01-24T00:00:00-05:00",
          "2019-01-25T00:00:00-05:00",
          "2019-01-28T00:00:00-05:00",
          "2019-01-29T00:00:00-05:00",
          "2019-01-30T00:00:00-05:00",
          "2019-01-31T00:00:00-05:00",
          "2019-02-01T00:00:00-05:00",
          "2019-02-04T00:00:00-05:00",
          "2019-02-05T00:00:00-05:00",
          "2019-02-06T00:00:00-05:00",
          "2019-02-07T00:00:00-05:00",
          "2019-02-08T00:00:00-05:00",
          "2019-02-11T00:00:00-05:00",
          "2019-02-12T00:00:00-05:00",
          "2019-02-13T00:00:00-05:00",
          "2019-02-14T00:00:00-05:00",
          "2019-02-15T00:00:00-05:00",
          "2019-02-19T00:00:00-05:00",
          "2019-02-20T00:00:00-05:00",
          "2019-02-21T00:00:00-05:00",
          "2019-02-22T00:00:00-05:00",
          "2019-02-25T00:00:00-05:00",
          "2019-02-26T00:00:00-05:00",
          "2019-02-27T00:00:00-05:00",
          "2019-02-28T00:00:00-05:00",
          "2019-03-01T00:00:00-05:00",
          "2019-03-04T00:00:00-05:00",
          "2019-03-05T00:00:00-05:00",
          "2019-03-06T00:00:00-05:00",
          "2019-03-07T00:00:00-05:00",
          "2019-03-08T00:00:00-05:00",
          "2019-03-11T00:00:00-04:00",
          "2019-03-12T00:00:00-04:00",
          "2019-03-13T00:00:00-04:00",
          "2019-03-14T00:00:00-04:00",
          "2019-03-15T00:00:00-04:00",
          "2019-03-18T00:00:00-04:00",
          "2019-03-19T00:00:00-04:00",
          "2019-03-20T00:00:00-04:00",
          "2019-03-21T00:00:00-04:00",
          "2019-03-22T00:00:00-04:00",
          "2019-03-25T00:00:00-04:00",
          "2019-03-26T00:00:00-04:00",
          "2019-03-27T00:00:00-04:00",
          "2019-03-28T00:00:00-04:00",
          "2019-03-29T00:00:00-04:00",
          "2019-04-01T00:00:00-04:00",
          "2019-04-02T00:00:00-04:00",
          "2019-04-03T00:00:00-04:00",
          "2019-04-04T00:00:00-04:00",
          "2019-04-05T00:00:00-04:00",
          "2019-04-08T00:00:00-04:00",
          "2019-04-09T00:00:00-04:00",
          "2019-04-10T00:00:00-04:00",
          "2019-04-11T00:00:00-04:00",
          "2019-04-12T00:00:00-04:00",
          "2019-04-15T00:00:00-04:00",
          "2019-04-16T00:00:00-04:00",
          "2019-04-17T00:00:00-04:00",
          "2019-04-18T00:00:00-04:00",
          "2019-04-22T00:00:00-04:00",
          "2019-04-23T00:00:00-04:00",
          "2019-04-24T00:00:00-04:00",
          "2019-04-25T00:00:00-04:00",
          "2019-04-26T00:00:00-04:00",
          "2019-04-29T00:00:00-04:00",
          "2019-04-30T00:00:00-04:00",
          "2019-05-01T00:00:00-04:00",
          "2019-05-02T00:00:00-04:00",
          "2019-05-03T00:00:00-04:00",
          "2019-05-06T00:00:00-04:00",
          "2019-05-07T00:00:00-04:00",
          "2019-05-08T00:00:00-04:00",
          "2019-05-09T00:00:00-04:00",
          "2019-05-10T00:00:00-04:00",
          "2019-05-13T00:00:00-04:00",
          "2019-05-14T00:00:00-04:00",
          "2019-05-15T00:00:00-04:00",
          "2019-05-16T00:00:00-04:00",
          "2019-05-17T00:00:00-04:00",
          "2019-05-20T00:00:00-04:00",
          "2019-05-21T00:00:00-04:00",
          "2019-05-22T00:00:00-04:00",
          "2019-05-23T00:00:00-04:00",
          "2019-05-24T00:00:00-04:00",
          "2019-05-28T00:00:00-04:00",
          "2019-05-29T00:00:00-04:00",
          "2019-05-30T00:00:00-04:00",
          "2019-05-31T00:00:00-04:00",
          "2019-06-03T00:00:00-04:00",
          "2019-06-04T00:00:00-04:00",
          "2019-06-05T00:00:00-04:00",
          "2019-06-06T00:00:00-04:00",
          "2019-06-07T00:00:00-04:00",
          "2019-06-10T00:00:00-04:00",
          "2019-06-11T00:00:00-04:00",
          "2019-06-12T00:00:00-04:00",
          "2019-06-13T00:00:00-04:00",
          "2019-06-14T00:00:00-04:00",
          "2019-06-17T00:00:00-04:00",
          "2019-06-18T00:00:00-04:00",
          "2019-06-19T00:00:00-04:00",
          "2019-06-20T00:00:00-04:00",
          "2019-06-21T00:00:00-04:00",
          "2019-06-24T00:00:00-04:00",
          "2019-06-25T00:00:00-04:00",
          "2019-06-26T00:00:00-04:00",
          "2019-06-27T00:00:00-04:00",
          "2019-06-28T00:00:00-04:00",
          "2019-07-01T00:00:00-04:00",
          "2019-07-02T00:00:00-04:00",
          "2019-07-03T00:00:00-04:00",
          "2019-07-05T00:00:00-04:00",
          "2019-07-08T00:00:00-04:00",
          "2019-07-09T00:00:00-04:00",
          "2019-07-10T00:00:00-04:00",
          "2019-07-11T00:00:00-04:00",
          "2019-07-12T00:00:00-04:00",
          "2019-07-15T00:00:00-04:00",
          "2019-07-16T00:00:00-04:00",
          "2019-07-17T00:00:00-04:00",
          "2019-07-18T00:00:00-04:00",
          "2019-07-19T00:00:00-04:00",
          "2019-07-22T00:00:00-04:00",
          "2019-07-23T00:00:00-04:00",
          "2019-07-24T00:00:00-04:00",
          "2019-07-25T00:00:00-04:00",
          "2019-07-26T00:00:00-04:00",
          "2019-07-29T00:00:00-04:00",
          "2019-07-30T00:00:00-04:00",
          "2019-07-31T00:00:00-04:00",
          "2019-08-01T00:00:00-04:00",
          "2019-08-02T00:00:00-04:00",
          "2019-08-05T00:00:00-04:00",
          "2019-08-06T00:00:00-04:00",
          "2019-08-07T00:00:00-04:00",
          "2019-08-08T00:00:00-04:00",
          "2019-08-09T00:00:00-04:00",
          "2019-08-12T00:00:00-04:00",
          "2019-08-13T00:00:00-04:00",
          "2019-08-14T00:00:00-04:00",
          "2019-08-15T00:00:00-04:00",
          "2019-08-16T00:00:00-04:00",
          "2019-08-19T00:00:00-04:00",
          "2019-08-20T00:00:00-04:00",
          "2019-08-21T00:00:00-04:00",
          "2019-08-22T00:00:00-04:00",
          "2019-08-23T00:00:00-04:00",
          "2019-08-26T00:00:00-04:00",
          "2019-08-27T00:00:00-04:00",
          "2019-08-28T00:00:00-04:00",
          "2019-08-29T00:00:00-04:00",
          "2019-08-30T00:00:00-04:00",
          "2019-09-03T00:00:00-04:00",
          "2019-09-04T00:00:00-04:00",
          "2019-09-05T00:00:00-04:00",
          "2019-09-06T00:00:00-04:00",
          "2019-09-09T00:00:00-04:00",
          "2019-09-10T00:00:00-04:00",
          "2019-09-11T00:00:00-04:00",
          "2019-09-12T00:00:00-04:00",
          "2019-09-13T00:00:00-04:00",
          "2019-09-16T00:00:00-04:00",
          "2019-09-17T00:00:00-04:00",
          "2019-09-18T00:00:00-04:00",
          "2019-09-19T00:00:00-04:00",
          "2019-09-20T00:00:00-04:00",
          "2019-09-23T00:00:00-04:00",
          "2019-09-24T00:00:00-04:00",
          "2019-09-25T00:00:00-04:00",
          "2019-09-26T00:00:00-04:00",
          "2019-09-27T00:00:00-04:00",
          "2019-09-30T00:00:00-04:00",
          "2019-10-01T00:00:00-04:00",
          "2019-10-02T00:00:00-04:00",
          "2019-10-03T00:00:00-04:00",
          "2019-10-04T00:00:00-04:00",
          "2019-10-07T00:00:00-04:00",
          "2019-10-08T00:00:00-04:00",
          "2019-10-09T00:00:00-04:00",
          "2019-10-10T00:00:00-04:00",
          "2019-10-11T00:00:00-04:00",
          "2019-10-14T00:00:00-04:00",
          "2019-10-15T00:00:00-04:00",
          "2019-10-16T00:00:00-04:00",
          "2019-10-17T00:00:00-04:00",
          "2019-10-18T00:00:00-04:00",
          "2019-10-21T00:00:00-04:00",
          "2019-10-22T00:00:00-04:00",
          "2019-10-23T00:00:00-04:00",
          "2019-10-24T00:00:00-04:00",
          "2019-10-25T00:00:00-04:00",
          "2019-10-28T00:00:00-04:00",
          "2019-10-29T00:00:00-04:00",
          "2019-10-30T00:00:00-04:00",
          "2019-10-31T00:00:00-04:00",
          "2019-11-01T00:00:00-04:00",
          "2019-11-04T00:00:00-05:00",
          "2019-11-05T00:00:00-05:00",
          "2019-11-06T00:00:00-05:00",
          "2019-11-07T00:00:00-05:00",
          "2019-11-08T00:00:00-05:00",
          "2019-11-11T00:00:00-05:00",
          "2019-11-12T00:00:00-05:00",
          "2019-11-13T00:00:00-05:00",
          "2019-11-14T00:00:00-05:00",
          "2019-11-15T00:00:00-05:00",
          "2019-11-18T00:00:00-05:00",
          "2019-11-19T00:00:00-05:00",
          "2019-11-20T00:00:00-05:00",
          "2019-11-21T00:00:00-05:00",
          "2019-11-22T00:00:00-05:00",
          "2019-11-25T00:00:00-05:00",
          "2019-11-26T00:00:00-05:00",
          "2019-11-27T00:00:00-05:00",
          "2019-11-29T00:00:00-05:00",
          "2019-12-02T00:00:00-05:00",
          "2019-12-03T00:00:00-05:00",
          "2019-12-04T00:00:00-05:00",
          "2019-12-05T00:00:00-05:00",
          "2019-12-06T00:00:00-05:00",
          "2019-12-09T00:00:00-05:00",
          "2019-12-10T00:00:00-05:00",
          "2019-12-11T00:00:00-05:00",
          "2019-12-12T00:00:00-05:00",
          "2019-12-13T00:00:00-05:00",
          "2019-12-16T00:00:00-05:00",
          "2019-12-17T00:00:00-05:00",
          "2019-12-18T00:00:00-05:00",
          "2019-12-19T00:00:00-05:00",
          "2019-12-20T00:00:00-05:00",
          "2019-12-23T00:00:00-05:00",
          "2019-12-24T00:00:00-05:00",
          "2019-12-26T00:00:00-05:00",
          "2019-12-27T00:00:00-05:00",
          "2019-12-30T00:00:00-05:00"
         ],
         "xaxis": "x",
         "y": [
          0,
          -0.056818167823853294,
          0.015151484053007369,
          0.07240010249371553,
          0.1023588250463312,
          0.10881542009903078,
          0.11630508021216945,
          0.0959021478935711,
          0.10614667553456791,
          0.1226756344015345,
          0.1235364535351835,
          0.14652200745484967,
          0.1965392525725438,
          0.15375346287792402,
          0.152203824237235,
          0.16253439274156656,
          0.18612256110481717,
          0.16813016866061714,
          0.15840221459987025,
          0.20566459218970623,
          0.2283057363558525,
          0.2505165120052044,
          0.30569900032503416,
          0.3357437637409846,
          0.2698002562999686,
          0.2227961655002575,
          0.25843662273519796,
          0.281852627271719,
          0.3169765930264701,
          0.3028580919338415,
          0.32085056647810206,
          0.3612258983983838,
          0.3920454400846485,
          0.2920970728126553,
          0.2955405956474324,
          0.7022211104049594,
          0.7012740041077945,
          0.6830233248734694,
          0.6787189829050433,
          0.7005853488008753,
          0.6797519658654221,
          0.6303374172913729,
          0.6462636796146946,
          0.6042527502904496,
          0.6253442558159068,
          0.6731232069859927,
          0.759469646745607,
          0.7889118778180333,
          0.766442733278496,
          0.792613605342875,
          0.7820248321484788,
          0.7540461167533465,
          0.7705749935202528,
          0.7730716563580462,
          0.8385847131822073,
          0.7468147434303327,
          0.6962810068324492,
          0.6093319526292504,
          0.5528581124588565,
          0.6056300609042877,
          0.7041149945990475,
          0.7745351720353402,
          0.7806473573345198,
          0.7838326754792324,
          0.7045453631158418,
          0.6918044189372328,
          0.7002410211474157,
          0.6771694263644148,
          0.7207300764294093,
          0.7248621724710451,
          0.7260674013582142,
          0.7403580662775726,
          0.7498278156482552,
          0.7113463679220615,
          0.7109159994052672,
          0.8167183472863755,
          0.8141356435852471,
          0.7888256727545777,
          0.848743117859809,
          0.8529614189649004,
          0.9446453478534405,
          0.9066804737074967,
          0.9044420976598282,
          0.9383609166274707,
          0.996900722718622,
          0.9420626441523123,
          0.873708596836898,
          0.9121040036997572,
          0.6349862511133795,
          0.5798036806934894,
          0.5216942431191323,
          0.5948690417831017,
          0.7207300764294093,
          0.7393250833171938,
          0.7047176090426319,
          0.7060088787931358,
          0.7134124980429397,
          0.7122933100191056,
          0.681215481542716,
          0.686466929808307,
          0.7397554518339882,
          0.7342458809783929,
          0.7380336493665693,
          0.7115186138488516,
          0.6995523658404965,
          0.9189910493693114,
          0.9998277540732097,
          1.0425275029044947,
          1.1095040754059498,
          1.1511708412768562,
          1.1466942533816398,
          1.0850550058089898,
          1.1253442968659368,
          1.1086431741722405,
          1.1359332342604538,
          1.110709304293119,
          1.1633952118752156,
          1.161587368544462,
          1.0776515507593065,
          1.0169594094838215,
          0.9531679909269581,
          0.9451617572335695,
          0.9925103398868611,
          0.9609159378302219,
          1.012482821588605,
          1.0162705899767812,
          1.0129992309687341,
          1.0469180499363766,
          1.063360885839948,
          1.0761880350820126,
          1.0612087148557352,
          1.0729166760739655,
          1.1009814323324325,
          1.136363602777248,
          1.0965908853005506,
          1.1021004561561458,
          1.0795454349533946,
          1.0257403393474638,
          1.1438532628903868,
          1.1128614752773318,
          1.138257486971336,
          1.197141784916068,
          1.3979854615570981,
          1.2413910902879817,
          1.2824552417153035,
          1.2667871019819859,
          1.278236940610212,
          1.2467285794169074,
          1.150309940043147,
          1.1683023324873472,
          1.214445522053349,
          1.3559745322328531,
          1.3410812528699103,
          1.195936556028899,
          1.278236940610212,
          1.155561224108617,
          1.0964186393737605,
          1.1403236170922146,
          1.0912533961716249,
          1.1532368071976138,
          1.2392389193037685,
          1.2369145023927652,
          1.121470323414305,
          1.1596074434870394,
          1.1187155379865077,
          1.1383436920347916,
          1.1528064386808197,
          1.1157885066319198,
          1.0228993488562108,
          1.0677512686717088,
          1.0980544009778446,
          1.0069730865328892,
          0.8394456144159168,
          0.8083677859395273,
          0.8225722457954301,
          0.8413394986100049,
          0.7862431332535704,
          0.8151686265456259,
          0.8358299277544099,
          0.7916666632458309,
          0.8111225713673247,
          0.7824552006652732,
          0.7469007842936672,
          0.6581438867597151,
          0.6751032962435364,
          0.6735537397029079,
          0.5905646998146756,
          0.6145832366947206,
          0.5804923360004086,
          0.583935940935246,
          0.6321452606221263,
          0.6163050391621394,
          0.6704544624215298,
          0.6394628390085957,
          0.6445420413473966,
          0.5982266058546046,
          0.7082472548408043,
          0.7328684061644337,
          0.8250689086332237,
          0.6859503562280571,
          0.7345902086318525,
          0.67708338550108,
          0.728994432712802,
          0.6340393090163354,
          0.653839544791289,
          0.6956783923888645,
          0.7443180805925391,
          0.8075929255691525,
          0.7846935767129417,
          0.8049241810046897,
          0.7286501050593424,
          0.748450340834296,
          0.7466424975035424,
          0.717716840011366,
          0.6737258214295772,
          0.659349115646884,
          0.6832816116635942,
          0.868199025981303,
          0.9270833239260348,
          0.9701274004107794,
          0.96349864153135,
          0.9727101041119077,
          0.9950928793878686,
          1.0357264980982754,
          1.0701618906461676,
          1.06671828571133,
          1.0980544009778446,
          1.211518490698761,
          1.2667010611186509,
          1.282799569368763,
          1.2670453887721105,
          0.9575585379588398,
          1.0446796738887079,
          1.1017561285026862,
          1.0697313579292524,
          1.1293905162443592,
          1.1478132772053535,
          1.1528064386808197,
          1.1563360844789918,
          1.12121203662418,
          1.1732954939628133,
          1.1852617419711682,
          1.15246211102736,
          1.1790633516085332,
          1.2616218587798502,
          1.270575034570283,
          1.3127582098213182,
          1.3071624339022674,
          1.3545970574188941,
          1.3446108986680825,
          1.1756197466736955
         ],
         "yaxis": "y"
        },
        {
         "hovertemplate": "variable=SNAP<br>index=%{x}<br>value=%{y}<extra></extra>",
         "legendgroup": "SNAP",
         "line": {
          "color": "#FFA15A",
          "dash": "solid"
         },
         "marker": {
          "symbol": "circle"
         },
         "mode": "lines",
         "name": "SNAP",
         "showlegend": true,
         "type": "scattergl",
         "x": [
          "2019-01-02T00:00:00-05:00",
          "2019-01-03T00:00:00-05:00",
          "2019-01-04T00:00:00-05:00",
          "2019-01-07T00:00:00-05:00",
          "2019-01-08T00:00:00-05:00",
          "2019-01-09T00:00:00-05:00",
          "2019-01-10T00:00:00-05:00",
          "2019-01-11T00:00:00-05:00",
          "2019-01-14T00:00:00-05:00",
          "2019-01-15T00:00:00-05:00",
          "2019-01-16T00:00:00-05:00",
          "2019-01-17T00:00:00-05:00",
          "2019-01-18T00:00:00-05:00",
          "2019-01-22T00:00:00-05:00",
          "2019-01-23T00:00:00-05:00",
          "2019-01-24T00:00:00-05:00",
          "2019-01-25T00:00:00-05:00",
          "2019-01-28T00:00:00-05:00",
          "2019-01-29T00:00:00-05:00",
          "2019-01-30T00:00:00-05:00",
          "2019-01-31T00:00:00-05:00",
          "2019-02-01T00:00:00-05:00",
          "2019-02-04T00:00:00-05:00",
          "2019-02-05T00:00:00-05:00",
          "2019-02-06T00:00:00-05:00",
          "2019-02-07T00:00:00-05:00",
          "2019-02-08T00:00:00-05:00",
          "2019-02-11T00:00:00-05:00",
          "2019-02-12T00:00:00-05:00",
          "2019-02-13T00:00:00-05:00",
          "2019-02-14T00:00:00-05:00",
          "2019-02-15T00:00:00-05:00",
          "2019-02-19T00:00:00-05:00",
          "2019-02-20T00:00:00-05:00",
          "2019-02-21T00:00:00-05:00",
          "2019-02-22T00:00:00-05:00",
          "2019-02-25T00:00:00-05:00",
          "2019-02-26T00:00:00-05:00",
          "2019-02-27T00:00:00-05:00",
          "2019-02-28T00:00:00-05:00",
          "2019-03-01T00:00:00-05:00",
          "2019-03-04T00:00:00-05:00",
          "2019-03-05T00:00:00-05:00",
          "2019-03-06T00:00:00-05:00",
          "2019-03-07T00:00:00-05:00",
          "2019-03-08T00:00:00-05:00",
          "2019-03-11T00:00:00-04:00",
          "2019-03-12T00:00:00-04:00",
          "2019-03-13T00:00:00-04:00",
          "2019-03-14T00:00:00-04:00",
          "2019-03-15T00:00:00-04:00",
          "2019-03-18T00:00:00-04:00",
          "2019-03-19T00:00:00-04:00",
          "2019-03-20T00:00:00-04:00",
          "2019-03-21T00:00:00-04:00",
          "2019-03-22T00:00:00-04:00",
          "2019-03-25T00:00:00-04:00",
          "2019-03-26T00:00:00-04:00",
          "2019-03-27T00:00:00-04:00",
          "2019-03-28T00:00:00-04:00",
          "2019-03-29T00:00:00-04:00",
          "2019-04-01T00:00:00-04:00",
          "2019-04-02T00:00:00-04:00",
          "2019-04-03T00:00:00-04:00",
          "2019-04-04T00:00:00-04:00",
          "2019-04-05T00:00:00-04:00",
          "2019-04-08T00:00:00-04:00",
          "2019-04-09T00:00:00-04:00",
          "2019-04-10T00:00:00-04:00",
          "2019-04-11T00:00:00-04:00",
          "2019-04-12T00:00:00-04:00",
          "2019-04-15T00:00:00-04:00",
          "2019-04-16T00:00:00-04:00",
          "2019-04-17T00:00:00-04:00",
          "2019-04-18T00:00:00-04:00",
          "2019-04-22T00:00:00-04:00",
          "2019-04-23T00:00:00-04:00",
          "2019-04-24T00:00:00-04:00",
          "2019-04-25T00:00:00-04:00",
          "2019-04-26T00:00:00-04:00",
          "2019-04-29T00:00:00-04:00",
          "2019-04-30T00:00:00-04:00",
          "2019-05-01T00:00:00-04:00",
          "2019-05-02T00:00:00-04:00",
          "2019-05-03T00:00:00-04:00",
          "2019-05-06T00:00:00-04:00",
          "2019-05-07T00:00:00-04:00",
          "2019-05-08T00:00:00-04:00",
          "2019-05-09T00:00:00-04:00",
          "2019-05-10T00:00:00-04:00",
          "2019-05-13T00:00:00-04:00",
          "2019-05-14T00:00:00-04:00",
          "2019-05-15T00:00:00-04:00",
          "2019-05-16T00:00:00-04:00",
          "2019-05-17T00:00:00-04:00",
          "2019-05-20T00:00:00-04:00",
          "2019-05-21T00:00:00-04:00",
          "2019-05-22T00:00:00-04:00",
          "2019-05-23T00:00:00-04:00",
          "2019-05-24T00:00:00-04:00",
          "2019-05-28T00:00:00-04:00",
          "2019-05-29T00:00:00-04:00",
          "2019-05-30T00:00:00-04:00",
          "2019-05-31T00:00:00-04:00",
          "2019-06-03T00:00:00-04:00",
          "2019-06-04T00:00:00-04:00",
          "2019-06-05T00:00:00-04:00",
          "2019-06-06T00:00:00-04:00",
          "2019-06-07T00:00:00-04:00",
          "2019-06-10T00:00:00-04:00",
          "2019-06-11T00:00:00-04:00",
          "2019-06-12T00:00:00-04:00",
          "2019-06-13T00:00:00-04:00",
          "2019-06-14T00:00:00-04:00",
          "2019-06-17T00:00:00-04:00",
          "2019-06-18T00:00:00-04:00",
          "2019-06-19T00:00:00-04:00",
          "2019-06-20T00:00:00-04:00",
          "2019-06-21T00:00:00-04:00",
          "2019-06-24T00:00:00-04:00",
          "2019-06-25T00:00:00-04:00",
          "2019-06-26T00:00:00-04:00",
          "2019-06-27T00:00:00-04:00",
          "2019-06-28T00:00:00-04:00",
          "2019-07-01T00:00:00-04:00",
          "2019-07-02T00:00:00-04:00",
          "2019-07-03T00:00:00-04:00",
          "2019-07-05T00:00:00-04:00",
          "2019-07-08T00:00:00-04:00",
          "2019-07-09T00:00:00-04:00",
          "2019-07-10T00:00:00-04:00",
          "2019-07-11T00:00:00-04:00",
          "2019-07-12T00:00:00-04:00",
          "2019-07-15T00:00:00-04:00",
          "2019-07-16T00:00:00-04:00",
          "2019-07-17T00:00:00-04:00",
          "2019-07-18T00:00:00-04:00",
          "2019-07-19T00:00:00-04:00",
          "2019-07-22T00:00:00-04:00",
          "2019-07-23T00:00:00-04:00",
          "2019-07-24T00:00:00-04:00",
          "2019-07-25T00:00:00-04:00",
          "2019-07-26T00:00:00-04:00",
          "2019-07-29T00:00:00-04:00",
          "2019-07-30T00:00:00-04:00",
          "2019-07-31T00:00:00-04:00",
          "2019-08-01T00:00:00-04:00",
          "2019-08-02T00:00:00-04:00",
          "2019-08-05T00:00:00-04:00",
          "2019-08-06T00:00:00-04:00",
          "2019-08-07T00:00:00-04:00",
          "2019-08-08T00:00:00-04:00",
          "2019-08-09T00:00:00-04:00",
          "2019-08-12T00:00:00-04:00",
          "2019-08-13T00:00:00-04:00",
          "2019-08-14T00:00:00-04:00",
          "2019-08-15T00:00:00-04:00",
          "2019-08-16T00:00:00-04:00",
          "2019-08-19T00:00:00-04:00",
          "2019-08-20T00:00:00-04:00",
          "2019-08-21T00:00:00-04:00",
          "2019-08-22T00:00:00-04:00",
          "2019-08-23T00:00:00-04:00",
          "2019-08-26T00:00:00-04:00",
          "2019-08-27T00:00:00-04:00",
          "2019-08-28T00:00:00-04:00",
          "2019-08-29T00:00:00-04:00",
          "2019-08-30T00:00:00-04:00",
          "2019-09-03T00:00:00-04:00",
          "2019-09-04T00:00:00-04:00",
          "2019-09-05T00:00:00-04:00",
          "2019-09-06T00:00:00-04:00",
          "2019-09-09T00:00:00-04:00",
          "2019-09-10T00:00:00-04:00",
          "2019-09-11T00:00:00-04:00",
          "2019-09-12T00:00:00-04:00",
          "2019-09-13T00:00:00-04:00",
          "2019-09-16T00:00:00-04:00",
          "2019-09-17T00:00:00-04:00",
          "2019-09-18T00:00:00-04:00",
          "2019-09-19T00:00:00-04:00",
          "2019-09-20T00:00:00-04:00",
          "2019-09-23T00:00:00-04:00",
          "2019-09-24T00:00:00-04:00",
          "2019-09-25T00:00:00-04:00",
          "2019-09-26T00:00:00-04:00",
          "2019-09-27T00:00:00-04:00",
          "2019-09-30T00:00:00-04:00",
          "2019-10-01T00:00:00-04:00",
          "2019-10-02T00:00:00-04:00",
          "2019-10-03T00:00:00-04:00",
          "2019-10-04T00:00:00-04:00",
          "2019-10-07T00:00:00-04:00",
          "2019-10-08T00:00:00-04:00",
          "2019-10-09T00:00:00-04:00",
          "2019-10-10T00:00:00-04:00",
          "2019-10-11T00:00:00-04:00",
          "2019-10-14T00:00:00-04:00",
          "2019-10-15T00:00:00-04:00",
          "2019-10-16T00:00:00-04:00",
          "2019-10-17T00:00:00-04:00",
          "2019-10-18T00:00:00-04:00",
          "2019-10-21T00:00:00-04:00",
          "2019-10-22T00:00:00-04:00",
          "2019-10-23T00:00:00-04:00",
          "2019-10-24T00:00:00-04:00",
          "2019-10-25T00:00:00-04:00",
          "2019-10-28T00:00:00-04:00",
          "2019-10-29T00:00:00-04:00",
          "2019-10-30T00:00:00-04:00",
          "2019-10-31T00:00:00-04:00",
          "2019-11-01T00:00:00-04:00",
          "2019-11-04T00:00:00-05:00",
          "2019-11-05T00:00:00-05:00",
          "2019-11-06T00:00:00-05:00",
          "2019-11-07T00:00:00-05:00",
          "2019-11-08T00:00:00-05:00",
          "2019-11-11T00:00:00-05:00",
          "2019-11-12T00:00:00-05:00",
          "2019-11-13T00:00:00-05:00",
          "2019-11-14T00:00:00-05:00",
          "2019-11-15T00:00:00-05:00",
          "2019-11-18T00:00:00-05:00",
          "2019-11-19T00:00:00-05:00",
          "2019-11-20T00:00:00-05:00",
          "2019-11-21T00:00:00-05:00",
          "2019-11-22T00:00:00-05:00",
          "2019-11-25T00:00:00-05:00",
          "2019-11-26T00:00:00-05:00",
          "2019-11-27T00:00:00-05:00",
          "2019-11-29T00:00:00-05:00",
          "2019-12-02T00:00:00-05:00",
          "2019-12-03T00:00:00-05:00",
          "2019-12-04T00:00:00-05:00",
          "2019-12-05T00:00:00-05:00",
          "2019-12-06T00:00:00-05:00",
          "2019-12-09T00:00:00-05:00",
          "2019-12-10T00:00:00-05:00",
          "2019-12-11T00:00:00-05:00",
          "2019-12-12T00:00:00-05:00",
          "2019-12-13T00:00:00-05:00",
          "2019-12-16T00:00:00-05:00",
          "2019-12-17T00:00:00-05:00",
          "2019-12-18T00:00:00-05:00",
          "2019-12-19T00:00:00-05:00",
          "2019-12-20T00:00:00-05:00",
          "2019-12-23T00:00:00-05:00",
          "2019-12-24T00:00:00-05:00",
          "2019-12-26T00:00:00-05:00",
          "2019-12-27T00:00:00-05:00",
          "2019-12-30T00:00:00-05:00"
         ],
         "xaxis": "x",
         "y": [
          0,
          -0.01899829606893466,
          0.027633825296417225,
          0.07253887375839096,
          0.10535408247553435,
          0.08462871350322132,
          0.07426594666176922,
          0.08462871350322132,
          0.08981001456865179,
          0.12953367960989937,
          -0.025906752393038968,
          -0.008635611582778147,
          0.06735749033766503,
          0.02417959713436524,
          0.03454228162052164,
          0.06563041743428655,
          0.10535408247553435,
          0.09499139798937772,
          0.11053538354096482,
          0.13471506303062553,
          0.1537132767442646,
          0.19343694178551218,
          0.1968911699475644,
          0.21588946601649917,
          0.48359243681907604,
          0.48013812630172836,
          0.5716753784843496,
          0.5526770000601193,
          0.5198618736982716,
          0.5664939127083279,
          0.587219281680641,
          0.5751295242911063,
          0.6027633495875235,
          0.5958548932634191,
          0.6217617280117538,
          0.6770293786045884,
          0.7478410971043055,
          0.740932640780201,
          0.6943006017701447,
          0.6925734465114708,
          0.6925734465114708,
          0.7132988154837838,
          0.740932640780201,
          0.7046632039010057,
          0.6390327864667189,
          0.6373056312080452,
          0.7202072718078882,
          0.7063903591596794,
          0.7357513397147706,
          0.9481864952139221,
          0.927461126241609,
          0.8894645341037397,
          0.835924038769579,
          0.8894645341037397,
          0.9015544562038655,
          0.8531950972245441,
          0.8514681066764616,
          0.8583765630005658,
          0.8376511940282527,
          0.8635578640659962,
          0.9032816114625395,
          0.9620034078621307,
          0.9378238930830611,
          0.927461126241609,
          0.9481864952139221,
          1.0449050484619735,
          1.1191710774790384,
          1.1329879901272473,
          1.0759931842757386,
          1.0552676505928344,
          1.0673575726929605,
          1.0466322037206477,
          1.018998213713639,
          1.029360980555091,
          1.0155440679068826,
          0.9913643884172219,
          1.070811718499717,
          0.9447323494071653,
          0.8635578640659962,
          0.8842832330383092,
          0.9378238930830611,
          0.9240069804348525,
          0.9343695825657135,
          0.9412780388898176,
          1.0379965921378695,
          1.0328152910724389,
          0.929188281500283,
          0.8687391651314267,
          0.8963729904278439,
          0.8117443592799183,
          0.7461139418456315,
          0.8117443592799183,
          0.8411053398350095,
          0.9723661747035828,
          0.9844559320931174,
          0.9326424273070395,
          0.9930915436758956,
          0.9533679609899437,
          0.9205526699175046,
          0.9965458541932435,
          0.998272844741326,
          1.0172712231655563,
          1.070811718499717,
          1.0535406600447517,
          1.018998213713639,
          1.2366148349888122,
          1.234887679730138,
          1.3868738835710244,
          1.3955094951538025,
          1.3782384366988376,
          1.3385146893022943,
          1.3747841261814897,
          1.4369602330984286,
          1.411053563060685,
          1.340241844560968,
          1.566493912708328,
          1.5336787863464805,
          1.5630397669015714,
          1.514680572632841,
          1.5492228542533626,
          1.5094991068568198,
          1.5405872426705844,
          1.518134718439598,
          1.4697755241708674,
          1.4784111357536456,
          1.4352332425503458,
          1.5492228542533626,
          1.630397174883941,
          1.6148532716876494,
          1.6338514854012884,
          1.6355786406599626,
          1.6891191359941233,
          1.6960275923182273,
          1.6770293786045882,
          1.5906735921979887,
          1.578583834808454,
          1.5129534173741672,
          1.4214163299021374,
          1.443868689422533,
          1.5613126116428977,
          2.041450902655217,
          2.055267815303426,
          2.089809932213356,
          2.022452524230987,
          1.9240069804348523,
          1.9015542914932744,
          1.8808290872315525,
          1.9412782036004086,
          1.842832330383092,
          1.8134716792491834,
          1.7478410971043052,
          1.8946459998797613,
          1.9326424273070395,
          1.903281446751948,
          1.9360967378243874,
          1.825561436638718,
          1.761658009752514,
          1.7599308544938403,
          1.7910189903076055,
          1.7772020776593966,
          1.7875646797902576,
          1.7772020776593966,
          1.6856649901873664,
          1.7823835434354183,
          1.6787565338632624,
          1.6856649901873664,
          1.7253885728733187,
          1.7340241844560969,
          1.7512954076216531,
          1.7288428833906662,
          1.7409326407802013,
          1.8704664851006916,
          1.6442142522427408,
          1.5941279027153366,
          1.6442142522427408,
          1.723661582325236,
          1.7633851650111878,
          1.7219344270665622,
          1.906735757269296,
          1.9188255146588307,
          1.9153712041414832,
          1.9430053588590828,
          1.9568222715072912,
          1.9430053588590828,
          1.9550951162486174,
          1.9360967378243874,
          1.7668394755285357,
          1.7288428833906662,
          1.6804836891219361,
          1.556131310577467,
          1.4697755241708674,
          1.507772116308737,
          1.4991365047259588,
          1.443868689422533,
          1.4542314562639849,
          1.4317789320329983,
          1.4455958446812067,
          1.3765112814401634,
          1.433506087291672,
          1.3609672135332809,
          1.37996542724692,
          1.3350605434955374,
          1.518134718439598,
          1.4179620193847895,
          1.2763385823853555,
          1.3350605434955374,
          1.411053563060685,
          1.5354059416051542,
          1.5284974852810498,
          1.566493912708328,
          1.601036359039441,
          1.6217617280117538,
          1.6511227085668447,
          1.5613126116428977,
          1.4887737378845065,
          1.4455958446812067,
          1.4507771457466374,
          1.48531959207775,
          1.4835924368190763,
          1.4991365047259588,
          1.481865281560402,
          1.4075992525433376,
          1.537132932153237,
          1.6183074174944059,
          1.6442142522427408,
          1.6044905048461975,
          1.6355786406599626,
          1.6770293786045882,
          1.6701209222804838,
          1.6511227085668447,
          1.6338514854012884,
          1.5215890289569454,
          1.5768566795497803,
          1.5906735921979887,
          1.5354059416051542,
          1.5457685437360151,
          1.4576856020707414,
          1.433506087291672,
          1.4576856020707414,
          1.495682194208611,
          1.6062176601048712,
          1.6096718059116277,
          1.607944815363545,
          1.6096718059116277,
          1.6701209222804838,
          1.6856649901873664,
          1.6753022233459145,
          1.6960275923182273,
          1.7582038639457576,
          1.7685666307872094,
          1.7443869512975487
         ],
         "yaxis": "y"
        }
       ],
       "layout": {
        "legend": {
         "title": {
          "text": "variable"
         },
         "tracegroupgap": 0
        },
        "margin": {
         "t": 60
        },
        "template": {
         "data": {
          "bar": [
           {
            "error_x": {
             "color": "#2a3f5f"
            },
            "error_y": {
             "color": "#2a3f5f"
            },
            "marker": {
             "line": {
              "color": "#E5ECF6",
              "width": 0.5
             },
             "pattern": {
              "fillmode": "overlay",
              "size": 10,
              "solidity": 0.2
             }
            },
            "type": "bar"
           }
          ],
          "barpolar": [
           {
            "marker": {
             "line": {
              "color": "#E5ECF6",
              "width": 0.5
             },
             "pattern": {
              "fillmode": "overlay",
              "size": 10,
              "solidity": 0.2
             }
            },
            "type": "barpolar"
           }
          ],
          "carpet": [
           {
            "aaxis": {
             "endlinecolor": "#2a3f5f",
             "gridcolor": "white",
             "linecolor": "white",
             "minorgridcolor": "white",
             "startlinecolor": "#2a3f5f"
            },
            "baxis": {
             "endlinecolor": "#2a3f5f",
             "gridcolor": "white",
             "linecolor": "white",
             "minorgridcolor": "white",
             "startlinecolor": "#2a3f5f"
            },
            "type": "carpet"
           }
          ],
          "choropleth": [
           {
            "colorbar": {
             "outlinewidth": 0,
             "ticks": ""
            },
            "type": "choropleth"
           }
          ],
          "contour": [
           {
            "colorbar": {
             "outlinewidth": 0,
             "ticks": ""
            },
            "colorscale": [
             [
              0,
              "#0d0887"
             ],
             [
              0.1111111111111111,
              "#46039f"
             ],
             [
              0.2222222222222222,
              "#7201a8"
             ],
             [
              0.3333333333333333,
              "#9c179e"
             ],
             [
              0.4444444444444444,
              "#bd3786"
             ],
             [
              0.5555555555555556,
              "#d8576b"
             ],
             [
              0.6666666666666666,
              "#ed7953"
             ],
             [
              0.7777777777777778,
              "#fb9f3a"
             ],
             [
              0.8888888888888888,
              "#fdca26"
             ],
             [
              1,
              "#f0f921"
             ]
            ],
            "type": "contour"
           }
          ],
          "contourcarpet": [
           {
            "colorbar": {
             "outlinewidth": 0,
             "ticks": ""
            },
            "type": "contourcarpet"
           }
          ],
          "heatmap": [
           {
            "colorbar": {
             "outlinewidth": 0,
             "ticks": ""
            },
            "colorscale": [
             [
              0,
              "#0d0887"
             ],
             [
              0.1111111111111111,
              "#46039f"
             ],
             [
              0.2222222222222222,
              "#7201a8"
             ],
             [
              0.3333333333333333,
              "#9c179e"
             ],
             [
              0.4444444444444444,
              "#bd3786"
             ],
             [
              0.5555555555555556,
              "#d8576b"
             ],
             [
              0.6666666666666666,
              "#ed7953"
             ],
             [
              0.7777777777777778,
              "#fb9f3a"
             ],
             [
              0.8888888888888888,
              "#fdca26"
             ],
             [
              1,
              "#f0f921"
             ]
            ],
            "type": "heatmap"
           }
          ],
          "heatmapgl": [
           {
            "colorbar": {
             "outlinewidth": 0,
             "ticks": ""
            },
            "colorscale": [
             [
              0,
              "#0d0887"
             ],
             [
              0.1111111111111111,
              "#46039f"
             ],
             [
              0.2222222222222222,
              "#7201a8"
             ],
             [
              0.3333333333333333,
              "#9c179e"
             ],
             [
              0.4444444444444444,
              "#bd3786"
             ],
             [
              0.5555555555555556,
              "#d8576b"
             ],
             [
              0.6666666666666666,
              "#ed7953"
             ],
             [
              0.7777777777777778,
              "#fb9f3a"
             ],
             [
              0.8888888888888888,
              "#fdca26"
             ],
             [
              1,
              "#f0f921"
             ]
            ],
            "type": "heatmapgl"
           }
          ],
          "histogram": [
           {
            "marker": {
             "pattern": {
              "fillmode": "overlay",
              "size": 10,
              "solidity": 0.2
             }
            },
            "type": "histogram"
           }
          ],
          "histogram2d": [
           {
            "colorbar": {
             "outlinewidth": 0,
             "ticks": ""
            },
            "colorscale": [
             [
              0,
              "#0d0887"
             ],
             [
              0.1111111111111111,
              "#46039f"
             ],
             [
              0.2222222222222222,
              "#7201a8"
             ],
             [
              0.3333333333333333,
              "#9c179e"
             ],
             [
              0.4444444444444444,
              "#bd3786"
             ],
             [
              0.5555555555555556,
              "#d8576b"
             ],
             [
              0.6666666666666666,
              "#ed7953"
             ],
             [
              0.7777777777777778,
              "#fb9f3a"
             ],
             [
              0.8888888888888888,
              "#fdca26"
             ],
             [
              1,
              "#f0f921"
             ]
            ],
            "type": "histogram2d"
           }
          ],
          "histogram2dcontour": [
           {
            "colorbar": {
             "outlinewidth": 0,
             "ticks": ""
            },
            "colorscale": [
             [
              0,
              "#0d0887"
             ],
             [
              0.1111111111111111,
              "#46039f"
             ],
             [
              0.2222222222222222,
              "#7201a8"
             ],
             [
              0.3333333333333333,
              "#9c179e"
             ],
             [
              0.4444444444444444,
              "#bd3786"
             ],
             [
              0.5555555555555556,
              "#d8576b"
             ],
             [
              0.6666666666666666,
              "#ed7953"
             ],
             [
              0.7777777777777778,
              "#fb9f3a"
             ],
             [
              0.8888888888888888,
              "#fdca26"
             ],
             [
              1,
              "#f0f921"
             ]
            ],
            "type": "histogram2dcontour"
           }
          ],
          "mesh3d": [
           {
            "colorbar": {
             "outlinewidth": 0,
             "ticks": ""
            },
            "type": "mesh3d"
           }
          ],
          "parcoords": [
           {
            "line": {
             "colorbar": {
              "outlinewidth": 0,
              "ticks": ""
             }
            },
            "type": "parcoords"
           }
          ],
          "pie": [
           {
            "automargin": true,
            "type": "pie"
           }
          ],
          "scatter": [
           {
            "fillpattern": {
             "fillmode": "overlay",
             "size": 10,
             "solidity": 0.2
            },
            "type": "scatter"
           }
          ],
          "scatter3d": [
           {
            "line": {
             "colorbar": {
              "outlinewidth": 0,
              "ticks": ""
             }
            },
            "marker": {
             "colorbar": {
              "outlinewidth": 0,
              "ticks": ""
             }
            },
            "type": "scatter3d"
           }
          ],
          "scattercarpet": [
           {
            "marker": {
             "colorbar": {
              "outlinewidth": 0,
              "ticks": ""
             }
            },
            "type": "scattercarpet"
           }
          ],
          "scattergeo": [
           {
            "marker": {
             "colorbar": {
              "outlinewidth": 0,
              "ticks": ""
             }
            },
            "type": "scattergeo"
           }
          ],
          "scattergl": [
           {
            "marker": {
             "colorbar": {
              "outlinewidth": 0,
              "ticks": ""
             }
            },
            "type": "scattergl"
           }
          ],
          "scattermapbox": [
           {
            "marker": {
             "colorbar": {
              "outlinewidth": 0,
              "ticks": ""
             }
            },
            "type": "scattermapbox"
           }
          ],
          "scatterpolar": [
           {
            "marker": {
             "colorbar": {
              "outlinewidth": 0,
              "ticks": ""
             }
            },
            "type": "scatterpolar"
           }
          ],
          "scatterpolargl": [
           {
            "marker": {
             "colorbar": {
              "outlinewidth": 0,
              "ticks": ""
             }
            },
            "type": "scatterpolargl"
           }
          ],
          "scatterternary": [
           {
            "marker": {
             "colorbar": {
              "outlinewidth": 0,
              "ticks": ""
             }
            },
            "type": "scatterternary"
           }
          ],
          "surface": [
           {
            "colorbar": {
             "outlinewidth": 0,
             "ticks": ""
            },
            "colorscale": [
             [
              0,
              "#0d0887"
             ],
             [
              0.1111111111111111,
              "#46039f"
             ],
             [
              0.2222222222222222,
              "#7201a8"
             ],
             [
              0.3333333333333333,
              "#9c179e"
             ],
             [
              0.4444444444444444,
              "#bd3786"
             ],
             [
              0.5555555555555556,
              "#d8576b"
             ],
             [
              0.6666666666666666,
              "#ed7953"
             ],
             [
              0.7777777777777778,
              "#fb9f3a"
             ],
             [
              0.8888888888888888,
              "#fdca26"
             ],
             [
              1,
              "#f0f921"
             ]
            ],
            "type": "surface"
           }
          ],
          "table": [
           {
            "cells": {
             "fill": {
              "color": "#EBF0F8"
             },
             "line": {
              "color": "white"
             }
            },
            "header": {
             "fill": {
              "color": "#C8D4E3"
             },
             "line": {
              "color": "white"
             }
            },
            "type": "table"
           }
          ]
         },
         "layout": {
          "annotationdefaults": {
           "arrowcolor": "#2a3f5f",
           "arrowhead": 0,
           "arrowwidth": 1
          },
          "autotypenumbers": "strict",
          "coloraxis": {
           "colorbar": {
            "outlinewidth": 0,
            "ticks": ""
           }
          },
          "colorscale": {
           "diverging": [
            [
             0,
             "#8e0152"
            ],
            [
             0.1,
             "#c51b7d"
            ],
            [
             0.2,
             "#de77ae"
            ],
            [
             0.3,
             "#f1b6da"
            ],
            [
             0.4,
             "#fde0ef"
            ],
            [
             0.5,
             "#f7f7f7"
            ],
            [
             0.6,
             "#e6f5d0"
            ],
            [
             0.7,
             "#b8e186"
            ],
            [
             0.8,
             "#7fbc41"
            ],
            [
             0.9,
             "#4d9221"
            ],
            [
             1,
             "#276419"
            ]
           ],
           "sequential": [
            [
             0,
             "#0d0887"
            ],
            [
             0.1111111111111111,
             "#46039f"
            ],
            [
             0.2222222222222222,
             "#7201a8"
            ],
            [
             0.3333333333333333,
             "#9c179e"
            ],
            [
             0.4444444444444444,
             "#bd3786"
            ],
            [
             0.5555555555555556,
             "#d8576b"
            ],
            [
             0.6666666666666666,
             "#ed7953"
            ],
            [
             0.7777777777777778,
             "#fb9f3a"
            ],
            [
             0.8888888888888888,
             "#fdca26"
            ],
            [
             1,
             "#f0f921"
            ]
           ],
           "sequentialminus": [
            [
             0,
             "#0d0887"
            ],
            [
             0.1111111111111111,
             "#46039f"
            ],
            [
             0.2222222222222222,
             "#7201a8"
            ],
            [
             0.3333333333333333,
             "#9c179e"
            ],
            [
             0.4444444444444444,
             "#bd3786"
            ],
            [
             0.5555555555555556,
             "#d8576b"
            ],
            [
             0.6666666666666666,
             "#ed7953"
            ],
            [
             0.7777777777777778,
             "#fb9f3a"
            ],
            [
             0.8888888888888888,
             "#fdca26"
            ],
            [
             1,
             "#f0f921"
            ]
           ]
          },
          "colorway": [
           "#636efa",
           "#EF553B",
           "#00cc96",
           "#ab63fa",
           "#FFA15A",
           "#19d3f3",
           "#FF6692",
           "#B6E880",
           "#FF97FF",
           "#FECB52"
          ],
          "font": {
           "color": "#2a3f5f"
          },
          "geo": {
           "bgcolor": "white",
           "lakecolor": "white",
           "landcolor": "#E5ECF6",
           "showlakes": true,
           "showland": true,
           "subunitcolor": "white"
          },
          "hoverlabel": {
           "align": "left"
          },
          "hovermode": "closest",
          "mapbox": {
           "style": "light"
          },
          "paper_bgcolor": "white",
          "plot_bgcolor": "#E5ECF6",
          "polar": {
           "angularaxis": {
            "gridcolor": "white",
            "linecolor": "white",
            "ticks": ""
           },
           "bgcolor": "#E5ECF6",
           "radialaxis": {
            "gridcolor": "white",
            "linecolor": "white",
            "ticks": ""
           }
          },
          "scene": {
           "xaxis": {
            "backgroundcolor": "#E5ECF6",
            "gridcolor": "white",
            "gridwidth": 2,
            "linecolor": "white",
            "showbackground": true,
            "ticks": "",
            "zerolinecolor": "white"
           },
           "yaxis": {
            "backgroundcolor": "#E5ECF6",
            "gridcolor": "white",
            "gridwidth": 2,
            "linecolor": "white",
            "showbackground": true,
            "ticks": "",
            "zerolinecolor": "white"
           },
           "zaxis": {
            "backgroundcolor": "#E5ECF6",
            "gridcolor": "white",
            "gridwidth": 2,
            "linecolor": "white",
            "showbackground": true,
            "ticks": "",
            "zerolinecolor": "white"
           }
          },
          "shapedefaults": {
           "line": {
            "color": "#2a3f5f"
           }
          },
          "ternary": {
           "aaxis": {
            "gridcolor": "white",
            "linecolor": "white",
            "ticks": ""
           },
           "baxis": {
            "gridcolor": "white",
            "linecolor": "white",
            "ticks": ""
           },
           "bgcolor": "#E5ECF6",
           "caxis": {
            "gridcolor": "white",
            "linecolor": "white",
            "ticks": ""
           }
          },
          "title": {
           "x": 0.05
          },
          "xaxis": {
           "automargin": true,
           "gridcolor": "white",
           "linecolor": "white",
           "ticks": "",
           "title": {
            "standoff": 15
           },
           "zerolinecolor": "white",
           "zerolinewidth": 2
          },
          "yaxis": {
           "automargin": true,
           "gridcolor": "white",
           "linecolor": "white",
           "ticks": "",
           "title": {
            "standoff": 15
           },
           "zerolinecolor": "white",
           "zerolinewidth": 2
          }
         }
        },
        "xaxis": {
         "anchor": "y",
         "domain": [
          0,
          1
         ],
         "title": {
          "text": "index"
         }
        },
        "yaxis": {
         "anchor": "x",
         "domain": [
          0,
          1
         ],
         "title": {
          "text": "value"
         }
        }
       }
      },
      "text/html": [
       "<div>                            <div id=\"77390652-5fa9-44ae-8bc8-2a2c6bd9e361\" class=\"plotly-graph-div\" style=\"height:525px; width:100%;\"></div>            <script type=\"text/javascript\">                require([\"plotly\"], function(Plotly) {                    window.PLOTLYENV=window.PLOTLYENV || {};                                    if (document.getElementById(\"77390652-5fa9-44ae-8bc8-2a2c6bd9e361\")) {                    Plotly.newPlot(                        \"77390652-5fa9-44ae-8bc8-2a2c6bd9e361\",                        [{\"hovertemplate\":\"variable=GOOGL\\u003cbr\\u003eindex=%{x}\\u003cbr\\u003evalue=%{y}\\u003cextra\\u003e\\u003c\\u002fextra\\u003e\",\"legendgroup\":\"GOOGL\",\"line\":{\"color\":\"#636efa\",\"dash\":\"solid\"},\"marker\":{\"symbol\":\"circle\"},\"mode\":\"lines\",\"name\":\"GOOGL\",\"showlegend\":true,\"x\":[\"2019-01-02T00:00:00-05:00\",\"2019-01-03T00:00:00-05:00\",\"2019-01-04T00:00:00-05:00\",\"2019-01-07T00:00:00-05:00\",\"2019-01-08T00:00:00-05:00\",\"2019-01-09T00:00:00-05:00\",\"2019-01-10T00:00:00-05:00\",\"2019-01-11T00:00:00-05:00\",\"2019-01-14T00:00:00-05:00\",\"2019-01-15T00:00:00-05:00\",\"2019-01-16T00:00:00-05:00\",\"2019-01-17T00:00:00-05:00\",\"2019-01-18T00:00:00-05:00\",\"2019-01-22T00:00:00-05:00\",\"2019-01-23T00:00:00-05:00\",\"2019-01-24T00:00:00-05:00\",\"2019-01-25T00:00:00-05:00\",\"2019-01-28T00:00:00-05:00\",\"2019-01-29T00:00:00-05:00\",\"2019-01-30T00:00:00-05:00\",\"2019-01-31T00:00:00-05:00\",\"2019-02-01T00:00:00-05:00\",\"2019-02-04T00:00:00-05:00\",\"2019-02-05T00:00:00-05:00\",\"2019-02-06T00:00:00-05:00\",\"2019-02-07T00:00:00-05:00\",\"2019-02-08T00:00:00-05:00\",\"2019-02-11T00:00:00-05:00\",\"2019-02-12T00:00:00-05:00\",\"2019-02-13T00:00:00-05:00\",\"2019-02-14T00:00:00-05:00\",\"2019-02-15T00:00:00-05:00\",\"2019-02-19T00:00:00-05:00\",\"2019-02-20T00:00:00-05:00\",\"2019-02-21T00:00:00-05:00\",\"2019-02-22T00:00:00-05:00\",\"2019-02-25T00:00:00-05:00\",\"2019-02-26T00:00:00-05:00\",\"2019-02-27T00:00:00-05:00\",\"2019-02-28T00:00:00-05:00\",\"2019-03-01T00:00:00-05:00\",\"2019-03-04T00:00:00-05:00\",\"2019-03-05T00:00:00-05:00\",\"2019-03-06T00:00:00-05:00\",\"2019-03-07T00:00:00-05:00\",\"2019-03-08T00:00:00-05:00\",\"2019-03-11T00:00:00-04:00\",\"2019-03-12T00:00:00-04:00\",\"2019-03-13T00:00:00-04:00\",\"2019-03-14T00:00:00-04:00\",\"2019-03-15T00:00:00-04:00\",\"2019-03-18T00:00:00-04:00\",\"2019-03-19T00:00:00-04:00\",\"2019-03-20T00:00:00-04:00\",\"2019-03-21T00:00:00-04:00\",\"2019-03-22T00:00:00-04:00\",\"2019-03-25T00:00:00-04:00\",\"2019-03-26T00:00:00-04:00\",\"2019-03-27T00:00:00-04:00\",\"2019-03-28T00:00:00-04:00\",\"2019-03-29T00:00:00-04:00\",\"2019-04-01T00:00:00-04:00\",\"2019-04-02T00:00:00-04:00\",\"2019-04-03T00:00:00-04:00\",\"2019-04-04T00:00:00-04:00\",\"2019-04-05T00:00:00-04:00\",\"2019-04-08T00:00:00-04:00\",\"2019-04-09T00:00:00-04:00\",\"2019-04-10T00:00:00-04:00\",\"2019-04-11T00:00:00-04:00\",\"2019-04-12T00:00:00-04:00\",\"2019-04-15T00:00:00-04:00\",\"2019-04-16T00:00:00-04:00\",\"2019-04-17T00:00:00-04:00\",\"2019-04-18T00:00:00-04:00\",\"2019-04-22T00:00:00-04:00\",\"2019-04-23T00:00:00-04:00\",\"2019-04-24T00:00:00-04:00\",\"2019-04-25T00:00:00-04:00\",\"2019-04-26T00:00:00-04:00\",\"2019-04-29T00:00:00-04:00\",\"2019-04-30T00:00:00-04:00\",\"2019-05-01T00:00:00-04:00\",\"2019-05-02T00:00:00-04:00\",\"2019-05-03T00:00:00-04:00\",\"2019-05-06T00:00:00-04:00\",\"2019-05-07T00:00:00-04:00\",\"2019-05-08T00:00:00-04:00\",\"2019-05-09T00:00:00-04:00\",\"2019-05-10T00:00:00-04:00\",\"2019-05-13T00:00:00-04:00\",\"2019-05-14T00:00:00-04:00\",\"2019-05-15T00:00:00-04:00\",\"2019-05-16T00:00:00-04:00\",\"2019-05-17T00:00:00-04:00\",\"2019-05-20T00:00:00-04:00\",\"2019-05-21T00:00:00-04:00\",\"2019-05-22T00:00:00-04:00\",\"2019-05-23T00:00:00-04:00\",\"2019-05-24T00:00:00-04:00\",\"2019-05-28T00:00:00-04:00\",\"2019-05-29T00:00:00-04:00\",\"2019-05-30T00:00:00-04:00\",\"2019-05-31T00:00:00-04:00\",\"2019-06-03T00:00:00-04:00\",\"2019-06-04T00:00:00-04:00\",\"2019-06-05T00:00:00-04:00\",\"2019-06-06T00:00:00-04:00\",\"2019-06-07T00:00:00-04:00\",\"2019-06-10T00:00:00-04:00\",\"2019-06-11T00:00:00-04:00\",\"2019-06-12T00:00:00-04:00\",\"2019-06-13T00:00:00-04:00\",\"2019-06-14T00:00:00-04:00\",\"2019-06-17T00:00:00-04:00\",\"2019-06-18T00:00:00-04:00\",\"2019-06-19T00:00:00-04:00\",\"2019-06-20T00:00:00-04:00\",\"2019-06-21T00:00:00-04:00\",\"2019-06-24T00:00:00-04:00\",\"2019-06-25T00:00:00-04:00\",\"2019-06-26T00:00:00-04:00\",\"2019-06-27T00:00:00-04:00\",\"2019-06-28T00:00:00-04:00\",\"2019-07-01T00:00:00-04:00\",\"2019-07-02T00:00:00-04:00\",\"2019-07-03T00:00:00-04:00\",\"2019-07-05T00:00:00-04:00\",\"2019-07-08T00:00:00-04:00\",\"2019-07-09T00:00:00-04:00\",\"2019-07-10T00:00:00-04:00\",\"2019-07-11T00:00:00-04:00\",\"2019-07-12T00:00:00-04:00\",\"2019-07-15T00:00:00-04:00\",\"2019-07-16T00:00:00-04:00\",\"2019-07-17T00:00:00-04:00\",\"2019-07-18T00:00:00-04:00\",\"2019-07-19T00:00:00-04:00\",\"2019-07-22T00:00:00-04:00\",\"2019-07-23T00:00:00-04:00\",\"2019-07-24T00:00:00-04:00\",\"2019-07-25T00:00:00-04:00\",\"2019-07-26T00:00:00-04:00\",\"2019-07-29T00:00:00-04:00\",\"2019-07-30T00:00:00-04:00\",\"2019-07-31T00:00:00-04:00\",\"2019-08-01T00:00:00-04:00\",\"2019-08-02T00:00:00-04:00\",\"2019-08-05T00:00:00-04:00\",\"2019-08-06T00:00:00-04:00\",\"2019-08-07T00:00:00-04:00\",\"2019-08-08T00:00:00-04:00\",\"2019-08-09T00:00:00-04:00\",\"2019-08-12T00:00:00-04:00\",\"2019-08-13T00:00:00-04:00\",\"2019-08-14T00:00:00-04:00\",\"2019-08-15T00:00:00-04:00\",\"2019-08-16T00:00:00-04:00\",\"2019-08-19T00:00:00-04:00\",\"2019-08-20T00:00:00-04:00\",\"2019-08-21T00:00:00-04:00\",\"2019-08-22T00:00:00-04:00\",\"2019-08-23T00:00:00-04:00\",\"2019-08-26T00:00:00-04:00\",\"2019-08-27T00:00:00-04:00\",\"2019-08-28T00:00:00-04:00\",\"2019-08-29T00:00:00-04:00\",\"2019-08-30T00:00:00-04:00\",\"2019-09-03T00:00:00-04:00\",\"2019-09-04T00:00:00-04:00\",\"2019-09-05T00:00:00-04:00\",\"2019-09-06T00:00:00-04:00\",\"2019-09-09T00:00:00-04:00\",\"2019-09-10T00:00:00-04:00\",\"2019-09-11T00:00:00-04:00\",\"2019-09-12T00:00:00-04:00\",\"2019-09-13T00:00:00-04:00\",\"2019-09-16T00:00:00-04:00\",\"2019-09-17T00:00:00-04:00\",\"2019-09-18T00:00:00-04:00\",\"2019-09-19T00:00:00-04:00\",\"2019-09-20T00:00:00-04:00\",\"2019-09-23T00:00:00-04:00\",\"2019-09-24T00:00:00-04:00\",\"2019-09-25T00:00:00-04:00\",\"2019-09-26T00:00:00-04:00\",\"2019-09-27T00:00:00-04:00\",\"2019-09-30T00:00:00-04:00\",\"2019-10-01T00:00:00-04:00\",\"2019-10-02T00:00:00-04:00\",\"2019-10-03T00:00:00-04:00\",\"2019-10-04T00:00:00-04:00\",\"2019-10-07T00:00:00-04:00\",\"2019-10-08T00:00:00-04:00\",\"2019-10-09T00:00:00-04:00\",\"2019-10-10T00:00:00-04:00\",\"2019-10-11T00:00:00-04:00\",\"2019-10-14T00:00:00-04:00\",\"2019-10-15T00:00:00-04:00\",\"2019-10-16T00:00:00-04:00\",\"2019-10-17T00:00:00-04:00\",\"2019-10-18T00:00:00-04:00\",\"2019-10-21T00:00:00-04:00\",\"2019-10-22T00:00:00-04:00\",\"2019-10-23T00:00:00-04:00\",\"2019-10-24T00:00:00-04:00\",\"2019-10-25T00:00:00-04:00\",\"2019-10-28T00:00:00-04:00\",\"2019-10-29T00:00:00-04:00\",\"2019-10-30T00:00:00-04:00\",\"2019-10-31T00:00:00-04:00\",\"2019-11-01T00:00:00-04:00\",\"2019-11-04T00:00:00-05:00\",\"2019-11-05T00:00:00-05:00\",\"2019-11-06T00:00:00-05:00\",\"2019-11-07T00:00:00-05:00\",\"2019-11-08T00:00:00-05:00\",\"2019-11-11T00:00:00-05:00\",\"2019-11-12T00:00:00-05:00\",\"2019-11-13T00:00:00-05:00\",\"2019-11-14T00:00:00-05:00\",\"2019-11-15T00:00:00-05:00\",\"2019-11-18T00:00:00-05:00\",\"2019-11-19T00:00:00-05:00\",\"2019-11-20T00:00:00-05:00\",\"2019-11-21T00:00:00-05:00\",\"2019-11-22T00:00:00-05:00\",\"2019-11-25T00:00:00-05:00\",\"2019-11-26T00:00:00-05:00\",\"2019-11-27T00:00:00-05:00\",\"2019-11-29T00:00:00-05:00\",\"2019-12-02T00:00:00-05:00\",\"2019-12-03T00:00:00-05:00\",\"2019-12-04T00:00:00-05:00\",\"2019-12-05T00:00:00-05:00\",\"2019-12-06T00:00:00-05:00\",\"2019-12-09T00:00:00-05:00\",\"2019-12-10T00:00:00-05:00\",\"2019-12-11T00:00:00-05:00\",\"2019-12-12T00:00:00-05:00\",\"2019-12-13T00:00:00-05:00\",\"2019-12-16T00:00:00-05:00\",\"2019-12-17T00:00:00-05:00\",\"2019-12-18T00:00:00-05:00\",\"2019-12-19T00:00:00-05:00\",\"2019-12-20T00:00:00-05:00\",\"2019-12-23T00:00:00-05:00\",\"2019-12-24T00:00:00-05:00\",\"2019-12-26T00:00:00-05:00\",\"2019-12-27T00:00:00-05:00\",\"2019-12-30T00:00:00-05:00\"],\"xaxis\":\"x\",\"y\":[0.0,-0.027695653513747476,0.022177312888936873,0.02013881464148115,0.029098875266910795,0.025571723526396584,0.02289794878464857,0.009282400873501517,-0.003005663668622649,0.030179756772002575,0.03302417797811352,0.04213600472572798,0.049891919083338454,0.022708277301155544,0.02818864022618217,0.02779989325734511,0.04440207981798472,0.02387451820766673,0.014582568655362227,0.04106459956096331,0.06751805676863154,0.060624995750114596,0.08224291520585147,0.09215111623331818,0.06467363556252059,0.04857398439311855,0.04522695545729416,0.04498042593183893,0.06912049868409076,0.07011602078776313,0.07065646154030891,0.06158261249247854,0.06810595156128851,0.062492847533207385,0.046962066137332226,0.0586717845656024,0.05940189680164121,0.06383921124440839,0.06467363556252059,0.06814385692259672,0.08897480610033259,0.09362081704572267,0.10857317998926796,0.10454356519599162,0.09118402315062712,0.09034967117099058,0.11812113540735458,0.1351784033191208,0.13689456131850464,0.1307031111765693,0.12858872986802128,0.1269295022490755,0.14011832549160141,0.16284555547341117,0.17204266928396916,0.14503922264495217,0.1353016680818484,0.1281526011975489,0.1169359418201894,0.11149348425647121,0.11587401299575184,0.13681875059588822,0.14303862975880466,0.1480354099732477,0.15622745300133056,0.14864218510808302,0.14563659377793625,0.14033635365759967,0.1439014107594223,0.14687864540706386,0.15933742875202683,0.1629403912151577,0.16804148351167414,0.17584477957091993,0.1771058562191774,0.1887586442670095,0.2047160779930297,0.1947225175641436,0.20163460360179064,0.2111919630217285,0.2289982958501875,0.136799797915234,0.11248907869861924,0.10603214635057445,0.12787764265111257,0.13158491719631682,0.11774186477884463,0.11008078616298067,0.10741641542308389,0.10710355151533912,0.07766331098122659,0.06654148734561338,0.11009973884363466,0.12308941426234066,0.1081844330204309,0.08531498559523931,0.09458791012841372,0.09592479749928784,0.08595966609138284,0.07957861680443057,0.08047937550483208,0.061876596058044964,0.06327034147088129,0.04913337782631855,-0.015113605406056885,-0.00018019514316580665,-0.009519526397105516,-0.006561244430118185,0.012980199078378885,0.02662417601050704,0.02499330507406672,0.023153954650430908,0.034446424750407045,0.029980608948182663,0.03717712987259314,0.04793870789882626,0.04724650102409589,0.05548599809228971,0.06702507005619696,0.058804525668657126,0.03119430389480482,0.02431064687813911,0.020811996497081653,0.02666208137181525,0.04297035670536431,0.05491712831876261,0.0647684713042671,0.07394656009569522,0.05888988507007653,0.0660010465930676,0.08175940483374378,0.08476499616389055,0.08595966609138284,0.09086168290255525,0.09365872240703088,0.0872871494604055,0.08776118349218631,0.07288463127125766,0.08014748657795745,0.0885292010895331,0.08064054562886813,0.07704705950606416,0.18066143698067294,0.17745662548823038,0.16433420896646989,0.15504225941416538,0.14895512135430367,0.13429666963784892,0.09488182135550449,0.11036522104974411,0.114944825274369,0.14365495357244296,0.1272613188374745,0.11360786556501923,0.13468534426821033,0.10388933602104533,0.10869644475199558,0.11807368136724339,0.13820301966839743,0.12216970288128493,0.12980235247616778,0.12974549443420536,0.09377251082943161,0.11045998445301475,0.11011869152428888,0.1128967783481103,0.13232450577268273,0.1288068303724954,0.10891454525646949,0.12097503295379264,0.1493438683231405,0.14377821833517057,0.14278262389302232,0.1431903235425136,0.15674894107322235,0.1709428350982234,0.17574046748884653,0.16777600130556491,0.16611670134814327,0.16874309438825597,0.17452684488070003,0.16607879598683506,0.17067735289211394,0.155165524176893,0.18134409517660055,0.17788327781837565,0.1623904741222848,0.1578298225783139,0.14347475842927704,0.11685058241877,0.12776385422871206,0.14817762741662954,0.14560809241847927,0.12842755974398545,0.14006139511116333,0.14676485698466313,0.15268134858016214,0.15463455976467433,0.17783589611674033,0.17855653201245203,0.18784840922628065,0.17989341938332615,0.17977015462059853,0.17684985035339507,0.19242801345090554,0.19383130754254485,0.1987522046958956,0.22215261653330587,0.19530093601647347,0.19533884137778168,0.19353732397697843,0.20629001854903195,0.22274998766628995,0.22448509834632802,0.22407739869683674,0.23918152776256663,0.24113466660860294,0.23097053205382956,0.22995591259255166,0.2289793431695335,0.24127688405198477,0.26440248201991023,0.2514126619242527,0.24453862592486542,0.23436494269128927,0.23273414409332482,0.2265995519933519,0.23794888013529025,0.24492737289370248,0.24410242491591738,0.23647925166136163,0.22203890044938102,0.22761402677767828,0.25055935726396217,0.2581635778378637,0.2699491069887503,0.2733624703068642,0.2732677069035936,0.27455721257283217,0.2785773510257812,0.2770413158310874,0.2901544006894725,0.2846455364049889,0.2818199955410563,0.28611516487891775,0.28116576636611,0.2806064452713857,0.27472778669871945,0.2918325086505966,0.28440855555833666,0.27025249455616795],\"yaxis\":\"y\",\"type\":\"scattergl\"},{\"hovertemplate\":\"variable=GOOG\\u003cbr\\u003eindex=%{x}\\u003cbr\\u003evalue=%{y}\\u003cextra\\u003e\\u003c\\u002fextra\\u003e\",\"legendgroup\":\"GOOG\",\"line\":{\"color\":\"#EF553B\",\"dash\":\"solid\"},\"marker\":{\"symbol\":\"circle\"},\"mode\":\"lines\",\"name\":\"GOOG\",\"showlegend\":true,\"x\":[\"2019-01-02T00:00:00-05:00\",\"2019-01-03T00:00:00-05:00\",\"2019-01-04T00:00:00-05:00\",\"2019-01-07T00:00:00-05:00\",\"2019-01-08T00:00:00-05:00\",\"2019-01-09T00:00:00-05:00\",\"2019-01-10T00:00:00-05:00\",\"2019-01-11T00:00:00-05:00\",\"2019-01-14T00:00:00-05:00\",\"2019-01-15T00:00:00-05:00\",\"2019-01-16T00:00:00-05:00\",\"2019-01-17T00:00:00-05:00\",\"2019-01-18T00:00:00-05:00\",\"2019-01-22T00:00:00-05:00\",\"2019-01-23T00:00:00-05:00\",\"2019-01-24T00:00:00-05:00\",\"2019-01-25T00:00:00-05:00\",\"2019-01-28T00:00:00-05:00\",\"2019-01-29T00:00:00-05:00\",\"2019-01-30T00:00:00-05:00\",\"2019-01-31T00:00:00-05:00\",\"2019-02-01T00:00:00-05:00\",\"2019-02-04T00:00:00-05:00\",\"2019-02-05T00:00:00-05:00\",\"2019-02-06T00:00:00-05:00\",\"2019-02-07T00:00:00-05:00\",\"2019-02-08T00:00:00-05:00\",\"2019-02-11T00:00:00-05:00\",\"2019-02-12T00:00:00-05:00\",\"2019-02-13T00:00:00-05:00\",\"2019-02-14T00:00:00-05:00\",\"2019-02-15T00:00:00-05:00\",\"2019-02-19T00:00:00-05:00\",\"2019-02-20T00:00:00-05:00\",\"2019-02-21T00:00:00-05:00\",\"2019-02-22T00:00:00-05:00\",\"2019-02-25T00:00:00-05:00\",\"2019-02-26T00:00:00-05:00\",\"2019-02-27T00:00:00-05:00\",\"2019-02-28T00:00:00-05:00\",\"2019-03-01T00:00:00-05:00\",\"2019-03-04T00:00:00-05:00\",\"2019-03-05T00:00:00-05:00\",\"2019-03-06T00:00:00-05:00\",\"2019-03-07T00:00:00-05:00\",\"2019-03-08T00:00:00-05:00\",\"2019-03-11T00:00:00-04:00\",\"2019-03-12T00:00:00-04:00\",\"2019-03-13T00:00:00-04:00\",\"2019-03-14T00:00:00-04:00\",\"2019-03-15T00:00:00-04:00\",\"2019-03-18T00:00:00-04:00\",\"2019-03-19T00:00:00-04:00\",\"2019-03-20T00:00:00-04:00\",\"2019-03-21T00:00:00-04:00\",\"2019-03-22T00:00:00-04:00\",\"2019-03-25T00:00:00-04:00\",\"2019-03-26T00:00:00-04:00\",\"2019-03-27T00:00:00-04:00\",\"2019-03-28T00:00:00-04:00\",\"2019-03-29T00:00:00-04:00\",\"2019-04-01T00:00:00-04:00\",\"2019-04-02T00:00:00-04:00\",\"2019-04-03T00:00:00-04:00\",\"2019-04-04T00:00:00-04:00\",\"2019-04-05T00:00:00-04:00\",\"2019-04-08T00:00:00-04:00\",\"2019-04-09T00:00:00-04:00\",\"2019-04-10T00:00:00-04:00\",\"2019-04-11T00:00:00-04:00\",\"2019-04-12T00:00:00-04:00\",\"2019-04-15T00:00:00-04:00\",\"2019-04-16T00:00:00-04:00\",\"2019-04-17T00:00:00-04:00\",\"2019-04-18T00:00:00-04:00\",\"2019-04-22T00:00:00-04:00\",\"2019-04-23T00:00:00-04:00\",\"2019-04-24T00:00:00-04:00\",\"2019-04-25T00:00:00-04:00\",\"2019-04-26T00:00:00-04:00\",\"2019-04-29T00:00:00-04:00\",\"2019-04-30T00:00:00-04:00\",\"2019-05-01T00:00:00-04:00\",\"2019-05-02T00:00:00-04:00\",\"2019-05-03T00:00:00-04:00\",\"2019-05-06T00:00:00-04:00\",\"2019-05-07T00:00:00-04:00\",\"2019-05-08T00:00:00-04:00\",\"2019-05-09T00:00:00-04:00\",\"2019-05-10T00:00:00-04:00\",\"2019-05-13T00:00:00-04:00\",\"2019-05-14T00:00:00-04:00\",\"2019-05-15T00:00:00-04:00\",\"2019-05-16T00:00:00-04:00\",\"2019-05-17T00:00:00-04:00\",\"2019-05-20T00:00:00-04:00\",\"2019-05-21T00:00:00-04:00\",\"2019-05-22T00:00:00-04:00\",\"2019-05-23T00:00:00-04:00\",\"2019-05-24T00:00:00-04:00\",\"2019-05-28T00:00:00-04:00\",\"2019-05-29T00:00:00-04:00\",\"2019-05-30T00:00:00-04:00\",\"2019-05-31T00:00:00-04:00\",\"2019-06-03T00:00:00-04:00\",\"2019-06-04T00:00:00-04:00\",\"2019-06-05T00:00:00-04:00\",\"2019-06-06T00:00:00-04:00\",\"2019-06-07T00:00:00-04:00\",\"2019-06-10T00:00:00-04:00\",\"2019-06-11T00:00:00-04:00\",\"2019-06-12T00:00:00-04:00\",\"2019-06-13T00:00:00-04:00\",\"2019-06-14T00:00:00-04:00\",\"2019-06-17T00:00:00-04:00\",\"2019-06-18T00:00:00-04:00\",\"2019-06-19T00:00:00-04:00\",\"2019-06-20T00:00:00-04:00\",\"2019-06-21T00:00:00-04:00\",\"2019-06-24T00:00:00-04:00\",\"2019-06-25T00:00:00-04:00\",\"2019-06-26T00:00:00-04:00\",\"2019-06-27T00:00:00-04:00\",\"2019-06-28T00:00:00-04:00\",\"2019-07-01T00:00:00-04:00\",\"2019-07-02T00:00:00-04:00\",\"2019-07-03T00:00:00-04:00\",\"2019-07-05T00:00:00-04:00\",\"2019-07-08T00:00:00-04:00\",\"2019-07-09T00:00:00-04:00\",\"2019-07-10T00:00:00-04:00\",\"2019-07-11T00:00:00-04:00\",\"2019-07-12T00:00:00-04:00\",\"2019-07-15T00:00:00-04:00\",\"2019-07-16T00:00:00-04:00\",\"2019-07-17T00:00:00-04:00\",\"2019-07-18T00:00:00-04:00\",\"2019-07-19T00:00:00-04:00\",\"2019-07-22T00:00:00-04:00\",\"2019-07-23T00:00:00-04:00\",\"2019-07-24T00:00:00-04:00\",\"2019-07-25T00:00:00-04:00\",\"2019-07-26T00:00:00-04:00\",\"2019-07-29T00:00:00-04:00\",\"2019-07-30T00:00:00-04:00\",\"2019-07-31T00:00:00-04:00\",\"2019-08-01T00:00:00-04:00\",\"2019-08-02T00:00:00-04:00\",\"2019-08-05T00:00:00-04:00\",\"2019-08-06T00:00:00-04:00\",\"2019-08-07T00:00:00-04:00\",\"2019-08-08T00:00:00-04:00\",\"2019-08-09T00:00:00-04:00\",\"2019-08-12T00:00:00-04:00\",\"2019-08-13T00:00:00-04:00\",\"2019-08-14T00:00:00-04:00\",\"2019-08-15T00:00:00-04:00\",\"2019-08-16T00:00:00-04:00\",\"2019-08-19T00:00:00-04:00\",\"2019-08-20T00:00:00-04:00\",\"2019-08-21T00:00:00-04:00\",\"2019-08-22T00:00:00-04:00\",\"2019-08-23T00:00:00-04:00\",\"2019-08-26T00:00:00-04:00\",\"2019-08-27T00:00:00-04:00\",\"2019-08-28T00:00:00-04:00\",\"2019-08-29T00:00:00-04:00\",\"2019-08-30T00:00:00-04:00\",\"2019-09-03T00:00:00-04:00\",\"2019-09-04T00:00:00-04:00\",\"2019-09-05T00:00:00-04:00\",\"2019-09-06T00:00:00-04:00\",\"2019-09-09T00:00:00-04:00\",\"2019-09-10T00:00:00-04:00\",\"2019-09-11T00:00:00-04:00\",\"2019-09-12T00:00:00-04:00\",\"2019-09-13T00:00:00-04:00\",\"2019-09-16T00:00:00-04:00\",\"2019-09-17T00:00:00-04:00\",\"2019-09-18T00:00:00-04:00\",\"2019-09-19T00:00:00-04:00\",\"2019-09-20T00:00:00-04:00\",\"2019-09-23T00:00:00-04:00\",\"2019-09-24T00:00:00-04:00\",\"2019-09-25T00:00:00-04:00\",\"2019-09-26T00:00:00-04:00\",\"2019-09-27T00:00:00-04:00\",\"2019-09-30T00:00:00-04:00\",\"2019-10-01T00:00:00-04:00\",\"2019-10-02T00:00:00-04:00\",\"2019-10-03T00:00:00-04:00\",\"2019-10-04T00:00:00-04:00\",\"2019-10-07T00:00:00-04:00\",\"2019-10-08T00:00:00-04:00\",\"2019-10-09T00:00:00-04:00\",\"2019-10-10T00:00:00-04:00\",\"2019-10-11T00:00:00-04:00\",\"2019-10-14T00:00:00-04:00\",\"2019-10-15T00:00:00-04:00\",\"2019-10-16T00:00:00-04:00\",\"2019-10-17T00:00:00-04:00\",\"2019-10-18T00:00:00-04:00\",\"2019-10-21T00:00:00-04:00\",\"2019-10-22T00:00:00-04:00\",\"2019-10-23T00:00:00-04:00\",\"2019-10-24T00:00:00-04:00\",\"2019-10-25T00:00:00-04:00\",\"2019-10-28T00:00:00-04:00\",\"2019-10-29T00:00:00-04:00\",\"2019-10-30T00:00:00-04:00\",\"2019-10-31T00:00:00-04:00\",\"2019-11-01T00:00:00-04:00\",\"2019-11-04T00:00:00-05:00\",\"2019-11-05T00:00:00-05:00\",\"2019-11-06T00:00:00-05:00\",\"2019-11-07T00:00:00-05:00\",\"2019-11-08T00:00:00-05:00\",\"2019-11-11T00:00:00-05:00\",\"2019-11-12T00:00:00-05:00\",\"2019-11-13T00:00:00-05:00\",\"2019-11-14T00:00:00-05:00\",\"2019-11-15T00:00:00-05:00\",\"2019-11-18T00:00:00-05:00\",\"2019-11-19T00:00:00-05:00\",\"2019-11-20T00:00:00-05:00\",\"2019-11-21T00:00:00-05:00\",\"2019-11-22T00:00:00-05:00\",\"2019-11-25T00:00:00-05:00\",\"2019-11-26T00:00:00-05:00\",\"2019-11-27T00:00:00-05:00\",\"2019-11-29T00:00:00-05:00\",\"2019-12-02T00:00:00-05:00\",\"2019-12-03T00:00:00-05:00\",\"2019-12-04T00:00:00-05:00\",\"2019-12-05T00:00:00-05:00\",\"2019-12-06T00:00:00-05:00\",\"2019-12-09T00:00:00-05:00\",\"2019-12-10T00:00:00-05:00\",\"2019-12-11T00:00:00-05:00\",\"2019-12-12T00:00:00-05:00\",\"2019-12-13T00:00:00-05:00\",\"2019-12-16T00:00:00-05:00\",\"2019-12-17T00:00:00-05:00\",\"2019-12-18T00:00:00-05:00\",\"2019-12-19T00:00:00-05:00\",\"2019-12-20T00:00:00-05:00\",\"2019-12-23T00:00:00-05:00\",\"2019-12-24T00:00:00-05:00\",\"2019-12-26T00:00:00-05:00\",\"2019-12-27T00:00:00-05:00\",\"2019-12-30T00:00:00-05:00\"],\"xaxis\":\"x\",\"y\":[0.0,-0.02848397287310156,0.023770139912964172,0.02155182695860458,0.029095943913718614,0.027547013039308954,0.02340677982793471,0.010842880866986926,-0.0011091200025677983,0.029927783915644435,0.033580351564195476,0.04211883939243499,0.05011232356774231,0.023588496345061438,0.02841707843464092,0.026820292869249807,0.04316106495654237,0.02316779816992276,0.014122459132932752,0.04131566843556378,0.0674284267806815,0.06205476808894561,0.08313811513065383,0.09574986878258329,0.06633841947481667,0.05054265104045652,0.04705261426310514,0.047004832521347684,0.0722092271285033,0.07105225243495394,0.07249606347749671,0.06482764104458916,0.06952243425724736,0.06497105921908575,0.04887889808738066,0.06169148095313992,0.06076400451847497,0.06624278304207754,0.06712247773498503,0.07082275417606954,0.09096906843476127,0.09748051617411968,0.11108671364839862,0.10709952790909649,0.09317782504076955,0.09224079225775306,0.12421472895898167,0.1408901920862493,0.14100494121569151,0.1335755733900197,0.13253334782591253,0.13234214790965826,0.1462925198230398,0.17031127069159147,0.1775493656517848,0.15265099303954988,0.14069899216999504,0.13268632234876065,0.12159490347541047,0.11726347034778173,0.12187218347605233,0.14206627947650174,0.14786063634337632,0.15305257851798548,0.1617344845207218,0.15422859295901392,0.15106376382251008,0.14476262869610923,0.14945742190876743,0.1518095237400483,0.16447868843131075,0.16756706678100253,0.1733326816535985,0.18213896608335256,0.18216763512840695,0.19409096695290717,0.2091122334754505,0.20093703278301644,0.2080604515629918,0.21640773947497705,0.23113254035095143,0.13637711539071784,0.11687144121769766,0.11164127364968257,0.1334321552155231,0.1372472537352738,0.12262757269116609,0.11514079382616127,0.1114213317391497,0.11322850286672215,0.08240191156146714,0.07131997608724427,0.11317109182738894,0.1272936239095459,0.11134488095233763,0.08892291564917687,0.09923027626235892,0.10094181095719224,0.09075875582180393,0.08377875521632538,0.08442895165034847,0.0675145068650691,0.06893913226168502,0.05524692765224226,-0.009198240610614139,0.00688436417273941,-0.003470851131424202,-0.0014438110425428752,0.01930484495919038,0.033016235214559986,0.03142900599752041,0.029813107735426225,0.04103838843492191,0.0377683665173274,0.044604875999085136,0.055218258607187654,0.0540039458235293,0.06269540817461716,0.07269689269132673,0.06661569947545853,0.03872451199704696,0.03246167521327625,0.028837776609779597,0.03352301347408648,0.049815930870397374,0.06253287730341728,0.07240998339310911,0.08198114043710447,0.06740931408397843,0.07551754738872773,0.09048140287193807,0.09404789043610151,0.09470764321847591,0.09990914174143661,0.1030071493887037,0.0960941161709099,0.09607500347420683,0.08055651504048855,0.08817708278241465,0.09596025434476463,0.08792847182682739,0.08248791869663075,0.19559211608555915,0.18507436991019577,0.1714299470425107,0.16334082643446446,0.15600709504153176,0.14164558130136307,0.10180239295339666,0.11865949964856704,0.12252237991007542,0.15198168390882372,0.13592774817052455,0.12321080173750465,0.1447817413928123,0.11324761556342522,0.1160873829575293,0.12597411834479666,0.14591004704130706,0.13084092582778228,0.13902568286856765,0.13738111556141908,0.1008175054793985,0.11764594312951449,0.11664194295881325,0.11968253956674735,0.14055557399549823,0.13601375530568816,0.1171678339150426,0.12961705669577217,0.15827318973764903,0.15210591643739324,0.1516087674754425,0.15312902930479755,0.1666778157397435,0.18014059503952562,0.18521778808469258,0.1773198673929004,0.1752641582589647,0.17838120565371085,0.18440506077946983,0.1760099181765029,0.17993020947734428,0.16532964112993964,0.19187265399854758,0.18696754817293204,0.17138216530075323,0.16555913938882405,0.15226852025781712,0.1250466419101317,0.13575558800174936,0.15599753869318023,0.1547353712185402,0.13699864277968632,0.14960084008326424,0.15568196034990822,0.16216473904421203,0.1637806373063062,0.18851655199656547,0.1891188937396071,0.1981354907823185,0.1908878394737734,0.19151885026186943,0.18831572278273567,0.20392984764919309,0.20570827678248693,0.20966679347673445,0.23344648973805038,0.20726683695447212,0.20599511313148033,0.20486688043220957,0.2178993322592775,0.23475636600522387,0.2353875226917681,0.235167507832011,0.2514796838234732,0.2538795673965115,0.24223366147110137,0.24186074503772015,0.24109579947425486,0.2539656474808991,0.27634938739065373,0.2628006739049318,0.25779037529822557,0.24592430861461034,0.24429885400416462,0.23855235182827172,0.24940486199283418,0.25596401852472606,0.2554285712201452,0.24775066538810986,0.2333700389512381,0.23849501373816273,0.26264762643285944,0.26990490703898007,0.28184727861095915,0.28465844990923284,0.28571023182169175,0.28605440626079415,0.2910741882666279,0.2887412720812741,0.30149644390770036,0.2957115704399531,0.2933211702660421,0.2965913380820846,0.290424064781829,0.2897069739093452,0.28465844990923284,0.30076009444006546,0.29262319209026155,0.2775637001743121],\"yaxis\":\"y\",\"type\":\"scattergl\"},{\"hovertemplate\":\"variable=META\\u003cbr\\u003eindex=%{x}\\u003cbr\\u003evalue=%{y}\\u003cextra\\u003e\\u003c\\u002fextra\\u003e\",\"legendgroup\":\"META\",\"line\":{\"color\":\"#00cc96\",\"dash\":\"solid\"},\"marker\":{\"symbol\":\"circle\"},\"mode\":\"lines\",\"name\":\"META\",\"showlegend\":true,\"x\":[\"2019-01-02T00:00:00-05:00\",\"2019-01-03T00:00:00-05:00\",\"2019-01-04T00:00:00-05:00\",\"2019-01-07T00:00:00-05:00\",\"2019-01-08T00:00:00-05:00\",\"2019-01-09T00:00:00-05:00\",\"2019-01-10T00:00:00-05:00\",\"2019-01-11T00:00:00-05:00\",\"2019-01-14T00:00:00-05:00\",\"2019-01-15T00:00:00-05:00\",\"2019-01-16T00:00:00-05:00\",\"2019-01-17T00:00:00-05:00\",\"2019-01-18T00:00:00-05:00\",\"2019-01-22T00:00:00-05:00\",\"2019-01-23T00:00:00-05:00\",\"2019-01-24T00:00:00-05:00\",\"2019-01-25T00:00:00-05:00\",\"2019-01-28T00:00:00-05:00\",\"2019-01-29T00:00:00-05:00\",\"2019-01-30T00:00:00-05:00\",\"2019-01-31T00:00:00-05:00\",\"2019-02-01T00:00:00-05:00\",\"2019-02-04T00:00:00-05:00\",\"2019-02-05T00:00:00-05:00\",\"2019-02-06T00:00:00-05:00\",\"2019-02-07T00:00:00-05:00\",\"2019-02-08T00:00:00-05:00\",\"2019-02-11T00:00:00-05:00\",\"2019-02-12T00:00:00-05:00\",\"2019-02-13T00:00:00-05:00\",\"2019-02-14T00:00:00-05:00\",\"2019-02-15T00:00:00-05:00\",\"2019-02-19T00:00:00-05:00\",\"2019-02-20T00:00:00-05:00\",\"2019-02-21T00:00:00-05:00\",\"2019-02-22T00:00:00-05:00\",\"2019-02-25T00:00:00-05:00\",\"2019-02-26T00:00:00-05:00\",\"2019-02-27T00:00:00-05:00\",\"2019-02-28T00:00:00-05:00\",\"2019-03-01T00:00:00-05:00\",\"2019-03-04T00:00:00-05:00\",\"2019-03-05T00:00:00-05:00\",\"2019-03-06T00:00:00-05:00\",\"2019-03-07T00:00:00-05:00\",\"2019-03-08T00:00:00-05:00\",\"2019-03-11T00:00:00-04:00\",\"2019-03-12T00:00:00-04:00\",\"2019-03-13T00:00:00-04:00\",\"2019-03-14T00:00:00-04:00\",\"2019-03-15T00:00:00-04:00\",\"2019-03-18T00:00:00-04:00\",\"2019-03-19T00:00:00-04:00\",\"2019-03-20T00:00:00-04:00\",\"2019-03-21T00:00:00-04:00\",\"2019-03-22T00:00:00-04:00\",\"2019-03-25T00:00:00-04:00\",\"2019-03-26T00:00:00-04:00\",\"2019-03-27T00:00:00-04:00\",\"2019-03-28T00:00:00-04:00\",\"2019-03-29T00:00:00-04:00\",\"2019-04-01T00:00:00-04:00\",\"2019-04-02T00:00:00-04:00\",\"2019-04-03T00:00:00-04:00\",\"2019-04-04T00:00:00-04:00\",\"2019-04-05T00:00:00-04:00\",\"2019-04-08T00:00:00-04:00\",\"2019-04-09T00:00:00-04:00\",\"2019-04-10T00:00:00-04:00\",\"2019-04-11T00:00:00-04:00\",\"2019-04-12T00:00:00-04:00\",\"2019-04-15T00:00:00-04:00\",\"2019-04-16T00:00:00-04:00\",\"2019-04-17T00:00:00-04:00\",\"2019-04-18T00:00:00-04:00\",\"2019-04-22T00:00:00-04:00\",\"2019-04-23T00:00:00-04:00\",\"2019-04-24T00:00:00-04:00\",\"2019-04-25T00:00:00-04:00\",\"2019-04-26T00:00:00-04:00\",\"2019-04-29T00:00:00-04:00\",\"2019-04-30T00:00:00-04:00\",\"2019-05-01T00:00:00-04:00\",\"2019-05-02T00:00:00-04:00\",\"2019-05-03T00:00:00-04:00\",\"2019-05-06T00:00:00-04:00\",\"2019-05-07T00:00:00-04:00\",\"2019-05-08T00:00:00-04:00\",\"2019-05-09T00:00:00-04:00\",\"2019-05-10T00:00:00-04:00\",\"2019-05-13T00:00:00-04:00\",\"2019-05-14T00:00:00-04:00\",\"2019-05-15T00:00:00-04:00\",\"2019-05-16T00:00:00-04:00\",\"2019-05-17T00:00:00-04:00\",\"2019-05-20T00:00:00-04:00\",\"2019-05-21T00:00:00-04:00\",\"2019-05-22T00:00:00-04:00\",\"2019-05-23T00:00:00-04:00\",\"2019-05-24T00:00:00-04:00\",\"2019-05-28T00:00:00-04:00\",\"2019-05-29T00:00:00-04:00\",\"2019-05-30T00:00:00-04:00\",\"2019-05-31T00:00:00-04:00\",\"2019-06-03T00:00:00-04:00\",\"2019-06-04T00:00:00-04:00\",\"2019-06-05T00:00:00-04:00\",\"2019-06-06T00:00:00-04:00\",\"2019-06-07T00:00:00-04:00\",\"2019-06-10T00:00:00-04:00\",\"2019-06-11T00:00:00-04:00\",\"2019-06-12T00:00:00-04:00\",\"2019-06-13T00:00:00-04:00\",\"2019-06-14T00:00:00-04:00\",\"2019-06-17T00:00:00-04:00\",\"2019-06-18T00:00:00-04:00\",\"2019-06-19T00:00:00-04:00\",\"2019-06-20T00:00:00-04:00\",\"2019-06-21T00:00:00-04:00\",\"2019-06-24T00:00:00-04:00\",\"2019-06-25T00:00:00-04:00\",\"2019-06-26T00:00:00-04:00\",\"2019-06-27T00:00:00-04:00\",\"2019-06-28T00:00:00-04:00\",\"2019-07-01T00:00:00-04:00\",\"2019-07-02T00:00:00-04:00\",\"2019-07-03T00:00:00-04:00\",\"2019-07-05T00:00:00-04:00\",\"2019-07-08T00:00:00-04:00\",\"2019-07-09T00:00:00-04:00\",\"2019-07-10T00:00:00-04:00\",\"2019-07-11T00:00:00-04:00\",\"2019-07-12T00:00:00-04:00\",\"2019-07-15T00:00:00-04:00\",\"2019-07-16T00:00:00-04:00\",\"2019-07-17T00:00:00-04:00\",\"2019-07-18T00:00:00-04:00\",\"2019-07-19T00:00:00-04:00\",\"2019-07-22T00:00:00-04:00\",\"2019-07-23T00:00:00-04:00\",\"2019-07-24T00:00:00-04:00\",\"2019-07-25T00:00:00-04:00\",\"2019-07-26T00:00:00-04:00\",\"2019-07-29T00:00:00-04:00\",\"2019-07-30T00:00:00-04:00\",\"2019-07-31T00:00:00-04:00\",\"2019-08-01T00:00:00-04:00\",\"2019-08-02T00:00:00-04:00\",\"2019-08-05T00:00:00-04:00\",\"2019-08-06T00:00:00-04:00\",\"2019-08-07T00:00:00-04:00\",\"2019-08-08T00:00:00-04:00\",\"2019-08-09T00:00:00-04:00\",\"2019-08-12T00:00:00-04:00\",\"2019-08-13T00:00:00-04:00\",\"2019-08-14T00:00:00-04:00\",\"2019-08-15T00:00:00-04:00\",\"2019-08-16T00:00:00-04:00\",\"2019-08-19T00:00:00-04:00\",\"2019-08-20T00:00:00-04:00\",\"2019-08-21T00:00:00-04:00\",\"2019-08-22T00:00:00-04:00\",\"2019-08-23T00:00:00-04:00\",\"2019-08-26T00:00:00-04:00\",\"2019-08-27T00:00:00-04:00\",\"2019-08-28T00:00:00-04:00\",\"2019-08-29T00:00:00-04:00\",\"2019-08-30T00:00:00-04:00\",\"2019-09-03T00:00:00-04:00\",\"2019-09-04T00:00:00-04:00\",\"2019-09-05T00:00:00-04:00\",\"2019-09-06T00:00:00-04:00\",\"2019-09-09T00:00:00-04:00\",\"2019-09-10T00:00:00-04:00\",\"2019-09-11T00:00:00-04:00\",\"2019-09-12T00:00:00-04:00\",\"2019-09-13T00:00:00-04:00\",\"2019-09-16T00:00:00-04:00\",\"2019-09-17T00:00:00-04:00\",\"2019-09-18T00:00:00-04:00\",\"2019-09-19T00:00:00-04:00\",\"2019-09-20T00:00:00-04:00\",\"2019-09-23T00:00:00-04:00\",\"2019-09-24T00:00:00-04:00\",\"2019-09-25T00:00:00-04:00\",\"2019-09-26T00:00:00-04:00\",\"2019-09-27T00:00:00-04:00\",\"2019-09-30T00:00:00-04:00\",\"2019-10-01T00:00:00-04:00\",\"2019-10-02T00:00:00-04:00\",\"2019-10-03T00:00:00-04:00\",\"2019-10-04T00:00:00-04:00\",\"2019-10-07T00:00:00-04:00\",\"2019-10-08T00:00:00-04:00\",\"2019-10-09T00:00:00-04:00\",\"2019-10-10T00:00:00-04:00\",\"2019-10-11T00:00:00-04:00\",\"2019-10-14T00:00:00-04:00\",\"2019-10-15T00:00:00-04:00\",\"2019-10-16T00:00:00-04:00\",\"2019-10-17T00:00:00-04:00\",\"2019-10-18T00:00:00-04:00\",\"2019-10-21T00:00:00-04:00\",\"2019-10-22T00:00:00-04:00\",\"2019-10-23T00:00:00-04:00\",\"2019-10-24T00:00:00-04:00\",\"2019-10-25T00:00:00-04:00\",\"2019-10-28T00:00:00-04:00\",\"2019-10-29T00:00:00-04:00\",\"2019-10-30T00:00:00-04:00\",\"2019-10-31T00:00:00-04:00\",\"2019-11-01T00:00:00-04:00\",\"2019-11-04T00:00:00-05:00\",\"2019-11-05T00:00:00-05:00\",\"2019-11-06T00:00:00-05:00\",\"2019-11-07T00:00:00-05:00\",\"2019-11-08T00:00:00-05:00\",\"2019-11-11T00:00:00-05:00\",\"2019-11-12T00:00:00-05:00\",\"2019-11-13T00:00:00-05:00\",\"2019-11-14T00:00:00-05:00\",\"2019-11-15T00:00:00-05:00\",\"2019-11-18T00:00:00-05:00\",\"2019-11-19T00:00:00-05:00\",\"2019-11-20T00:00:00-05:00\",\"2019-11-21T00:00:00-05:00\",\"2019-11-22T00:00:00-05:00\",\"2019-11-25T00:00:00-05:00\",\"2019-11-26T00:00:00-05:00\",\"2019-11-27T00:00:00-05:00\",\"2019-11-29T00:00:00-05:00\",\"2019-12-02T00:00:00-05:00\",\"2019-12-03T00:00:00-05:00\",\"2019-12-04T00:00:00-05:00\",\"2019-12-05T00:00:00-05:00\",\"2019-12-06T00:00:00-05:00\",\"2019-12-09T00:00:00-05:00\",\"2019-12-10T00:00:00-05:00\",\"2019-12-11T00:00:00-05:00\",\"2019-12-12T00:00:00-05:00\",\"2019-12-13T00:00:00-05:00\",\"2019-12-16T00:00:00-05:00\",\"2019-12-17T00:00:00-05:00\",\"2019-12-18T00:00:00-05:00\",\"2019-12-19T00:00:00-05:00\",\"2019-12-20T00:00:00-05:00\",\"2019-12-23T00:00:00-05:00\",\"2019-12-24T00:00:00-05:00\",\"2019-12-26T00:00:00-05:00\",\"2019-12-27T00:00:00-05:00\",\"2019-12-30T00:00:00-05:00\"],\"xaxis\":\"x\",\"y\":[0.0,-0.02903889670700821,0.01673053757388132,0.017467604840979423,0.050486462144666566,0.0630159301998312,0.06279482127779334,0.05984677737123567,0.07156543765831702,0.0978036588798199,0.08741153954404735,0.09301300309597527,0.10583720799324525,0.08763276104700246,0.06353188854489167,0.074808443568815,0.0982458767238954,0.08689569377990436,0.06272108077680838,0.10863799605966795,0.22855254714325923,0.2213296932169997,0.24742043343653242,0.2614976639459612,0.2565596397410639,0.226267717421897,0.23326946242611868,0.22191916690121016,0.21639144385026743,0.20924244300591055,0.20835789473684208,0.19767103855896417,0.19612316352378278,0.1981131438221222,0.17953999437095414,0.1931751196172249,0.21329591894173938,0.20968454826906835,0.19995575569940893,0.18993222628764417,0.19604953560371507,0.23356419926822403,0.2622346186321418,0.27144745285674077,0.24653599774838164,0.25,0.26820467210807775,0.26709901491697163,0.277785983675767,0.2542010695187167,0.22331956093442162,0.18270937236138485,0.19081666197579517,0.2193396003377428,0.22405662820151995,0.21123231072333248,0.22560427807486638,0.23584902898958626,0.2225088657472558,0.2201504081058261,0.22855254714325923,0.24336673233886863,0.2839032929918379,0.2790388967070081,0.29731719673515333,0.2951061075147763,0.2892835350408105,0.3088148606811145,0.3105837320574163,0.30829890233605406,0.32001778778497036,0.3240712637207994,0.3183225443287363,0.31765921756262316,0.31397410638896717,0.33726417112299467,0.35451055446101876,0.3456663101604278,0.4243808612440192,0.41133554742471157,0.43558367576695756,0.42541266535322264,0.4226857303687026,0.4190006191950464,0.440669180973825,0.42895052068674366,0.3986585983675768,0.3969633549113425,0.3904038277511961,0.38811911061075155,0.3380011258091753,0.33203118491415706,0.37286270757106665,0.3781692091190543,0.3657134815648748,0.34669811426963126,0.3621757388122713,0.3658608499859275,0.333063101604278,0.334463383056572,0.3584168871376301,0.34279189417393763,0.34883546298902335,0.3080041654939487,0.20983191669012102,0.23452237545736,0.23946051224317477,0.24063979735434837,0.27763861525471434,0.2884729524345624,0.3126474528567409,0.2900943428088938,0.3080041654939487,0.33645347593582886,0.39305713481564886,0.3890772867998875,0.3817805797917253,0.396889726991275,0.4087558682803265,0.41951657754010685,0.39180422178440755,0.38310734590486906,0.39666861806923737,0.42246462144666475,0.42246462144666475,0.43720517872220666,0.4534197579510273,0.447523557556994,0.4428065296932171,0.46823416830847164,0.49417742752603444,0.4831219814241485,0.509949901491697,0.5028744159864902,0.5023584576414297,0.4873231635237827,0.4798054601745003,0.4619693779904306,0.49115575569940906,0.4914504925415142,0.5084021390374331,0.47928950182943986,0.472214016324233,0.44413329580636085,0.4522404728398537,0.431530087250211,0.42047464114832533,0.3931308753166338,0.33940151984238676,0.35989090909090904,0.3646078243737687,0.40153301435406696,0.3845077399380805,0.3662293273290178,0.38892980579791736,0.3245135941457924,0.3457399380804953,0.3539209681958908,0.37212552772305085,0.3547316633830566,0.35281542358570217,0.3416862369828315,0.31006777371235583,0.329304249929637,0.3362323670137912,0.3396226287644244,0.36770346186321423,0.36844041654939486,0.34426591612721635,0.3792747537292429,0.40698699690402473,0.38185443287362797,0.3912146355192794,0.37212552772305085,0.38922465522093996,0.3817069518716578,0.3796433436532507,0.37249411764705886,0.3862028708133971,0.3866450886574726,0.4013856459330143,0.3998377708978329,0.3769162960878132,0.33608488601182107,0.3472878131156769,0.32746163805235007,0.3052771179285112,0.3124999718547705,0.2957694342808894,0.2868514494793133,0.3220813960033775,0.32996757669575016,0.32429237264283706,0.31006777371235583,0.32554539825499584,0.3268720517872221,0.3575324514494793,0.35082544328736276,0.39217281170841534,0.39703720799324516,0.40322814522938355,0.3697671826625386,0.3985848578665916,0.34389732620320856,0.3719781593019984,0.37367340275823246,0.38480247678018586,0.39593155080213904,0.3952682240360259,0.3874557838446384,0.4125147199549677,0.42703416830847174,0.43514157050379954,0.43219341401632416,0.41177776526878684,0.4034492541514214,0.40654477905994924,0.39747942583732065,0.4332989586265128,0.4238650154798762,0.4235701660568534,0.43794224598930476,0.45489377990430624,0.46904486349563745,0.4557045876723895,0.4588001125809176,0.46535975232198146,0.47250875316633834,0.4664651843512524,0.48879718547706164,0.4861438784126091,0.4718455389811427,0.46535975232198146,0.46454894455389817,0.4693396003377428,0.48179544047283995,0.4839327891922318,0.480468674359696,0.4907134252744161,0.4501032367013791,0.43064565156206025,0.4587263720799324,0.46219048691246845,0.49248229665071763,0.5187205178722207,0.5204893892485223,0.5196049535603715,0.5117924007880663,0.531471094849423,0.5337559245707852,0.5065595271601464],\"yaxis\":\"y\",\"type\":\"scattergl\"},{\"hovertemplate\":\"variable=TTD\\u003cbr\\u003eindex=%{x}\\u003cbr\\u003evalue=%{y}\\u003cextra\\u003e\\u003c\\u002fextra\\u003e\",\"legendgroup\":\"TTD\",\"line\":{\"color\":\"#ab63fa\",\"dash\":\"solid\"},\"marker\":{\"symbol\":\"circle\"},\"mode\":\"lines\",\"name\":\"TTD\",\"showlegend\":true,\"x\":[\"2019-01-02T00:00:00-05:00\",\"2019-01-03T00:00:00-05:00\",\"2019-01-04T00:00:00-05:00\",\"2019-01-07T00:00:00-05:00\",\"2019-01-08T00:00:00-05:00\",\"2019-01-09T00:00:00-05:00\",\"2019-01-10T00:00:00-05:00\",\"2019-01-11T00:00:00-05:00\",\"2019-01-14T00:00:00-05:00\",\"2019-01-15T00:00:00-05:00\",\"2019-01-16T00:00:00-05:00\",\"2019-01-17T00:00:00-05:00\",\"2019-01-18T00:00:00-05:00\",\"2019-01-22T00:00:00-05:00\",\"2019-01-23T00:00:00-05:00\",\"2019-01-24T00:00:00-05:00\",\"2019-01-25T00:00:00-05:00\",\"2019-01-28T00:00:00-05:00\",\"2019-01-29T00:00:00-05:00\",\"2019-01-30T00:00:00-05:00\",\"2019-01-31T00:00:00-05:00\",\"2019-02-01T00:00:00-05:00\",\"2019-02-04T00:00:00-05:00\",\"2019-02-05T00:00:00-05:00\",\"2019-02-06T00:00:00-05:00\",\"2019-02-07T00:00:00-05:00\",\"2019-02-08T00:00:00-05:00\",\"2019-02-11T00:00:00-05:00\",\"2019-02-12T00:00:00-05:00\",\"2019-02-13T00:00:00-05:00\",\"2019-02-14T00:00:00-05:00\",\"2019-02-15T00:00:00-05:00\",\"2019-02-19T00:00:00-05:00\",\"2019-02-20T00:00:00-05:00\",\"2019-02-21T00:00:00-05:00\",\"2019-02-22T00:00:00-05:00\",\"2019-02-25T00:00:00-05:00\",\"2019-02-26T00:00:00-05:00\",\"2019-02-27T00:00:00-05:00\",\"2019-02-28T00:00:00-05:00\",\"2019-03-01T00:00:00-05:00\",\"2019-03-04T00:00:00-05:00\",\"2019-03-05T00:00:00-05:00\",\"2019-03-06T00:00:00-05:00\",\"2019-03-07T00:00:00-05:00\",\"2019-03-08T00:00:00-05:00\",\"2019-03-11T00:00:00-04:00\",\"2019-03-12T00:00:00-04:00\",\"2019-03-13T00:00:00-04:00\",\"2019-03-14T00:00:00-04:00\",\"2019-03-15T00:00:00-04:00\",\"2019-03-18T00:00:00-04:00\",\"2019-03-19T00:00:00-04:00\",\"2019-03-20T00:00:00-04:00\",\"2019-03-21T00:00:00-04:00\",\"2019-03-22T00:00:00-04:00\",\"2019-03-25T00:00:00-04:00\",\"2019-03-26T00:00:00-04:00\",\"2019-03-27T00:00:00-04:00\",\"2019-03-28T00:00:00-04:00\",\"2019-03-29T00:00:00-04:00\",\"2019-04-01T00:00:00-04:00\",\"2019-04-02T00:00:00-04:00\",\"2019-04-03T00:00:00-04:00\",\"2019-04-04T00:00:00-04:00\",\"2019-04-05T00:00:00-04:00\",\"2019-04-08T00:00:00-04:00\",\"2019-04-09T00:00:00-04:00\",\"2019-04-10T00:00:00-04:00\",\"2019-04-11T00:00:00-04:00\",\"2019-04-12T00:00:00-04:00\",\"2019-04-15T00:00:00-04:00\",\"2019-04-16T00:00:00-04:00\",\"2019-04-17T00:00:00-04:00\",\"2019-04-18T00:00:00-04:00\",\"2019-04-22T00:00:00-04:00\",\"2019-04-23T00:00:00-04:00\",\"2019-04-24T00:00:00-04:00\",\"2019-04-25T00:00:00-04:00\",\"2019-04-26T00:00:00-04:00\",\"2019-04-29T00:00:00-04:00\",\"2019-04-30T00:00:00-04:00\",\"2019-05-01T00:00:00-04:00\",\"2019-05-02T00:00:00-04:00\",\"2019-05-03T00:00:00-04:00\",\"2019-05-06T00:00:00-04:00\",\"2019-05-07T00:00:00-04:00\",\"2019-05-08T00:00:00-04:00\",\"2019-05-09T00:00:00-04:00\",\"2019-05-10T00:00:00-04:00\",\"2019-05-13T00:00:00-04:00\",\"2019-05-14T00:00:00-04:00\",\"2019-05-15T00:00:00-04:00\",\"2019-05-16T00:00:00-04:00\",\"2019-05-17T00:00:00-04:00\",\"2019-05-20T00:00:00-04:00\",\"2019-05-21T00:00:00-04:00\",\"2019-05-22T00:00:00-04:00\",\"2019-05-23T00:00:00-04:00\",\"2019-05-24T00:00:00-04:00\",\"2019-05-28T00:00:00-04:00\",\"2019-05-29T00:00:00-04:00\",\"2019-05-30T00:00:00-04:00\",\"2019-05-31T00:00:00-04:00\",\"2019-06-03T00:00:00-04:00\",\"2019-06-04T00:00:00-04:00\",\"2019-06-05T00:00:00-04:00\",\"2019-06-06T00:00:00-04:00\",\"2019-06-07T00:00:00-04:00\",\"2019-06-10T00:00:00-04:00\",\"2019-06-11T00:00:00-04:00\",\"2019-06-12T00:00:00-04:00\",\"2019-06-13T00:00:00-04:00\",\"2019-06-14T00:00:00-04:00\",\"2019-06-17T00:00:00-04:00\",\"2019-06-18T00:00:00-04:00\",\"2019-06-19T00:00:00-04:00\",\"2019-06-20T00:00:00-04:00\",\"2019-06-21T00:00:00-04:00\",\"2019-06-24T00:00:00-04:00\",\"2019-06-25T00:00:00-04:00\",\"2019-06-26T00:00:00-04:00\",\"2019-06-27T00:00:00-04:00\",\"2019-06-28T00:00:00-04:00\",\"2019-07-01T00:00:00-04:00\",\"2019-07-02T00:00:00-04:00\",\"2019-07-03T00:00:00-04:00\",\"2019-07-05T00:00:00-04:00\",\"2019-07-08T00:00:00-04:00\",\"2019-07-09T00:00:00-04:00\",\"2019-07-10T00:00:00-04:00\",\"2019-07-11T00:00:00-04:00\",\"2019-07-12T00:00:00-04:00\",\"2019-07-15T00:00:00-04:00\",\"2019-07-16T00:00:00-04:00\",\"2019-07-17T00:00:00-04:00\",\"2019-07-18T00:00:00-04:00\",\"2019-07-19T00:00:00-04:00\",\"2019-07-22T00:00:00-04:00\",\"2019-07-23T00:00:00-04:00\",\"2019-07-24T00:00:00-04:00\",\"2019-07-25T00:00:00-04:00\",\"2019-07-26T00:00:00-04:00\",\"2019-07-29T00:00:00-04:00\",\"2019-07-30T00:00:00-04:00\",\"2019-07-31T00:00:00-04:00\",\"2019-08-01T00:00:00-04:00\",\"2019-08-02T00:00:00-04:00\",\"2019-08-05T00:00:00-04:00\",\"2019-08-06T00:00:00-04:00\",\"2019-08-07T00:00:00-04:00\",\"2019-08-08T00:00:00-04:00\",\"2019-08-09T00:00:00-04:00\",\"2019-08-12T00:00:00-04:00\",\"2019-08-13T00:00:00-04:00\",\"2019-08-14T00:00:00-04:00\",\"2019-08-15T00:00:00-04:00\",\"2019-08-16T00:00:00-04:00\",\"2019-08-19T00:00:00-04:00\",\"2019-08-20T00:00:00-04:00\",\"2019-08-21T00:00:00-04:00\",\"2019-08-22T00:00:00-04:00\",\"2019-08-23T00:00:00-04:00\",\"2019-08-26T00:00:00-04:00\",\"2019-08-27T00:00:00-04:00\",\"2019-08-28T00:00:00-04:00\",\"2019-08-29T00:00:00-04:00\",\"2019-08-30T00:00:00-04:00\",\"2019-09-03T00:00:00-04:00\",\"2019-09-04T00:00:00-04:00\",\"2019-09-05T00:00:00-04:00\",\"2019-09-06T00:00:00-04:00\",\"2019-09-09T00:00:00-04:00\",\"2019-09-10T00:00:00-04:00\",\"2019-09-11T00:00:00-04:00\",\"2019-09-12T00:00:00-04:00\",\"2019-09-13T00:00:00-04:00\",\"2019-09-16T00:00:00-04:00\",\"2019-09-17T00:00:00-04:00\",\"2019-09-18T00:00:00-04:00\",\"2019-09-19T00:00:00-04:00\",\"2019-09-20T00:00:00-04:00\",\"2019-09-23T00:00:00-04:00\",\"2019-09-24T00:00:00-04:00\",\"2019-09-25T00:00:00-04:00\",\"2019-09-26T00:00:00-04:00\",\"2019-09-27T00:00:00-04:00\",\"2019-09-30T00:00:00-04:00\",\"2019-10-01T00:00:00-04:00\",\"2019-10-02T00:00:00-04:00\",\"2019-10-03T00:00:00-04:00\",\"2019-10-04T00:00:00-04:00\",\"2019-10-07T00:00:00-04:00\",\"2019-10-08T00:00:00-04:00\",\"2019-10-09T00:00:00-04:00\",\"2019-10-10T00:00:00-04:00\",\"2019-10-11T00:00:00-04:00\",\"2019-10-14T00:00:00-04:00\",\"2019-10-15T00:00:00-04:00\",\"2019-10-16T00:00:00-04:00\",\"2019-10-17T00:00:00-04:00\",\"2019-10-18T00:00:00-04:00\",\"2019-10-21T00:00:00-04:00\",\"2019-10-22T00:00:00-04:00\",\"2019-10-23T00:00:00-04:00\",\"2019-10-24T00:00:00-04:00\",\"2019-10-25T00:00:00-04:00\",\"2019-10-28T00:00:00-04:00\",\"2019-10-29T00:00:00-04:00\",\"2019-10-30T00:00:00-04:00\",\"2019-10-31T00:00:00-04:00\",\"2019-11-01T00:00:00-04:00\",\"2019-11-04T00:00:00-05:00\",\"2019-11-05T00:00:00-05:00\",\"2019-11-06T00:00:00-05:00\",\"2019-11-07T00:00:00-05:00\",\"2019-11-08T00:00:00-05:00\",\"2019-11-11T00:00:00-05:00\",\"2019-11-12T00:00:00-05:00\",\"2019-11-13T00:00:00-05:00\",\"2019-11-14T00:00:00-05:00\",\"2019-11-15T00:00:00-05:00\",\"2019-11-18T00:00:00-05:00\",\"2019-11-19T00:00:00-05:00\",\"2019-11-20T00:00:00-05:00\",\"2019-11-21T00:00:00-05:00\",\"2019-11-22T00:00:00-05:00\",\"2019-11-25T00:00:00-05:00\",\"2019-11-26T00:00:00-05:00\",\"2019-11-27T00:00:00-05:00\",\"2019-11-29T00:00:00-05:00\",\"2019-12-02T00:00:00-05:00\",\"2019-12-03T00:00:00-05:00\",\"2019-12-04T00:00:00-05:00\",\"2019-12-05T00:00:00-05:00\",\"2019-12-06T00:00:00-05:00\",\"2019-12-09T00:00:00-05:00\",\"2019-12-10T00:00:00-05:00\",\"2019-12-11T00:00:00-05:00\",\"2019-12-12T00:00:00-05:00\",\"2019-12-13T00:00:00-05:00\",\"2019-12-16T00:00:00-05:00\",\"2019-12-17T00:00:00-05:00\",\"2019-12-18T00:00:00-05:00\",\"2019-12-19T00:00:00-05:00\",\"2019-12-20T00:00:00-05:00\",\"2019-12-23T00:00:00-05:00\",\"2019-12-24T00:00:00-05:00\",\"2019-12-26T00:00:00-05:00\",\"2019-12-27T00:00:00-05:00\",\"2019-12-30T00:00:00-05:00\"],\"xaxis\":\"x\",\"y\":[0.0,-0.056818167823853294,0.015151484053007369,0.07240010249371553,0.1023588250463312,0.10881542009903078,0.11630508021216945,0.0959021478935711,0.10614667553456791,0.1226756344015345,0.1235364535351835,0.14652200745484967,0.1965392525725438,0.15375346287792402,0.152203824237235,0.16253439274156656,0.18612256110481717,0.16813016866061714,0.15840221459987025,0.20566459218970623,0.2283057363558525,0.2505165120052044,0.30569900032503416,0.3357437637409846,0.2698002562999686,0.2227961655002575,0.25843662273519796,0.281852627271719,0.3169765930264701,0.3028580919338415,0.32085056647810206,0.3612258983983838,0.3920454400846485,0.2920970728126553,0.2955405956474324,0.7022211104049594,0.7012740041077945,0.6830233248734694,0.6787189829050433,0.7005853488008753,0.6797519658654221,0.6303374172913729,0.6462636796146946,0.6042527502904496,0.6253442558159068,0.6731232069859927,0.759469646745607,0.7889118778180333,0.766442733278496,0.792613605342875,0.7820248321484788,0.7540461167533465,0.7705749935202528,0.7730716563580462,0.8385847131822073,0.7468147434303327,0.6962810068324492,0.6093319526292504,0.5528581124588565,0.6056300609042877,0.7041149945990475,0.7745351720353402,0.7806473573345198,0.7838326754792324,0.7045453631158418,0.6918044189372328,0.7002410211474157,0.6771694263644148,0.7207300764294093,0.7248621724710451,0.7260674013582142,0.7403580662775726,0.7498278156482552,0.7113463679220615,0.7109159994052672,0.8167183472863755,0.8141356435852471,0.7888256727545777,0.848743117859809,0.8529614189649004,0.9446453478534405,0.9066804737074967,0.9044420976598282,0.9383609166274707,0.996900722718622,0.9420626441523123,0.873708596836898,0.9121040036997572,0.6349862511133795,0.5798036806934894,0.5216942431191323,0.5948690417831017,0.7207300764294093,0.7393250833171938,0.7047176090426319,0.7060088787931358,0.7134124980429397,0.7122933100191056,0.681215481542716,0.686466929808307,0.7397554518339882,0.7342458809783929,0.7380336493665693,0.7115186138488516,0.6995523658404965,0.9189910493693114,0.9998277540732097,1.0425275029044947,1.1095040754059498,1.1511708412768562,1.1466942533816398,1.0850550058089898,1.1253442968659368,1.1086431741722405,1.1359332342604538,1.110709304293119,1.1633952118752156,1.161587368544462,1.0776515507593065,1.0169594094838215,0.9531679909269581,0.9451617572335695,0.9925103398868611,0.9609159378302219,1.012482821588605,1.0162705899767812,1.0129992309687341,1.0469180499363766,1.063360885839948,1.0761880350820126,1.0612087148557352,1.0729166760739655,1.1009814323324325,1.136363602777248,1.0965908853005506,1.1021004561561458,1.0795454349533946,1.0257403393474638,1.1438532628903868,1.1128614752773318,1.138257486971336,1.197141784916068,1.3979854615570981,1.2413910902879817,1.2824552417153035,1.2667871019819859,1.278236940610212,1.2467285794169074,1.150309940043147,1.1683023324873472,1.214445522053349,1.3559745322328531,1.3410812528699103,1.195936556028899,1.278236940610212,1.155561224108617,1.0964186393737605,1.1403236170922146,1.0912533961716249,1.1532368071976138,1.2392389193037685,1.2369145023927652,1.121470323414305,1.1596074434870394,1.1187155379865077,1.1383436920347916,1.1528064386808197,1.1157885066319198,1.0228993488562108,1.0677512686717088,1.0980544009778446,1.0069730865328892,0.8394456144159168,0.8083677859395273,0.8225722457954301,0.8413394986100049,0.7862431332535704,0.8151686265456259,0.8358299277544099,0.7916666632458309,0.8111225713673247,0.7824552006652732,0.7469007842936672,0.6581438867597151,0.6751032962435364,0.6735537397029079,0.5905646998146756,0.6145832366947206,0.5804923360004086,0.583935940935246,0.6321452606221263,0.6163050391621394,0.6704544624215298,0.6394628390085957,0.6445420413473966,0.5982266058546046,0.7082472548408043,0.7328684061644337,0.8250689086332237,0.6859503562280571,0.7345902086318525,0.67708338550108,0.728994432712802,0.6340393090163354,0.653839544791289,0.6956783923888645,0.7443180805925391,0.8075929255691525,0.7846935767129417,0.8049241810046897,0.7286501050593424,0.748450340834296,0.7466424975035424,0.717716840011366,0.6737258214295772,0.659349115646884,0.6832816116635942,0.868199025981303,0.9270833239260348,0.9701274004107794,0.96349864153135,0.9727101041119077,0.9950928793878686,1.0357264980982754,1.0701618906461676,1.06671828571133,1.0980544009778446,1.211518490698761,1.2667010611186509,1.282799569368763,1.2670453887721105,0.9575585379588398,1.0446796738887079,1.1017561285026862,1.0697313579292524,1.1293905162443592,1.1478132772053535,1.1528064386808197,1.1563360844789918,1.12121203662418,1.1732954939628133,1.1852617419711682,1.15246211102736,1.1790633516085332,1.2616218587798502,1.270575034570283,1.3127582098213182,1.3071624339022674,1.3545970574188941,1.3446108986680825,1.1756197466736955],\"yaxis\":\"y\",\"type\":\"scattergl\"},{\"hovertemplate\":\"variable=SNAP\\u003cbr\\u003eindex=%{x}\\u003cbr\\u003evalue=%{y}\\u003cextra\\u003e\\u003c\\u002fextra\\u003e\",\"legendgroup\":\"SNAP\",\"line\":{\"color\":\"#FFA15A\",\"dash\":\"solid\"},\"marker\":{\"symbol\":\"circle\"},\"mode\":\"lines\",\"name\":\"SNAP\",\"showlegend\":true,\"x\":[\"2019-01-02T00:00:00-05:00\",\"2019-01-03T00:00:00-05:00\",\"2019-01-04T00:00:00-05:00\",\"2019-01-07T00:00:00-05:00\",\"2019-01-08T00:00:00-05:00\",\"2019-01-09T00:00:00-05:00\",\"2019-01-10T00:00:00-05:00\",\"2019-01-11T00:00:00-05:00\",\"2019-01-14T00:00:00-05:00\",\"2019-01-15T00:00:00-05:00\",\"2019-01-16T00:00:00-05:00\",\"2019-01-17T00:00:00-05:00\",\"2019-01-18T00:00:00-05:00\",\"2019-01-22T00:00:00-05:00\",\"2019-01-23T00:00:00-05:00\",\"2019-01-24T00:00:00-05:00\",\"2019-01-25T00:00:00-05:00\",\"2019-01-28T00:00:00-05:00\",\"2019-01-29T00:00:00-05:00\",\"2019-01-30T00:00:00-05:00\",\"2019-01-31T00:00:00-05:00\",\"2019-02-01T00:00:00-05:00\",\"2019-02-04T00:00:00-05:00\",\"2019-02-05T00:00:00-05:00\",\"2019-02-06T00:00:00-05:00\",\"2019-02-07T00:00:00-05:00\",\"2019-02-08T00:00:00-05:00\",\"2019-02-11T00:00:00-05:00\",\"2019-02-12T00:00:00-05:00\",\"2019-02-13T00:00:00-05:00\",\"2019-02-14T00:00:00-05:00\",\"2019-02-15T00:00:00-05:00\",\"2019-02-19T00:00:00-05:00\",\"2019-02-20T00:00:00-05:00\",\"2019-02-21T00:00:00-05:00\",\"2019-02-22T00:00:00-05:00\",\"2019-02-25T00:00:00-05:00\",\"2019-02-26T00:00:00-05:00\",\"2019-02-27T00:00:00-05:00\",\"2019-02-28T00:00:00-05:00\",\"2019-03-01T00:00:00-05:00\",\"2019-03-04T00:00:00-05:00\",\"2019-03-05T00:00:00-05:00\",\"2019-03-06T00:00:00-05:00\",\"2019-03-07T00:00:00-05:00\",\"2019-03-08T00:00:00-05:00\",\"2019-03-11T00:00:00-04:00\",\"2019-03-12T00:00:00-04:00\",\"2019-03-13T00:00:00-04:00\",\"2019-03-14T00:00:00-04:00\",\"2019-03-15T00:00:00-04:00\",\"2019-03-18T00:00:00-04:00\",\"2019-03-19T00:00:00-04:00\",\"2019-03-20T00:00:00-04:00\",\"2019-03-21T00:00:00-04:00\",\"2019-03-22T00:00:00-04:00\",\"2019-03-25T00:00:00-04:00\",\"2019-03-26T00:00:00-04:00\",\"2019-03-27T00:00:00-04:00\",\"2019-03-28T00:00:00-04:00\",\"2019-03-29T00:00:00-04:00\",\"2019-04-01T00:00:00-04:00\",\"2019-04-02T00:00:00-04:00\",\"2019-04-03T00:00:00-04:00\",\"2019-04-04T00:00:00-04:00\",\"2019-04-05T00:00:00-04:00\",\"2019-04-08T00:00:00-04:00\",\"2019-04-09T00:00:00-04:00\",\"2019-04-10T00:00:00-04:00\",\"2019-04-11T00:00:00-04:00\",\"2019-04-12T00:00:00-04:00\",\"2019-04-15T00:00:00-04:00\",\"2019-04-16T00:00:00-04:00\",\"2019-04-17T00:00:00-04:00\",\"2019-04-18T00:00:00-04:00\",\"2019-04-22T00:00:00-04:00\",\"2019-04-23T00:00:00-04:00\",\"2019-04-24T00:00:00-04:00\",\"2019-04-25T00:00:00-04:00\",\"2019-04-26T00:00:00-04:00\",\"2019-04-29T00:00:00-04:00\",\"2019-04-30T00:00:00-04:00\",\"2019-05-01T00:00:00-04:00\",\"2019-05-02T00:00:00-04:00\",\"2019-05-03T00:00:00-04:00\",\"2019-05-06T00:00:00-04:00\",\"2019-05-07T00:00:00-04:00\",\"2019-05-08T00:00:00-04:00\",\"2019-05-09T00:00:00-04:00\",\"2019-05-10T00:00:00-04:00\",\"2019-05-13T00:00:00-04:00\",\"2019-05-14T00:00:00-04:00\",\"2019-05-15T00:00:00-04:00\",\"2019-05-16T00:00:00-04:00\",\"2019-05-17T00:00:00-04:00\",\"2019-05-20T00:00:00-04:00\",\"2019-05-21T00:00:00-04:00\",\"2019-05-22T00:00:00-04:00\",\"2019-05-23T00:00:00-04:00\",\"2019-05-24T00:00:00-04:00\",\"2019-05-28T00:00:00-04:00\",\"2019-05-29T00:00:00-04:00\",\"2019-05-30T00:00:00-04:00\",\"2019-05-31T00:00:00-04:00\",\"2019-06-03T00:00:00-04:00\",\"2019-06-04T00:00:00-04:00\",\"2019-06-05T00:00:00-04:00\",\"2019-06-06T00:00:00-04:00\",\"2019-06-07T00:00:00-04:00\",\"2019-06-10T00:00:00-04:00\",\"2019-06-11T00:00:00-04:00\",\"2019-06-12T00:00:00-04:00\",\"2019-06-13T00:00:00-04:00\",\"2019-06-14T00:00:00-04:00\",\"2019-06-17T00:00:00-04:00\",\"2019-06-18T00:00:00-04:00\",\"2019-06-19T00:00:00-04:00\",\"2019-06-20T00:00:00-04:00\",\"2019-06-21T00:00:00-04:00\",\"2019-06-24T00:00:00-04:00\",\"2019-06-25T00:00:00-04:00\",\"2019-06-26T00:00:00-04:00\",\"2019-06-27T00:00:00-04:00\",\"2019-06-28T00:00:00-04:00\",\"2019-07-01T00:00:00-04:00\",\"2019-07-02T00:00:00-04:00\",\"2019-07-03T00:00:00-04:00\",\"2019-07-05T00:00:00-04:00\",\"2019-07-08T00:00:00-04:00\",\"2019-07-09T00:00:00-04:00\",\"2019-07-10T00:00:00-04:00\",\"2019-07-11T00:00:00-04:00\",\"2019-07-12T00:00:00-04:00\",\"2019-07-15T00:00:00-04:00\",\"2019-07-16T00:00:00-04:00\",\"2019-07-17T00:00:00-04:00\",\"2019-07-18T00:00:00-04:00\",\"2019-07-19T00:00:00-04:00\",\"2019-07-22T00:00:00-04:00\",\"2019-07-23T00:00:00-04:00\",\"2019-07-24T00:00:00-04:00\",\"2019-07-25T00:00:00-04:00\",\"2019-07-26T00:00:00-04:00\",\"2019-07-29T00:00:00-04:00\",\"2019-07-30T00:00:00-04:00\",\"2019-07-31T00:00:00-04:00\",\"2019-08-01T00:00:00-04:00\",\"2019-08-02T00:00:00-04:00\",\"2019-08-05T00:00:00-04:00\",\"2019-08-06T00:00:00-04:00\",\"2019-08-07T00:00:00-04:00\",\"2019-08-08T00:00:00-04:00\",\"2019-08-09T00:00:00-04:00\",\"2019-08-12T00:00:00-04:00\",\"2019-08-13T00:00:00-04:00\",\"2019-08-14T00:00:00-04:00\",\"2019-08-15T00:00:00-04:00\",\"2019-08-16T00:00:00-04:00\",\"2019-08-19T00:00:00-04:00\",\"2019-08-20T00:00:00-04:00\",\"2019-08-21T00:00:00-04:00\",\"2019-08-22T00:00:00-04:00\",\"2019-08-23T00:00:00-04:00\",\"2019-08-26T00:00:00-04:00\",\"2019-08-27T00:00:00-04:00\",\"2019-08-28T00:00:00-04:00\",\"2019-08-29T00:00:00-04:00\",\"2019-08-30T00:00:00-04:00\",\"2019-09-03T00:00:00-04:00\",\"2019-09-04T00:00:00-04:00\",\"2019-09-05T00:00:00-04:00\",\"2019-09-06T00:00:00-04:00\",\"2019-09-09T00:00:00-04:00\",\"2019-09-10T00:00:00-04:00\",\"2019-09-11T00:00:00-04:00\",\"2019-09-12T00:00:00-04:00\",\"2019-09-13T00:00:00-04:00\",\"2019-09-16T00:00:00-04:00\",\"2019-09-17T00:00:00-04:00\",\"2019-09-18T00:00:00-04:00\",\"2019-09-19T00:00:00-04:00\",\"2019-09-20T00:00:00-04:00\",\"2019-09-23T00:00:00-04:00\",\"2019-09-24T00:00:00-04:00\",\"2019-09-25T00:00:00-04:00\",\"2019-09-26T00:00:00-04:00\",\"2019-09-27T00:00:00-04:00\",\"2019-09-30T00:00:00-04:00\",\"2019-10-01T00:00:00-04:00\",\"2019-10-02T00:00:00-04:00\",\"2019-10-03T00:00:00-04:00\",\"2019-10-04T00:00:00-04:00\",\"2019-10-07T00:00:00-04:00\",\"2019-10-08T00:00:00-04:00\",\"2019-10-09T00:00:00-04:00\",\"2019-10-10T00:00:00-04:00\",\"2019-10-11T00:00:00-04:00\",\"2019-10-14T00:00:00-04:00\",\"2019-10-15T00:00:00-04:00\",\"2019-10-16T00:00:00-04:00\",\"2019-10-17T00:00:00-04:00\",\"2019-10-18T00:00:00-04:00\",\"2019-10-21T00:00:00-04:00\",\"2019-10-22T00:00:00-04:00\",\"2019-10-23T00:00:00-04:00\",\"2019-10-24T00:00:00-04:00\",\"2019-10-25T00:00:00-04:00\",\"2019-10-28T00:00:00-04:00\",\"2019-10-29T00:00:00-04:00\",\"2019-10-30T00:00:00-04:00\",\"2019-10-31T00:00:00-04:00\",\"2019-11-01T00:00:00-04:00\",\"2019-11-04T00:00:00-05:00\",\"2019-11-05T00:00:00-05:00\",\"2019-11-06T00:00:00-05:00\",\"2019-11-07T00:00:00-05:00\",\"2019-11-08T00:00:00-05:00\",\"2019-11-11T00:00:00-05:00\",\"2019-11-12T00:00:00-05:00\",\"2019-11-13T00:00:00-05:00\",\"2019-11-14T00:00:00-05:00\",\"2019-11-15T00:00:00-05:00\",\"2019-11-18T00:00:00-05:00\",\"2019-11-19T00:00:00-05:00\",\"2019-11-20T00:00:00-05:00\",\"2019-11-21T00:00:00-05:00\",\"2019-11-22T00:00:00-05:00\",\"2019-11-25T00:00:00-05:00\",\"2019-11-26T00:00:00-05:00\",\"2019-11-27T00:00:00-05:00\",\"2019-11-29T00:00:00-05:00\",\"2019-12-02T00:00:00-05:00\",\"2019-12-03T00:00:00-05:00\",\"2019-12-04T00:00:00-05:00\",\"2019-12-05T00:00:00-05:00\",\"2019-12-06T00:00:00-05:00\",\"2019-12-09T00:00:00-05:00\",\"2019-12-10T00:00:00-05:00\",\"2019-12-11T00:00:00-05:00\",\"2019-12-12T00:00:00-05:00\",\"2019-12-13T00:00:00-05:00\",\"2019-12-16T00:00:00-05:00\",\"2019-12-17T00:00:00-05:00\",\"2019-12-18T00:00:00-05:00\",\"2019-12-19T00:00:00-05:00\",\"2019-12-20T00:00:00-05:00\",\"2019-12-23T00:00:00-05:00\",\"2019-12-24T00:00:00-05:00\",\"2019-12-26T00:00:00-05:00\",\"2019-12-27T00:00:00-05:00\",\"2019-12-30T00:00:00-05:00\"],\"xaxis\":\"x\",\"y\":[0.0,-0.01899829606893466,0.027633825296417225,0.07253887375839096,0.10535408247553435,0.08462871350322132,0.07426594666176922,0.08462871350322132,0.08981001456865179,0.12953367960989937,-0.025906752393038968,-0.008635611582778147,0.06735749033766503,0.02417959713436524,0.03454228162052164,0.06563041743428655,0.10535408247553435,0.09499139798937772,0.11053538354096482,0.13471506303062553,0.1537132767442646,0.19343694178551218,0.1968911699475644,0.21588946601649917,0.48359243681907604,0.48013812630172836,0.5716753784843496,0.5526770000601193,0.5198618736982716,0.5664939127083279,0.587219281680641,0.5751295242911063,0.6027633495875235,0.5958548932634191,0.6217617280117538,0.6770293786045884,0.7478410971043055,0.740932640780201,0.6943006017701447,0.6925734465114708,0.6925734465114708,0.7132988154837838,0.740932640780201,0.7046632039010057,0.6390327864667189,0.6373056312080452,0.7202072718078882,0.7063903591596794,0.7357513397147706,0.9481864952139221,0.927461126241609,0.8894645341037397,0.835924038769579,0.8894645341037397,0.9015544562038655,0.8531950972245441,0.8514681066764616,0.8583765630005658,0.8376511940282527,0.8635578640659962,0.9032816114625395,0.9620034078621307,0.9378238930830611,0.927461126241609,0.9481864952139221,1.0449050484619735,1.1191710774790384,1.1329879901272473,1.0759931842757386,1.0552676505928344,1.0673575726929605,1.0466322037206477,1.018998213713639,1.029360980555091,1.0155440679068826,0.9913643884172219,1.070811718499717,0.9447323494071653,0.8635578640659962,0.8842832330383092,0.9378238930830611,0.9240069804348525,0.9343695825657135,0.9412780388898176,1.0379965921378695,1.0328152910724389,0.929188281500283,0.8687391651314267,0.8963729904278439,0.8117443592799183,0.7461139418456315,0.8117443592799183,0.8411053398350095,0.9723661747035828,0.9844559320931174,0.9326424273070395,0.9930915436758956,0.9533679609899437,0.9205526699175046,0.9965458541932435,0.998272844741326,1.0172712231655563,1.070811718499717,1.0535406600447517,1.018998213713639,1.2366148349888122,1.234887679730138,1.3868738835710244,1.3955094951538025,1.3782384366988376,1.3385146893022943,1.3747841261814897,1.4369602330984286,1.411053563060685,1.340241844560968,1.566493912708328,1.5336787863464805,1.5630397669015714,1.514680572632841,1.5492228542533626,1.5094991068568198,1.5405872426705844,1.518134718439598,1.4697755241708674,1.4784111357536456,1.4352332425503458,1.5492228542533626,1.630397174883941,1.6148532716876494,1.6338514854012884,1.6355786406599626,1.6891191359941233,1.6960275923182273,1.6770293786045882,1.5906735921979887,1.578583834808454,1.5129534173741672,1.4214163299021374,1.443868689422533,1.5613126116428977,2.041450902655217,2.055267815303426,2.089809932213356,2.022452524230987,1.9240069804348523,1.9015542914932744,1.8808290872315525,1.9412782036004086,1.842832330383092,1.8134716792491834,1.7478410971043052,1.8946459998797613,1.9326424273070395,1.903281446751948,1.9360967378243874,1.825561436638718,1.761658009752514,1.7599308544938403,1.7910189903076055,1.7772020776593966,1.7875646797902576,1.7772020776593966,1.6856649901873664,1.7823835434354183,1.6787565338632624,1.6856649901873664,1.7253885728733187,1.7340241844560969,1.7512954076216531,1.7288428833906662,1.7409326407802013,1.8704664851006916,1.6442142522427408,1.5941279027153366,1.6442142522427408,1.723661582325236,1.7633851650111878,1.7219344270665622,1.906735757269296,1.9188255146588307,1.9153712041414832,1.9430053588590828,1.9568222715072912,1.9430053588590828,1.9550951162486174,1.9360967378243874,1.7668394755285357,1.7288428833906662,1.6804836891219361,1.556131310577467,1.4697755241708674,1.507772116308737,1.4991365047259588,1.443868689422533,1.4542314562639849,1.4317789320329983,1.4455958446812067,1.3765112814401634,1.433506087291672,1.3609672135332809,1.37996542724692,1.3350605434955374,1.518134718439598,1.4179620193847895,1.2763385823853555,1.3350605434955374,1.411053563060685,1.5354059416051542,1.5284974852810498,1.566493912708328,1.601036359039441,1.6217617280117538,1.6511227085668447,1.5613126116428977,1.4887737378845065,1.4455958446812067,1.4507771457466374,1.48531959207775,1.4835924368190763,1.4991365047259588,1.481865281560402,1.4075992525433376,1.537132932153237,1.6183074174944059,1.6442142522427408,1.6044905048461975,1.6355786406599626,1.6770293786045882,1.6701209222804838,1.6511227085668447,1.6338514854012884,1.5215890289569454,1.5768566795497803,1.5906735921979887,1.5354059416051542,1.5457685437360151,1.4576856020707414,1.433506087291672,1.4576856020707414,1.495682194208611,1.6062176601048712,1.6096718059116277,1.607944815363545,1.6096718059116277,1.6701209222804838,1.6856649901873664,1.6753022233459145,1.6960275923182273,1.7582038639457576,1.7685666307872094,1.7443869512975487],\"yaxis\":\"y\",\"type\":\"scattergl\"}],                        {\"template\":{\"data\":{\"histogram2dcontour\":[{\"type\":\"histogram2dcontour\",\"colorbar\":{\"outlinewidth\":0,\"ticks\":\"\"},\"colorscale\":[[0.0,\"#0d0887\"],[0.1111111111111111,\"#46039f\"],[0.2222222222222222,\"#7201a8\"],[0.3333333333333333,\"#9c179e\"],[0.4444444444444444,\"#bd3786\"],[0.5555555555555556,\"#d8576b\"],[0.6666666666666666,\"#ed7953\"],[0.7777777777777778,\"#fb9f3a\"],[0.8888888888888888,\"#fdca26\"],[1.0,\"#f0f921\"]]}],\"choropleth\":[{\"type\":\"choropleth\",\"colorbar\":{\"outlinewidth\":0,\"ticks\":\"\"}}],\"histogram2d\":[{\"type\":\"histogram2d\",\"colorbar\":{\"outlinewidth\":0,\"ticks\":\"\"},\"colorscale\":[[0.0,\"#0d0887\"],[0.1111111111111111,\"#46039f\"],[0.2222222222222222,\"#7201a8\"],[0.3333333333333333,\"#9c179e\"],[0.4444444444444444,\"#bd3786\"],[0.5555555555555556,\"#d8576b\"],[0.6666666666666666,\"#ed7953\"],[0.7777777777777778,\"#fb9f3a\"],[0.8888888888888888,\"#fdca26\"],[1.0,\"#f0f921\"]]}],\"heatmap\":[{\"type\":\"heatmap\",\"colorbar\":{\"outlinewidth\":0,\"ticks\":\"\"},\"colorscale\":[[0.0,\"#0d0887\"],[0.1111111111111111,\"#46039f\"],[0.2222222222222222,\"#7201a8\"],[0.3333333333333333,\"#9c179e\"],[0.4444444444444444,\"#bd3786\"],[0.5555555555555556,\"#d8576b\"],[0.6666666666666666,\"#ed7953\"],[0.7777777777777778,\"#fb9f3a\"],[0.8888888888888888,\"#fdca26\"],[1.0,\"#f0f921\"]]}],\"heatmapgl\":[{\"type\":\"heatmapgl\",\"colorbar\":{\"outlinewidth\":0,\"ticks\":\"\"},\"colorscale\":[[0.0,\"#0d0887\"],[0.1111111111111111,\"#46039f\"],[0.2222222222222222,\"#7201a8\"],[0.3333333333333333,\"#9c179e\"],[0.4444444444444444,\"#bd3786\"],[0.5555555555555556,\"#d8576b\"],[0.6666666666666666,\"#ed7953\"],[0.7777777777777778,\"#fb9f3a\"],[0.8888888888888888,\"#fdca26\"],[1.0,\"#f0f921\"]]}],\"contourcarpet\":[{\"type\":\"contourcarpet\",\"colorbar\":{\"outlinewidth\":0,\"ticks\":\"\"}}],\"contour\":[{\"type\":\"contour\",\"colorbar\":{\"outlinewidth\":0,\"ticks\":\"\"},\"colorscale\":[[0.0,\"#0d0887\"],[0.1111111111111111,\"#46039f\"],[0.2222222222222222,\"#7201a8\"],[0.3333333333333333,\"#9c179e\"],[0.4444444444444444,\"#bd3786\"],[0.5555555555555556,\"#d8576b\"],[0.6666666666666666,\"#ed7953\"],[0.7777777777777778,\"#fb9f3a\"],[0.8888888888888888,\"#fdca26\"],[1.0,\"#f0f921\"]]}],\"surface\":[{\"type\":\"surface\",\"colorbar\":{\"outlinewidth\":0,\"ticks\":\"\"},\"colorscale\":[[0.0,\"#0d0887\"],[0.1111111111111111,\"#46039f\"],[0.2222222222222222,\"#7201a8\"],[0.3333333333333333,\"#9c179e\"],[0.4444444444444444,\"#bd3786\"],[0.5555555555555556,\"#d8576b\"],[0.6666666666666666,\"#ed7953\"],[0.7777777777777778,\"#fb9f3a\"],[0.8888888888888888,\"#fdca26\"],[1.0,\"#f0f921\"]]}],\"mesh3d\":[{\"type\":\"mesh3d\",\"colorbar\":{\"outlinewidth\":0,\"ticks\":\"\"}}],\"scatter\":[{\"fillpattern\":{\"fillmode\":\"overlay\",\"size\":10,\"solidity\":0.2},\"type\":\"scatter\"}],\"parcoords\":[{\"type\":\"parcoords\",\"line\":{\"colorbar\":{\"outlinewidth\":0,\"ticks\":\"\"}}}],\"scatterpolargl\":[{\"type\":\"scatterpolargl\",\"marker\":{\"colorbar\":{\"outlinewidth\":0,\"ticks\":\"\"}}}],\"bar\":[{\"error_x\":{\"color\":\"#2a3f5f\"},\"error_y\":{\"color\":\"#2a3f5f\"},\"marker\":{\"line\":{\"color\":\"#E5ECF6\",\"width\":0.5},\"pattern\":{\"fillmode\":\"overlay\",\"size\":10,\"solidity\":0.2}},\"type\":\"bar\"}],\"scattergeo\":[{\"type\":\"scattergeo\",\"marker\":{\"colorbar\":{\"outlinewidth\":0,\"ticks\":\"\"}}}],\"scatterpolar\":[{\"type\":\"scatterpolar\",\"marker\":{\"colorbar\":{\"outlinewidth\":0,\"ticks\":\"\"}}}],\"histogram\":[{\"marker\":{\"pattern\":{\"fillmode\":\"overlay\",\"size\":10,\"solidity\":0.2}},\"type\":\"histogram\"}],\"scattergl\":[{\"type\":\"scattergl\",\"marker\":{\"colorbar\":{\"outlinewidth\":0,\"ticks\":\"\"}}}],\"scatter3d\":[{\"type\":\"scatter3d\",\"line\":{\"colorbar\":{\"outlinewidth\":0,\"ticks\":\"\"}},\"marker\":{\"colorbar\":{\"outlinewidth\":0,\"ticks\":\"\"}}}],\"scattermapbox\":[{\"type\":\"scattermapbox\",\"marker\":{\"colorbar\":{\"outlinewidth\":0,\"ticks\":\"\"}}}],\"scatterternary\":[{\"type\":\"scatterternary\",\"marker\":{\"colorbar\":{\"outlinewidth\":0,\"ticks\":\"\"}}}],\"scattercarpet\":[{\"type\":\"scattercarpet\",\"marker\":{\"colorbar\":{\"outlinewidth\":0,\"ticks\":\"\"}}}],\"carpet\":[{\"aaxis\":{\"endlinecolor\":\"#2a3f5f\",\"gridcolor\":\"white\",\"linecolor\":\"white\",\"minorgridcolor\":\"white\",\"startlinecolor\":\"#2a3f5f\"},\"baxis\":{\"endlinecolor\":\"#2a3f5f\",\"gridcolor\":\"white\",\"linecolor\":\"white\",\"minorgridcolor\":\"white\",\"startlinecolor\":\"#2a3f5f\"},\"type\":\"carpet\"}],\"table\":[{\"cells\":{\"fill\":{\"color\":\"#EBF0F8\"},\"line\":{\"color\":\"white\"}},\"header\":{\"fill\":{\"color\":\"#C8D4E3\"},\"line\":{\"color\":\"white\"}},\"type\":\"table\"}],\"barpolar\":[{\"marker\":{\"line\":{\"color\":\"#E5ECF6\",\"width\":0.5},\"pattern\":{\"fillmode\":\"overlay\",\"size\":10,\"solidity\":0.2}},\"type\":\"barpolar\"}],\"pie\":[{\"automargin\":true,\"type\":\"pie\"}]},\"layout\":{\"autotypenumbers\":\"strict\",\"colorway\":[\"#636efa\",\"#EF553B\",\"#00cc96\",\"#ab63fa\",\"#FFA15A\",\"#19d3f3\",\"#FF6692\",\"#B6E880\",\"#FF97FF\",\"#FECB52\"],\"font\":{\"color\":\"#2a3f5f\"},\"hovermode\":\"closest\",\"hoverlabel\":{\"align\":\"left\"},\"paper_bgcolor\":\"white\",\"plot_bgcolor\":\"#E5ECF6\",\"polar\":{\"bgcolor\":\"#E5ECF6\",\"angularaxis\":{\"gridcolor\":\"white\",\"linecolor\":\"white\",\"ticks\":\"\"},\"radialaxis\":{\"gridcolor\":\"white\",\"linecolor\":\"white\",\"ticks\":\"\"}},\"ternary\":{\"bgcolor\":\"#E5ECF6\",\"aaxis\":{\"gridcolor\":\"white\",\"linecolor\":\"white\",\"ticks\":\"\"},\"baxis\":{\"gridcolor\":\"white\",\"linecolor\":\"white\",\"ticks\":\"\"},\"caxis\":{\"gridcolor\":\"white\",\"linecolor\":\"white\",\"ticks\":\"\"}},\"coloraxis\":{\"colorbar\":{\"outlinewidth\":0,\"ticks\":\"\"}},\"colorscale\":{\"sequential\":[[0.0,\"#0d0887\"],[0.1111111111111111,\"#46039f\"],[0.2222222222222222,\"#7201a8\"],[0.3333333333333333,\"#9c179e\"],[0.4444444444444444,\"#bd3786\"],[0.5555555555555556,\"#d8576b\"],[0.6666666666666666,\"#ed7953\"],[0.7777777777777778,\"#fb9f3a\"],[0.8888888888888888,\"#fdca26\"],[1.0,\"#f0f921\"]],\"sequentialminus\":[[0.0,\"#0d0887\"],[0.1111111111111111,\"#46039f\"],[0.2222222222222222,\"#7201a8\"],[0.3333333333333333,\"#9c179e\"],[0.4444444444444444,\"#bd3786\"],[0.5555555555555556,\"#d8576b\"],[0.6666666666666666,\"#ed7953\"],[0.7777777777777778,\"#fb9f3a\"],[0.8888888888888888,\"#fdca26\"],[1.0,\"#f0f921\"]],\"diverging\":[[0,\"#8e0152\"],[0.1,\"#c51b7d\"],[0.2,\"#de77ae\"],[0.3,\"#f1b6da\"],[0.4,\"#fde0ef\"],[0.5,\"#f7f7f7\"],[0.6,\"#e6f5d0\"],[0.7,\"#b8e186\"],[0.8,\"#7fbc41\"],[0.9,\"#4d9221\"],[1,\"#276419\"]]},\"xaxis\":{\"gridcolor\":\"white\",\"linecolor\":\"white\",\"ticks\":\"\",\"title\":{\"standoff\":15},\"zerolinecolor\":\"white\",\"automargin\":true,\"zerolinewidth\":2},\"yaxis\":{\"gridcolor\":\"white\",\"linecolor\":\"white\",\"ticks\":\"\",\"title\":{\"standoff\":15},\"zerolinecolor\":\"white\",\"automargin\":true,\"zerolinewidth\":2},\"scene\":{\"xaxis\":{\"backgroundcolor\":\"#E5ECF6\",\"gridcolor\":\"white\",\"linecolor\":\"white\",\"showbackground\":true,\"ticks\":\"\",\"zerolinecolor\":\"white\",\"gridwidth\":2},\"yaxis\":{\"backgroundcolor\":\"#E5ECF6\",\"gridcolor\":\"white\",\"linecolor\":\"white\",\"showbackground\":true,\"ticks\":\"\",\"zerolinecolor\":\"white\",\"gridwidth\":2},\"zaxis\":{\"backgroundcolor\":\"#E5ECF6\",\"gridcolor\":\"white\",\"linecolor\":\"white\",\"showbackground\":true,\"ticks\":\"\",\"zerolinecolor\":\"white\",\"gridwidth\":2}},\"shapedefaults\":{\"line\":{\"color\":\"#2a3f5f\"}},\"annotationdefaults\":{\"arrowcolor\":\"#2a3f5f\",\"arrowhead\":0,\"arrowwidth\":1},\"geo\":{\"bgcolor\":\"white\",\"landcolor\":\"#E5ECF6\",\"subunitcolor\":\"white\",\"showland\":true,\"showlakes\":true,\"lakecolor\":\"white\"},\"title\":{\"x\":0.05},\"mapbox\":{\"style\":\"light\"}}},\"xaxis\":{\"anchor\":\"y\",\"domain\":[0.0,1.0],\"title\":{\"text\":\"index\"}},\"yaxis\":{\"anchor\":\"x\",\"domain\":[0.0,1.0],\"title\":{\"text\":\"value\"}},\"legend\":{\"title\":{\"text\":\"variable\"},\"tracegroupgap\":0},\"margin\":{\"t\":60}},                        {\"responsive\": true}                    ).then(function(){\n",
       "                            \n",
       "var gd = document.getElementById('77390652-5fa9-44ae-8bc8-2a2c6bd9e361');\n",
       "var x = new MutationObserver(function (mutations, observer) {{\n",
       "        var display = window.getComputedStyle(gd).display;\n",
       "        if (!display || display === 'none') {{\n",
       "            console.log([gd, 'removed!']);\n",
       "            Plotly.purge(gd);\n",
       "            observer.disconnect();\n",
       "        }}\n",
       "}});\n",
       "\n",
       "// Listen for the removal of the full notebook cells\n",
       "var notebookContainer = gd.closest('#notebook-container');\n",
       "if (notebookContainer) {{\n",
       "    x.observe(notebookContainer, {childList: true});\n",
       "}}\n",
       "\n",
       "// Listen for the clearing of the current output cell\n",
       "var outputEl = gd.closest('.output');\n",
       "if (outputEl) {{\n",
       "    x.observe(outputEl, {childList: true});\n",
       "}}\n",
       "\n",
       "                        })                };                });            </script>        </div>"
      ]
     },
     "metadata": {},
     "output_type": "display_data"
    }
   ],
   "source": [
    "px.line(stock_rets)"
   ]
  },
  {
   "cell_type": "code",
   "execution_count": null,
   "id": "28a35973",
   "metadata": {},
   "outputs": [],
   "source": []
  }
 ],
 "metadata": {
  "kernelspec": {
   "display_name": "Python 3 (ipykernel)",
   "language": "python",
   "name": "python3"
  },
  "language_info": {
   "codemirror_mode": {
    "name": "ipython",
    "version": 3
   },
   "file_extension": ".py",
   "mimetype": "text/x-python",
   "name": "python",
   "nbconvert_exporter": "python",
   "pygments_lexer": "ipython3",
   "version": "3.10.6"
  }
 },
 "nbformat": 4,
 "nbformat_minor": 5
}
